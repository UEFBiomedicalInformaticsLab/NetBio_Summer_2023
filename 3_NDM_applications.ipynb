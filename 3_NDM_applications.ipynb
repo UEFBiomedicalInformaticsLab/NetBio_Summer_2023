{
  "cells": [
    {
      "cell_type": "markdown",
      "source": "## Introduction to network-based analysis in biomedicine with python (Part 3)\n\n#### Topic overview:\n\n##### 1. Proximities in biological network\n\n##### 2. Disease-disease relationship\n\n##### 3. Drug repurposing",
      "metadata": {
        "tags": [],
        "deepnote_cell_height": 274,
        "cell_id": "80cc6753652f40bb97d2bd931536a5cb",
        "deepnote_cell_type": "markdown"
      },
      "block_group": "d6073a678ae547319a5531e0cc3d4859"
    },
    {
      "cell_type": "markdown",
      "source": "### Proximities in Network Medicine\n<i>\"Network Medicine combines principles and approaches from network sciences, systems biology, and human dynamics to understand the causes of human diseases and develop new treatments.\"</i>\n(From <a href=\"https://www.network-medicine.org/\" target=\"_blank\">Network Medicine Institute and Global Alliance</a>)\n\nNetwork-based proximities between nodes can be used for a wide-range of applications including identifying disease-disease relationships, drug efficacy screening, drug repurposing, and drug combination identification. Simply put, the distances between the nodes or groups of nodes representing disease genes or drug targets within a protein-protein interaction (PPI) network can be used to identify which two diseases are pathobiologically similar or if a drug already approved for one disease can be used for another disease. While distances between any two individual nodes in a network can be easily calulated as the shortest path between them, there might be different ways how we define distances or network proximity between groups of nodes. \n\nIn this tutorial, we focus on a series of studies from <a href=\"https://www.barabasilab.com/\" target=\"_blank\">Barabasi-LAB</a> that utilized network-based proximities in network medicine. In their works, Barabasi's group has explored five different types of network-based proximity measures between genesets or modules within a PPI network. The different network-based proximity measures are explained below.\n\n<img style=\"border:1px solid black;\" src=\"Figures/Network_proximities_illustrations.png\" alt=\"Network proximities\" width=100%/>\n\n<b>Figure:</b> Network-based proximity measures\nImage from: <a href=\"https://doi.org/10.1038/ncomms10331\" target=\"_blank\">Network-based in silico drug efficacy screening</a>\n\n\n\nFor example, given ${P}$, the set of disease proteins, ${T}$, the set of drug targets and ${d(p,t)}$, the shortest path length between nodes ${p}$ and ${t}$ in the network, we define:\n\n<b>Closest:</b> mean of the minimum distances of genes in ${T}$ to the genes in ${P}$. It considers the shortest path lengths from each target to the closest disease protein.\n\n$$\n\\text{d}_{c}{(P,T)} =  \\frac{1}{||T||}\\sum_{t \\in T}\\min_{p \\in P}\\text{d(p,t)}\n$$\n\n<b>Shortest:</b> mean of the mean distances of genes in ${T}$ to all the genes in ${P}$. It averages over all shortest path lengths to the disease protein.\n\n$$\n\\text{d}_{p}{(P,T)} = \\frac{1}{||T||}\\sum_{t \\in T}\\frac{1}{||P||}\\sum_{p \\in P}\\text{d(p,t)}\n$$\n\n<b>Kernel:</b> a transformation that downweights longer paths using an exponential penalty.\n\n$$\n\\text{d}_{k}{(P,T)} = \\frac{-1}{||T||}\\sum_{t \\in T}\\ln\\sum_{p \\in P}\\frac{e^{-(d(p,t)+1)}}{|P|}\n$$\n\n<b>Centre:</b> mean of the distances of genes in ${T}$ to the topological centre of the genes in ${P}$. \n\n$$\n\\text{d}_{cc}{(P,T)} = \\frac{1}{||T||}\\text{d(centre}_{p}{,t)}\n$$\n\nwhere ${centre}_{P}$, the topological centre of ${P}$ was defined as:\n\n$$\n\\text{centre}_{P} = {argmin}_{u \\in P}\\sum_{p \\in P} {d(p, u)}\n$$\n\nin case the ${centre}_{P}$ is not unique, all the nodes are used to define the centre and the shortest path lengths to these nodes are averages.\n\nBased on these proximity measures, they also recently introduced a network separation measure between two protein sets or modules. The network-based separation $S_{PT}$ can be quantified by comparing the mean shortest distances $\\langle d_{PP} \\rangle$ and $\\langle d_{TT} \\rangle$ within the respective sets of proteins, to the mean shortest distance $\\langle d_{PT} \\rangle$ between the two sets of proteins:\n\n$$\n\\text{S}_{PT} \\equiv \\langle{d}_{PT}\\rangle - \\frac{\\langle{d}_{PP}\\rangle + \\langle{d}_{TT}\\rangle}{2}\n$$\n\nWe explain this network-based separation measure and its application a little further down this tutorial.\n\nWhile we define here the proximity measures between drug targets and disease proteins, the measures can be generalised for any two sets of proteins (or genes). Barabasi et al have used these measures with minor modifications for different tasks and have been defined within the respective papers.\n\n<b>Further reading:</b>\n- <a href=\"https://doi.org/10.1126/science.1257601\" target=\"_blank\">Uncovering disease-disease relationships through the incomplete interactome (2015)</a>\n- <a href=\"https://doi.org/10.1038/ncomms10331\" target=\"_blank\">Network-based in silico drug efficacy screening (2016)</a>\n- <a href=\"https://doi.org/10.1038/s41467-019-09186-x\" target=\"_blank\">Network-based prediction of drug combinations (2019)</a>\n- <a href=\"https://doi.org/10.1073/pnas.2025581118\" target=\"_blank\">Network medicine framework for identifying drug-repurposing opportunities for COVID-19 (2021)</a>",
      "metadata": {
        "tags": [],
        "deepnote_cell_height": 1805.8125,
        "cell_id": "3ac4d60391db493c80eac044191a5f57",
        "deepnote_cell_type": "markdown"
      },
      "block_group": "28f2ab4c3efd4077aad5db8ce7bfbd76"
    },
    {
      "cell_type": "markdown",
      "source": "#### Drug repurposing for COVID-19\n\nHere, we demonstrate how we can use these network-based proximity measures for repurposing drugs for Covid-19, an infectious disease caused by the SARS-CoV-2 virus. The tutorial is based on the study <a href=\"https://doi.org/10.1073/pnas.2025581118\" target=\"_blank\"><em>Network medicine framework for identifying drug-repurposing opportunities for COVID-19</em></a> from Barabasi Lab.",
      "metadata": {
        "tags": [],
        "deepnote_cell_height": 133.171875,
        "cell_id": "413d9a40b29c443a9f1fa851fdbf3313",
        "deepnote_cell_type": "markdown"
      },
      "block_group": "fa717c149820466a9e31c0500bb5ba87"
    },
    {
      "cell_type": "markdown",
      "source": "Let us start by importing the necessary python modules.  ",
      "metadata": {
        "tags": [],
        "deepnote_cell_height": 52.390625,
        "cell_id": "4f2f158118f346baa6944a961ab26171",
        "deepnote_cell_type": "markdown"
      },
      "block_group": "b30df59bb2c84beab466e3447d4f64cf"
    },
    {
      "cell_type": "code",
      "source": "# Import python modules\nimport networkx as nx\nimport numpy as np\nimport pandas as pd\nimport separation # from Barabasi-lab",
      "metadata": {
        "tags": [],
        "source_hash": "3208a3af",
        "execution_start": 1660215728433,
        "execution_millis": 120,
        "deepnote_cell_height": 148,
        "deepnote_to_be_reexecuted": false,
        "cell_id": "4b69b42d22e544dfb240c0a449e24c12",
        "deepnote_cell_type": "code"
      },
      "outputs": [],
      "execution_count": null,
      "block_group": "809000afee2949809dc5eed9d2f56e9b"
    },
    {
      "cell_type": "markdown",
      "source": "Here, the source code <em>separation.py</em> computes network-based separation between two input genesets. The separation.py file has been sourced from <a href=\"https://github.com/Barabasi-Lab/COVID-19/blob/main/utils/separation.py\" target=\"_blank\">GitHub</a>.",
      "metadata": {
        "tags": [],
        "deepnote_cell_height": 74.78125,
        "cell_id": "55b1076fc95c4f1d963a843f33bd2a42",
        "deepnote_cell_type": "markdown"
      },
      "block_group": "ad6385d8fb4e4c3e8f6bca3b8387e83c"
    },
    {
      "cell_type": "code",
      "source": "# Import python modules for visualizations\nimport tqdm\nimport matplotlib.pylab as plt\nimport seaborn as sns\nsns.set_style('whitegrid')\n\n%matplotlib inline",
      "metadata": {
        "tags": [],
        "source_hash": "7e1c2726",
        "execution_start": 1660215728561,
        "execution_millis": 4712,
        "deepnote_cell_height": 184,
        "deepnote_to_be_reexecuted": false,
        "cell_id": "9f2ebd4b91cc485e9a7375cee8858663",
        "deepnote_cell_type": "code"
      },
      "outputs": [],
      "execution_count": null,
      "block_group": "a6fcd36900124a86b499969e2598d058"
    },
    {
      "cell_type": "markdown",
      "source": "##### Human protein-protein interaction network\nFirst, we upload known PPIs compiled from different annotation databases and then build a network with *NetworkX*",
      "metadata": {
        "tags": [],
        "deepnote_cell_height": 88.390625,
        "cell_id": "33fbafd0b22848278069dd266aab5591",
        "deepnote_cell_type": "markdown"
      },
      "block_group": "f9f662f06a5149bd99d6349183b508a0"
    },
    {
      "cell_type": "code",
      "source": "ppi = pd.read_csv('./Data/Barabasi_CoV2_PPI.csv')\nppi.head()",
      "metadata": {
        "tags": [],
        "source_hash": "9dfadd47",
        "execution_start": 1660215733283,
        "execution_millis": 811,
        "deepnote_cell_height": 408,
        "deepnote_to_be_reexecuted": false,
        "cell_id": "e762878c224d4f8caf36d709b9594aa1",
        "deepnote_cell_type": "code"
      },
      "outputs": [
        {
          "output_type": "execute_result",
          "execution_count": 3,
          "data": {
            "application/vnd.deepnote.dataframe.v3+json": {
              "column_count": 3,
              "row_count": 5,
              "columns": [
                {
                  "name": "proteinA_entrezid",
                  "dtype": "int64",
                  "stats": {
                    "unique_count": 5,
                    "nan_count": 0,
                    "min": "4899",
                    "max": "9796",
                    "histogram": [
                      {
                        "bin_start": 4899,
                        "bin_end": 5388.7,
                        "count": 2
                      },
                      {
                        "bin_start": 5388.7,
                        "bin_end": 5878.4,
                        "count": 0
                      },
                      {
                        "bin_start": 5878.4,
                        "bin_end": 6368.1,
                        "count": 0
                      },
                      {
                        "bin_start": 6368.1,
                        "bin_end": 6857.8,
                        "count": 0
                      },
                      {
                        "bin_start": 6857.8,
                        "bin_end": 7347.5,
                        "count": 0
                      },
                      {
                        "bin_start": 7347.5,
                        "bin_end": 7837.2,
                        "count": 0
                      },
                      {
                        "bin_start": 7837.2,
                        "bin_end": 8326.9,
                        "count": 2
                      },
                      {
                        "bin_start": 8326.9,
                        "bin_end": 8816.6,
                        "count": 0
                      },
                      {
                        "bin_start": 8816.6,
                        "bin_end": 9306.3,
                        "count": 0
                      },
                      {
                        "bin_start": 9306.3,
                        "bin_end": 9796,
                        "count": 1
                      }
                    ]
                  }
                },
                {
                  "name": "proteinB_entrezid",
                  "dtype": "int64",
                  "stats": {
                    "unique_count": 5,
                    "nan_count": 0,
                    "min": "8601",
                    "max": "56992",
                    "histogram": [
                      {
                        "bin_start": 8601,
                        "bin_end": 13440.1,
                        "count": 3
                      },
                      {
                        "bin_start": 13440.1,
                        "bin_end": 18279.2,
                        "count": 0
                      },
                      {
                        "bin_start": 18279.2,
                        "bin_end": 23118.300000000003,
                        "count": 0
                      },
                      {
                        "bin_start": 23118.300000000003,
                        "bin_end": 27957.4,
                        "count": 1
                      },
                      {
                        "bin_start": 27957.4,
                        "bin_end": 32796.5,
                        "count": 0
                      },
                      {
                        "bin_start": 32796.5,
                        "bin_end": 37635.600000000006,
                        "count": 0
                      },
                      {
                        "bin_start": 37635.600000000006,
                        "bin_end": 42474.700000000004,
                        "count": 0
                      },
                      {
                        "bin_start": 42474.700000000004,
                        "bin_end": 47313.8,
                        "count": 0
                      },
                      {
                        "bin_start": 47313.8,
                        "bin_end": 52152.9,
                        "count": 0
                      },
                      {
                        "bin_start": 52152.9,
                        "bin_end": 56992,
                        "count": 1
                      }
                    ]
                  }
                },
                {
                  "name": "databases",
                  "dtype": "object",
                  "stats": {
                    "unique_count": 4,
                    "nan_count": 0,
                    "categories": [
                      {
                        "name": "bioplex|HIPPIE",
                        "count": 2
                      },
                      {
                        "name": "instruct|hiunion|APID|biogrid|HINT-binary|intact",
                        "count": 1
                      },
                      {
                        "name": "2 others",
                        "count": 2
                      }
                    ]
                  }
                },
                {
                  "name": "_deepnote_index_column",
                  "dtype": "int64"
                }
              ],
              "rows": [
                {
                  "proteinA_entrezid": 9796,
                  "proteinB_entrezid": 56992,
                  "databases": "bioplex|HIPPIE",
                  "_deepnote_index_column": 0
                },
                {
                  "proteinA_entrezid": 7918,
                  "proteinB_entrezid": 9240,
                  "databases": "instruct|hiunion|APID|biogrid|HINT-binary|intact",
                  "_deepnote_index_column": 1
                },
                {
                  "proteinA_entrezid": 8233,
                  "proteinB_entrezid": 23548,
                  "databases": "bioplex|HIPPIE",
                  "_deepnote_index_column": 2
                },
                {
                  "proteinA_entrezid": 4899,
                  "proteinB_entrezid": 11253,
                  "databases": "encode",
                  "_deepnote_index_column": 3
                },
                {
                  "proteinA_entrezid": 5297,
                  "proteinB_entrezid": 8601,
                  "databases": "bioplex",
                  "_deepnote_index_column": 4
                }
              ]
            },
            "text/plain": "   proteinA_entrezid  proteinB_entrezid  \\\n0               9796              56992   \n1               7918               9240   \n2               8233              23548   \n3               4899              11253   \n4               5297               8601   \n\n                                          databases  \n0                                    bioplex|HIPPIE  \n1  instruct|hiunion|APID|biogrid|HINT-binary|intact  \n2                                    bioplex|HIPPIE  \n3                                            encode  \n4                                           bioplex  ",
            "text/html": "<div>\n<style scoped>\n    .dataframe tbody tr th:only-of-type {\n        vertical-align: middle;\n    }\n\n    .dataframe tbody tr th {\n        vertical-align: top;\n    }\n\n    .dataframe thead th {\n        text-align: right;\n    }\n</style>\n<table border=\"1\" class=\"dataframe\">\n  <thead>\n    <tr style=\"text-align: right;\">\n      <th></th>\n      <th>proteinA_entrezid</th>\n      <th>proteinB_entrezid</th>\n      <th>databases</th>\n    </tr>\n  </thead>\n  <tbody>\n    <tr>\n      <th>0</th>\n      <td>9796</td>\n      <td>56992</td>\n      <td>bioplex|HIPPIE</td>\n    </tr>\n    <tr>\n      <th>1</th>\n      <td>7918</td>\n      <td>9240</td>\n      <td>instruct|hiunion|APID|biogrid|HINT-binary|intact</td>\n    </tr>\n    <tr>\n      <th>2</th>\n      <td>8233</td>\n      <td>23548</td>\n      <td>bioplex|HIPPIE</td>\n    </tr>\n    <tr>\n      <th>3</th>\n      <td>4899</td>\n      <td>11253</td>\n      <td>encode</td>\n    </tr>\n    <tr>\n      <th>4</th>\n      <td>5297</td>\n      <td>8601</td>\n      <td>bioplex</td>\n    </tr>\n  </tbody>\n</table>\n</div>"
          },
          "metadata": {}
        }
      ],
      "execution_count": null,
      "block_group": "a4ae01133312430fa5ccd1d56e48ca49"
    },
    {
      "cell_type": "code",
      "source": "print(ppi.shape) # how many interactions?\nprint(len(set(ppi['proteinA_entrezid']).union(set(ppi['proteinB_entrezid'])))) # how many proteins?",
      "metadata": {
        "tags": [],
        "source_hash": "c4146e",
        "execution_start": 1660215733821,
        "execution_millis": 296,
        "deepnote_cell_height": 145.375,
        "deepnote_to_be_reexecuted": false,
        "cell_id": "556873b535a14e65afa14e6d381bf2cf",
        "deepnote_cell_type": "code"
      },
      "outputs": [
        {
          "name": "stdout",
          "text": "(327924, 3)\n18505\n",
          "output_type": "stream"
        }
      ],
      "execution_count": null,
      "block_group": "ab84d59b889e4518a0a020605c9fd49d"
    },
    {
      "cell_type": "code",
      "source": "# Count the number of interactions sourced from each database\ncount_dbs = ppi['databases'].value_counts()\nfig, ax = plt.subplots(1, 1, figsize=(10, 5))\ncount_dbs.loc[count_dbs > 10000].plot(ax=ax, kind='bar')\nplt.show()",
      "metadata": {
        "tags": [],
        "source_hash": "b0aac8fd",
        "execution_start": 1660215734146,
        "execution_millis": 587,
        "deepnote_cell_height": 530,
        "deepnote_output_heights": [
          366
        ],
        "deepnote_to_be_reexecuted": false,
        "cell_id": "562d6b158d5b4f74a9b44d0f553525a2",
        "deepnote_cell_type": "code"
      },
      "outputs": [
        {
          "data": {
            "text/plain": "<Figure size 720x360 with 1 Axes>",
            "image/png": "[encoded data removed]"
          },
          "metadata": {
            "needs_background": "light",
            "image/png": {
              "width": 610,
              "height": 364
            }
          },
          "output_type": "display_data"
        }
      ],
      "execution_count": null,
      "block_group": "34f3de78187840dfa3cc3e0ff7d31cec"
    },
    {
      "cell_type": "code",
      "source": "# now we create a graph object by using the python module networkx\nedges = zip(ppi.proteinA_entrezid, ppi.proteinB_entrezid)\nppi = nx.Graph()\nppi.add_edges_from(edges)",
      "metadata": {
        "tags": [],
        "source_hash": "6daa9723",
        "execution_start": 1660215734739,
        "execution_millis": 1450,
        "deepnote_cell_height": 130,
        "deepnote_to_be_reexecuted": false,
        "cell_id": "33e57923a1d147c1bb74d084c093a34f",
        "deepnote_cell_type": "code"
      },
      "outputs": [],
      "execution_count": null,
      "block_group": "d7a2ab836d24458b8cee7646cd78994e"
    },
    {
      "cell_type": "markdown",
      "source": "<p style=\"padding: 10px 10px 30px 10px; border: 2px solid red;\">\n<b>Box 1: Exercise</b>\nHow many connected components are there in the network? Extract the largest connected component.\n</p>",
      "metadata": {
        "tags": [],
        "source_hash": "405319a5",
        "execution_start": 1660198034906,
        "execution_millis": 4,
        "deepnote_cell_height": 141.171875,
        "deepnote_to_be_reexecuted": false,
        "cell_id": "df78efaabbf24ec0a40e3ff3a49c3154",
        "deepnote_cell_type": "markdown"
      },
      "block_group": "1c955bd2654c494894a9d2ff0edebc4a"
    },
    {
      "cell_type": "code",
      "source": "# extract the connected components \ngraphs = (ppi.subgraph(c).copy() for c in nx.connected_components(ppi))\n\nprint(\"Number of connected components:\", nx.number_connected_components(ppi))\n\n# let's check the number of edges and node of each connected component\nfor g in graphs:\n    if g.number_of_nodes() == 1: # skip the iteration if the connected component contains only one node\n        continue\n    else:\n        print(\"--------------\")\n        print(g.number_of_nodes())\n        print(g.number_of_edges())",
      "metadata": {
        "tags": [],
        "source_hash": "1907f6d8",
        "is_code_hidden": true,
        "output_cleared": true,
        "execution_start": 1660215736192,
        "execution_millis": 6739,
        "deepnote_cell_height": 74.796875,
        "deepnote_to_be_reexecuted": false,
        "cell_id": "746bddd4416f41fb84ed4b46fb3ae7d1",
        "deepnote_cell_type": "code"
      },
      "outputs": [],
      "execution_count": null,
      "block_group": "a0b120bc7f1948e3bec12bfe6c85d2d2"
    },
    {
      "cell_type": "code",
      "source": "# select the largest connected component\nG = list(ppi.subgraph(c).copy() for c in sorted(nx.connected_components(ppi), key = len, reverse = True))[0]\nprint(len(G.nodes()), len(G.edges()))",
      "metadata": {
        "tags": [],
        "source_hash": "8eab3a0a",
        "execution_start": 1660215742854,
        "execution_millis": 5495,
        "deepnote_cell_height": 148.1875,
        "deepnote_to_be_reexecuted": false,
        "cell_id": "78ebd680fb7349f0a028cc2b4fd93afe",
        "deepnote_cell_type": "code"
      },
      "outputs": [
        {
          "name": "stdout",
          "text": "18446 327868\n",
          "output_type": "stream"
        }
      ],
      "execution_count": null,
      "block_group": "7f703cac542f40e397b76255c4da9701"
    },
    {
      "cell_type": "code",
      "source": "# remove self-loops\nG.remove_edges_from(nx.selfloop_edges(G))",
      "metadata": {
        "tags": [],
        "source_hash": "2257d31e",
        "execution_start": 1660215748361,
        "execution_millis": 48,
        "deepnote_cell_height": 94,
        "deepnote_to_be_reexecuted": false,
        "cell_id": "49328652276346e39c3e2731de3e1361",
        "deepnote_cell_type": "code"
      },
      "outputs": [],
      "execution_count": null,
      "block_group": "ea93832e85da48eebeb4c7298906b4fe"
    },
    {
      "cell_type": "markdown",
      "source": "##### SARS-CoV-2 targets in human\nLet us now upload the known associations between SARS-CoV-2 proteins and human proteins. ",
      "metadata": {
        "tags": [],
        "deepnote_cell_height": 88.390625,
        "cell_id": "373fafd1d40443dab29716b419e0c9bb",
        "deepnote_cell_type": "markdown"
      },
      "block_group": "cdce4678e53e43bb8c7302d346964194"
    },
    {
      "cell_type": "code",
      "source": "dt = pd.read_csv('./Data/SARSCoV2_Targets.csv')\ndt.head()",
      "metadata": {
        "tags": [],
        "source_hash": "4d588db3",
        "execution_start": 1660215748418,
        "execution_millis": 45,
        "deepnote_cell_height": 408,
        "deepnote_to_be_reexecuted": false,
        "cell_id": "036b011dec7648f7929e4f87033f54be",
        "deepnote_cell_type": "code"
      },
      "outputs": [
        {
          "output_type": "execute_result",
          "execution_count": 10,
          "data": {
            "application/vnd.deepnote.dataframe.v3+json": {
              "column_count": 3,
              "row_count": 5,
              "columns": [
                {
                  "name": "SARS",
                  "dtype": "object",
                  "stats": {
                    "unique_count": 1,
                    "nan_count": 0,
                    "categories": [
                      {
                        "name": "sars-cov2e",
                        "count": 5
                      }
                    ]
                  }
                },
                {
                  "name": "EntrezID",
                  "dtype": "int64",
                  "stats": {
                    "unique_count": 5,
                    "nan_count": 0,
                    "min": "6046",
                    "max": "124245",
                    "histogram": [
                      {
                        "bin_start": 6046,
                        "bin_end": 17865.9,
                        "count": 3
                      },
                      {
                        "bin_start": 17865.9,
                        "bin_end": 29685.8,
                        "count": 1
                      },
                      {
                        "bin_start": 29685.8,
                        "bin_end": 41505.7,
                        "count": 0
                      },
                      {
                        "bin_start": 41505.7,
                        "bin_end": 53325.6,
                        "count": 0
                      },
                      {
                        "bin_start": 53325.6,
                        "bin_end": 65145.5,
                        "count": 0
                      },
                      {
                        "bin_start": 65145.5,
                        "bin_end": 76965.4,
                        "count": 0
                      },
                      {
                        "bin_start": 76965.4,
                        "bin_end": 88785.3,
                        "count": 0
                      },
                      {
                        "bin_start": 88785.3,
                        "bin_end": 100605.2,
                        "count": 0
                      },
                      {
                        "bin_start": 100605.2,
                        "bin_end": 112425.09999999999,
                        "count": 0
                      },
                      {
                        "bin_start": 112425.09999999999,
                        "bin_end": 124245,
                        "count": 1
                      }
                    ]
                  }
                },
                {
                  "name": "Symbol",
                  "dtype": "object",
                  "stats": {
                    "unique_count": 5,
                    "nan_count": 0,
                    "categories": [
                      {
                        "name": "AP3B1",
                        "count": 1
                      },
                      {
                        "name": "BRD4",
                        "count": 1
                      },
                      {
                        "name": "3 others",
                        "count": 3
                      }
                    ]
                  }
                },
                {
                  "name": "_deepnote_index_column",
                  "dtype": "int64"
                }
              ],
              "rows": [
                {
                  "SARS": "sars-cov2e",
                  "EntrezID": 8546,
                  "Symbol": "AP3B1",
                  "_deepnote_index_column": 0
                },
                {
                  "SARS": "sars-cov2e",
                  "EntrezID": 23476,
                  "Symbol": "BRD4",
                  "_deepnote_index_column": 1
                },
                {
                  "SARS": "sars-cov2e",
                  "EntrezID": 6046,
                  "Symbol": "BRD2",
                  "_deepnote_index_column": 2
                },
                {
                  "SARS": "sars-cov2e",
                  "EntrezID": 10283,
                  "Symbol": "CWC27",
                  "_deepnote_index_column": 3
                },
                {
                  "SARS": "sars-cov2e",
                  "EntrezID": 124245,
                  "Symbol": "ZC3H18",
                  "_deepnote_index_column": 4
                }
              ]
            },
            "text/plain": "         SARS  EntrezID  Symbol\n0  sars-cov2e      8546   AP3B1\n1  sars-cov2e     23476    BRD4\n2  sars-cov2e      6046    BRD2\n3  sars-cov2e     10283   CWC27\n4  sars-cov2e    124245  ZC3H18",
            "text/html": "<div>\n<style scoped>\n    .dataframe tbody tr th:only-of-type {\n        vertical-align: middle;\n    }\n\n    .dataframe tbody tr th {\n        vertical-align: top;\n    }\n\n    .dataframe thead th {\n        text-align: right;\n    }\n</style>\n<table border=\"1\" class=\"dataframe\">\n  <thead>\n    <tr style=\"text-align: right;\">\n      <th></th>\n      <th>SARS</th>\n      <th>EntrezID</th>\n      <th>Symbol</th>\n    </tr>\n  </thead>\n  <tbody>\n    <tr>\n      <th>0</th>\n      <td>sars-cov2e</td>\n      <td>8546</td>\n      <td>AP3B1</td>\n    </tr>\n    <tr>\n      <th>1</th>\n      <td>sars-cov2e</td>\n      <td>23476</td>\n      <td>BRD4</td>\n    </tr>\n    <tr>\n      <th>2</th>\n      <td>sars-cov2e</td>\n      <td>6046</td>\n      <td>BRD2</td>\n    </tr>\n    <tr>\n      <th>3</th>\n      <td>sars-cov2e</td>\n      <td>10283</td>\n      <td>CWC27</td>\n    </tr>\n    <tr>\n      <th>4</th>\n      <td>sars-cov2e</td>\n      <td>124245</td>\n      <td>ZC3H18</td>\n    </tr>\n  </tbody>\n</table>\n</div>"
          },
          "metadata": {}
        }
      ],
      "execution_count": null,
      "block_group": "96705f98db98426ab9dedf9618bd045e"
    },
    {
      "cell_type": "markdown",
      "source": "Are all the human protein targets of the SARS-CoV-2 virus present in the interactome?",
      "metadata": {
        "tags": [],
        "deepnote_cell_height": 52.390625,
        "cell_id": "b521e3ef78a0472fb3f2d03c4f7f1b9e",
        "deepnote_cell_type": "markdown"
      },
      "block_group": "51b3335258914fdf9728c7bf592a61ab"
    },
    {
      "cell_type": "code",
      "source": "# check if the PPI includes all knonw SARS-CoV-2 targets\nprint(dt.shape)\nprint(len(set(G.nodes()).intersection(set(dt['EntrezID']))))",
      "metadata": {
        "tags": [],
        "source_hash": "9a15a85f",
        "execution_start": 1660215748465,
        "execution_millis": 14,
        "deepnote_cell_height": 163.375,
        "deepnote_to_be_reexecuted": false,
        "cell_id": "127cfefaad624104ac6bdc97f2d17b0c",
        "deepnote_cell_type": "code"
      },
      "outputs": [
        {
          "name": "stdout",
          "text": "(332, 3)\n332\n",
          "output_type": "stream"
        }
      ],
      "execution_count": null,
      "block_group": "f84e77cf727d4490ab59aec005c360d3"
    },
    {
      "cell_type": "markdown",
      "source": "<p style=\"padding: 10px 10px 30px 10px; border: 2px solid red;\">\n<b>Box 2: Exercise</b>\nExtract sub-network of the human proteins known to interact with SARS-CoV-2 virus and plot the network of the top 10 most central proteins by degree.\n</p>",
      "metadata": {
        "tags": [],
        "deepnote_cell_height": 163.5625,
        "cell_id": "190e388400c44787afb18c097977e2d4",
        "deepnote_cell_type": "markdown"
      },
      "block_group": "0b305c200bcd4d09b209942768ed3e59"
    },
    {
      "cell_type": "code",
      "source": "# extract a subgraph by selecting SARSCoV2 targets and all the edges between them\nH = nx.Graph(G.subgraph(list(dt['EntrezID'])))\nprint(len(H.edges()))\n\n# sort the nodes based (descending order) based on degree centrality \ndegCent_sorted = [item[0] for item in sorted(H.degree, key=lambda x: x[1], reverse=True)]\n\n# extract a subgraph of the top 10 central nodes\nH2 = nx.Graph(H.subgraph(degCent_sorted[0:10]))\nprint(len(H2.edges()))\n\n# find isolated nodes\nisolated_nodes = list(nx.isolates(H2))\nprint(isolated_nodes)\n\n# remove isolated nodes\nH2.remove_nodes_from(isolated_nodes)\n\n# print out remaining node names\nprint(H2.nodes())\n\n#plt.subplot(111)\nprint(\"The Subgraph:\")\nnx.draw_circular(H2, node_color='orange', with_labels = True)",
      "metadata": {
        "tags": [],
        "source_hash": "344b3dc2",
        "is_code_hidden": true,
        "output_cleared": true,
        "execution_start": 1660215748545,
        "execution_millis": 264,
        "deepnote_cell_height": 74.796875,
        "deepnote_to_be_reexecuted": false,
        "cell_id": "b109588775904599826df2bdf4899cb9",
        "deepnote_cell_type": "code"
      },
      "outputs": [],
      "execution_count": null,
      "block_group": "998d0295e4ee442eaf63d86ccbc16e2b"
    },
    {
      "cell_type": "markdown",
      "source": "<p style=\"padding: 10px 10px 30px 10px; border: 2px solid red;\">\n<b>Box 3: Exercise</b>\nIdentify communities in the sub-network of the human proteins targeted by SARS-CoV-2 virus using Girvan-Newman method. \nEvaluate the partition based on modularity, coverage and performance.\nHow many communities were detected? Print number of nodes in eah community.\n</p>",
      "metadata": {
        "tags": [],
        "deepnote_cell_height": 185.953125,
        "cell_id": "5feb852abb36463ca554d403347d0b58",
        "deepnote_cell_type": "markdown"
      },
      "block_group": "b17376674262495f9c0eb889f660a35c"
    },
    {
      "cell_type": "code",
      "source": "from networkx.algorithms.community.centrality import girvan_newman\nfrom networkx.algorithms import community\n\n# find and remove isolated nodes\nisolated_nodes = list(nx.isolates(H))\nH.remove_nodes_from(isolated_nodes)\n\n# identify communities\ncommunities = girvan_newman(H)\nnode_groups = tuple(sorted(c) for c in next(communities))",
      "metadata": {
        "tags": [],
        "source_hash": "1404ae02",
        "is_code_hidden": true,
        "execution_start": 1660215748816,
        "execution_millis": 568,
        "deepnote_cell_height": 74.796875,
        "deepnote_to_be_reexecuted": false,
        "cell_id": "c9ee6f0a9501495993cbaab5580274c5",
        "deepnote_cell_type": "code"
      },
      "outputs": [],
      "execution_count": null,
      "block_group": "9116f6dbfc2d4326b2faf27c129ffeb3"
    },
    {
      "cell_type": "code",
      "source": "# evaluating the quality of partition\nprint(\"Coverage: \", community.coverage(H, node_groups))\nprint(\"Performance: \", community.performance(H, node_groups))\nprint(\"Modularity: \", community.modularity(H, node_groups))",
      "metadata": {
        "tags": [],
        "source_hash": "aa93c619",
        "is_code_hidden": true,
        "output_cleared": true,
        "execution_start": 1660215749436,
        "execution_millis": 191,
        "deepnote_cell_height": 74.796875,
        "deepnote_to_be_reexecuted": false,
        "cell_id": "05fbef9ec2764e03bcd6071d9242e08b",
        "deepnote_cell_type": "code"
      },
      "outputs": [],
      "execution_count": null,
      "block_group": "8b8d3aecd92c4b25a4943eed6cc27e86"
    },
    {
      "cell_type": "code",
      "source": "# check how many communities were detected and how big they are\nprint(len(node_groups))\nprint([len(com) for com in node_groups])\n\n# select the communities with at least twenty five nodes\nnode_groups = [com for com in node_groups if len(com) > 25]\nprint(len(node_groups))\n\n# define the color map\ncolor_map = []\nfor node in H:\n    if node in node_groups[0]:\n        color_map.append('blue')\n    else:\n        color_map.append('green')\n        \nnx.draw(H, node_color=color_map, with_labels=False,  node_size = 30)\nplt.show()",
      "metadata": {
        "tags": [],
        "source_hash": "8771d45c",
        "is_code_hidden": true,
        "output_cleared": true,
        "execution_start": 1660215749652,
        "execution_millis": 265,
        "deepnote_cell_height": 74.796875,
        "deepnote_to_be_reexecuted": false,
        "cell_id": "a060f59ca970481387d61985adbb87c2",
        "deepnote_cell_type": "code"
      },
      "outputs": [],
      "execution_count": null,
      "block_group": "903be8b2def3422a8fdcc99f698a3430"
    },
    {
      "cell_type": "markdown",
      "source": "### Disease-disease relationship\nThe first objective of this NDM application is to study the association between COVID-19 and other diseases. Understanding disease-disease relationships can help in identifying pathobiological similarities between diseases and can aid in drug repurposing between similar diseases.\n\nTo this end we need to upload known disease-gene associations.",
      "metadata": {
        "tags": [],
        "deepnote_cell_height": 181.5625,
        "cell_id": "9d4a59e1ba064d2095cb7a8733938b60",
        "deepnote_cell_type": "markdown"
      },
      "block_group": "f82d9f6c534b4805a6d2c7b00b4d3da1"
    },
    {
      "cell_type": "code",
      "source": "# Disease-gene associations were retrieved from OMIM and GWAS catalog using UniProtKB and PheGenI \ndisease2genes = {}\nfor i in open('./Data/Guney2016_GenesDisease.tsv').readlines():\n    v = i.rstrip().split('\\t')\n    disease = v[1]\n    genes = v[2:]\n    if len(genes) > 19:\n        disease2genes[disease] = [int(i) for i in genes]\n\n# Total number of diseases\nprint(len(disease2genes)) ",
      "metadata": {
        "tags": [],
        "source_hash": "b1d69aad",
        "execution_start": 1660215749975,
        "execution_millis": 3,
        "deepnote_cell_height": 287.1875,
        "deepnote_to_be_reexecuted": false,
        "cell_id": "30d90c355a3d45fa9a976fe443fe33d2",
        "deepnote_cell_type": "code"
      },
      "outputs": [
        {
          "name": "stdout",
          "text": "299\n",
          "output_type": "stream"
        }
      ],
      "execution_count": null,
      "block_group": "c7b103087f894fc49bc29eed4deccab4"
    },
    {
      "cell_type": "code",
      "source": "diseasegenes = list(disease2genes.values())\ndiseasegenes = sum(diseasegenes, [])\ndiseasegenes = list(set(diseasegenes))\nlen(diseasegenes)",
      "metadata": {
        "tags": [],
        "source_hash": "c80d5597",
        "execution_start": 1660215750023,
        "execution_millis": 3,
        "deepnote_cell_height": 167.1875,
        "deepnote_output_heights": [
          21.1875
        ],
        "deepnote_to_be_reexecuted": false,
        "cell_id": "e6acd9540e9c4623969851119a53480e",
        "deepnote_cell_type": "code"
      },
      "outputs": [
        {
          "output_type": "execute_result",
          "execution_count": 17,
          "data": {
            "text/plain": "3173"
          },
          "metadata": {}
        }
      ],
      "execution_count": null,
      "block_group": "af9609612dd74cc8b99adb71602c2459"
    },
    {
      "cell_type": "markdown",
      "source": "<b>Network separation between the SARS-CoV-2 targets and known targets of other diseases</b>\n\n<b>Network-based localization measures</b>\n\nNetwork-based proximity is based on network-based localization measures. The figure below is an example of disease genes (red) that form one connected cluster of six genes, one cluster of two genes and one gene without connection to other disease genes. The size of the observable module is therefore given by S = 6. For three genes, A,B and C, the respective shortest distance to the next closest other disease gene is shown. \n\n<img src=\"Figures/Network_localization.png\" alt=\"drawing\" width=\"500\">\n<b>Figure:</b> Illustration of network based localization measure.\nImage from <a href=\"https://doi.org/10.1126/science.1257601\" target=\"_blank\">Uncovering disease-disease relationships through the incomplete interactome</a>\n\n<br>\n<b>Network separation</b>\n\nNetwork-based separation $S_{AB}$ between proteins of two diseases ${A}$ and ${B}$ can be quantified by comparing the mean shortest distances $\\langle d_{AA} \\rangle$ and $\\langle d_{BB} \\rangle$ within the respective diseases, to the mean shortest distance $\\langle d_{AB} \\rangle$ between the proteins of the two diseases. It is defined as:\n\n$$\n\\text{S}_{AB} \\equiv \\langle{d}_{AB}\\rangle - \\frac{\\langle{d}_{AA}\\rangle + \\langle{d}_{BB}\\rangle}{2}\n$$\n\nThe figure below shows the network-based separation measure for two diseases A (blue) and B (red) with one shared protein (“c”). The tables on the right give the values of the mean shortest distances within the diseases, $\\langle d_{AA} \\rangle$ and $\\langle d_{BB} \\rangle$, as well as the distances for all protein pairs between them, $\\langle d_{AB} \\rangle$. \n\n<img src=\"Figures/Network_based_separation.png\" alt=\"drawing\" width=\"700\">\n<b>Figure:</b> Illustration of network-based separation between two diseases.\nImage from <a href=\"https://doi.org/10.1126/science.1257601\" target=\"_blank\">Uncovering disease-disease relationships through the incomplete interactome</a>\n\n\nA positive $S_{AB}$ indicates that the two disease modules are separated on the interactome, whereas negative values correspond to overlapping modules.",
      "metadata": {
        "tags": [],
        "deepnote_cell_height": 1507.6875,
        "cell_id": "ac0d28cb071d46529f2d6eb6f8d15529",
        "deepnote_cell_type": "markdown"
      },
      "block_group": "156ceb14208344bdb0f460eeec302ce3"
    },
    {
      "cell_type": "markdown",
      "source": "Let us compute the overlap of proteins targeted by SARS-CoV-2 in human with genes associated with six diseases.",
      "metadata": {
        "tags": [],
        "deepnote_cell_height": 52.390625,
        "cell_id": "c14c5a52e409429894000ce795d9feae",
        "deepnote_cell_type": "markdown"
      },
      "block_group": "5c4c7f51ccd0457482fe0f2ae7e34f03"
    },
    {
      "cell_type": "code",
      "source": "select_diseases = [\"neurodegenerative diseases\", \"cardiovascular diseases\", \"peroxisomal disorders\", \"sarcoma\", \"psoriasis\", \"osteoporosis\" ]\ndisease2genes = {key: disease2genes[key] for key in select_diseases}\n\n# Print number of genes associated with each disease\nfor key in disease2genes.keys():\n    print(key, len(disease2genes[key]))",
      "metadata": {
        "tags": [],
        "source_hash": "6edc1bcc",
        "execution_start": 1660215750024,
        "execution_millis": 2,
        "deepnote_cell_height": 303.125,
        "deepnote_to_be_reexecuted": false,
        "cell_id": "da1d60a2ea7f4cb099751e45afee0cce",
        "deepnote_cell_type": "code"
      },
      "outputs": [
        {
          "name": "stdout",
          "text": "neurodegenerative diseases 281\ncardiovascular diseases 462\nperoxisomal disorders 20\nsarcoma 27\npsoriasis 77\nosteoporosis 23\n",
          "output_type": "stream"
        }
      ],
      "execution_count": null,
      "block_group": "df5623282ba845aabd9ad555b6deb4ba"
    },
    {
      "cell_type": "code",
      "source": "# Calculate network-based separation \nsab = {}\nfor disease in tqdm.tqdm(disease2genes.keys()):\n# for disease in tqdm.tqdm(list(disease2genes.keys())[0:5]):\n\n    genes_A = set(dt.EntrezID) & set(G.nodes())\n    genes_B = set(disease2genes[disease]) & set(G.nodes())\n    d_A = separation.calc_single_set_distance(G,genes_A)\n    d_B = separation.calc_single_set_distance(G,genes_B)\n\n    # distances BETWEEN the two gene sets:\n    d_AB = separation.calc_set_pair_distances(G,genes_A,genes_B)\n\n    # calculate separation\n    s_AB = d_AB - (d_A + d_B)/2.\n    sab[disease] = s_AB",
      "metadata": {
        "tags": [],
        "source_hash": "8cdcccf",
        "execution_start": 1660215750025,
        "execution_millis": 76046,
        "deepnote_cell_height": 377.1875,
        "deepnote_to_be_reexecuted": false,
        "cell_id": "5482448b26544444977cd05f2aaa661a",
        "deepnote_cell_type": "code"
      },
      "outputs": [
        {
          "name": "stderr",
          "text": "100%|██████████| 6/6 [01:15<00:00, 12.66s/it]\n",
          "output_type": "stream"
        }
      ],
      "execution_count": null,
      "block_group": "2e0d0beeb2b64b1dadcca564ffb681c3"
    },
    {
      "cell_type": "code",
      "source": "dx = pd.DataFrame.from_dict(sab, orient='index')\ndx = dx.reset_index()\ndx.columns = ['disease', 'sab']\ndx.sort_values(by = \"sab\", ascending = True).reset_index(drop = True)",
      "metadata": {
        "tags": [],
        "source_hash": "2b21b03e",
        "execution_start": 1660215826139,
        "execution_millis": 1152549,
        "deepnote_cell_height": 517,
        "deepnote_table_state": {
          "sortBy": [
            {
              "id": "sab",
              "type": "desc"
            }
          ],
          "filters": [],
          "pageSize": 100,
          "pageIndex": 0
        },
        "deepnote_table_invalid": false,
        "deepnote_table_loading": false,
        "deepnote_to_be_reexecuted": false,
        "cell_id": "04b729cdfc244fa2a0a5401b072ada78",
        "deepnote_cell_type": "code"
      },
      "outputs": [
        {
          "output_type": "execute_result",
          "execution_count": 20,
          "data": {
            "application/vnd.deepnote.dataframe.v3+json": {
              "column_count": 2,
              "row_count": 6,
              "columns": [
                {
                  "name": "disease",
                  "dtype": "object",
                  "stats": {
                    "unique_count": 6,
                    "nan_count": 0,
                    "categories": [
                      {
                        "name": "peroxisomal disorders",
                        "count": 1
                      },
                      {
                        "name": "sarcoma",
                        "count": 1
                      },
                      {
                        "name": "4 others",
                        "count": 4
                      }
                    ]
                  }
                },
                {
                  "name": "sab",
                  "dtype": "float64",
                  "stats": {
                    "unique_count": 6,
                    "nan_count": 0,
                    "min": "0.0340618090071485",
                    "max": "0.8262458926615552",
                    "histogram": [
                      {
                        "bin_start": 0.0340618090071485,
                        "bin_end": 0.11328021737258917,
                        "count": 2
                      },
                      {
                        "bin_start": 0.11328021737258917,
                        "bin_end": 0.19249862573802984,
                        "count": 0
                      },
                      {
                        "bin_start": 0.19249862573802984,
                        "bin_end": 0.2717170341034705,
                        "count": 0
                      },
                      {
                        "bin_start": 0.2717170341034705,
                        "bin_end": 0.3509354424689112,
                        "count": 2
                      },
                      {
                        "bin_start": 0.3509354424689112,
                        "bin_end": 0.43015385083435187,
                        "count": 0
                      },
                      {
                        "bin_start": 0.43015385083435187,
                        "bin_end": 0.5093722591997925,
                        "count": 0
                      },
                      {
                        "bin_start": 0.5093722591997925,
                        "bin_end": 0.5885906675652331,
                        "count": 1
                      },
                      {
                        "bin_start": 0.5885906675652331,
                        "bin_end": 0.6678090759306738,
                        "count": 0
                      },
                      {
                        "bin_start": 0.6678090759306738,
                        "bin_end": 0.7470274842961145,
                        "count": 0
                      },
                      {
                        "bin_start": 0.7470274842961145,
                        "bin_end": 0.8262458926615552,
                        "count": 1
                      }
                    ]
                  }
                },
                {
                  "name": "_deepnote_index_column",
                  "dtype": "int64"
                }
              ],
              "rows": [
                {
                  "disease": "peroxisomal disorders",
                  "sab": 0.8262458926615552,
                  "_deepnote_index_column": 5
                },
                {
                  "disease": "sarcoma",
                  "sab": 0.5695037966785124,
                  "_deepnote_index_column": 4
                },
                {
                  "disease": "psoriasis",
                  "sab": 0.3060773707073192,
                  "_deepnote_index_column": 3
                },
                {
                  "disease": "osteoporosis",
                  "sab": 0.298515012430675,
                  "_deepnote_index_column": 2
                },
                {
                  "disease": "cardiovascular diseases",
                  "sab": 0.06642706172931678,
                  "_deepnote_index_column": 1
                },
                {
                  "disease": "neurodegenerative diseases",
                  "sab": 0.0340618090071485,
                  "_deepnote_index_column": 0
                }
              ]
            },
            "text/plain": "                      disease       sab\n0  neurodegenerative diseases  0.034062\n1     cardiovascular diseases  0.066427\n2                osteoporosis  0.298515\n3                   psoriasis  0.306077\n4                     sarcoma  0.569504\n5       peroxisomal disorders  0.826246",
            "text/html": "<div>\n<style scoped>\n    .dataframe tbody tr th:only-of-type {\n        vertical-align: middle;\n    }\n\n    .dataframe tbody tr th {\n        vertical-align: top;\n    }\n\n    .dataframe thead th {\n        text-align: right;\n    }\n</style>\n<table border=\"1\" class=\"dataframe\">\n  <thead>\n    <tr style=\"text-align: right;\">\n      <th></th>\n      <th>disease</th>\n      <th>sab</th>\n    </tr>\n  </thead>\n  <tbody>\n    <tr>\n      <th>0</th>\n      <td>neurodegenerative diseases</td>\n      <td>0.034062</td>\n    </tr>\n    <tr>\n      <th>1</th>\n      <td>cardiovascular diseases</td>\n      <td>0.066427</td>\n    </tr>\n    <tr>\n      <th>2</th>\n      <td>osteoporosis</td>\n      <td>0.298515</td>\n    </tr>\n    <tr>\n      <th>3</th>\n      <td>psoriasis</td>\n      <td>0.306077</td>\n    </tr>\n    <tr>\n      <th>4</th>\n      <td>sarcoma</td>\n      <td>0.569504</td>\n    </tr>\n    <tr>\n      <th>5</th>\n      <td>peroxisomal disorders</td>\n      <td>0.826246</td>\n    </tr>\n  </tbody>\n</table>\n</div>"
          },
          "metadata": {}
        }
      ],
      "execution_count": null,
      "block_group": "97b2ef39ff8f400bb15b027291ec5e35"
    },
    {
      "cell_type": "markdown",
      "source": "Here we can see that the genes associated with neurodegenerative diseases are the closest to the genes/proteins targeted by SARS-CoV-2 while genes associated with peroxisomal disorders are the farthest in the network. Further, since none of the diseases have negative $S_{AB}$ values, none of the diseases have genes overlapping with SARS-CoV-2 targets.",
      "metadata": {
        "tags": [],
        "deepnote_cell_height": 97.171875,
        "cell_id": "5d0d13f4c62c489f91f26c7cdbb78009",
        "deepnote_cell_type": "markdown"
      },
      "block_group": "d8f562ca30f344ca962018c3b8fcf5cd"
    },
    {
      "cell_type": "code",
      "source": "# dx.to_csv('./Outputs/sab_virustargets.csv')",
      "metadata": {
        "tags": [],
        "source_hash": "a7aa44d2",
        "execution_start": 1660215826183,
        "execution_millis": 1152558,
        "deepnote_cell_height": 76,
        "deepnote_to_be_reexecuted": false,
        "cell_id": "b96792643a164192a7eccf4bc88becc4",
        "deepnote_cell_type": "code"
      },
      "outputs": [],
      "execution_count": null,
      "block_group": "c38a539b6d9649359c959966691e93f1"
    },
    {
      "cell_type": "code",
      "source": "# Distribution of separation measure\nfig, ax = plt.subplots(1,1)\nsns.distplot(dx['sab'],ax=ax)\nax.set_xlabel('$S_{ab}$')\nax.set_ylabel('Density')\n# fig.savefig('./Outputs/sab_virus_dist.png', dpi = 300)\nplt.show()",
      "metadata": {
        "tags": [],
        "source_hash": "cc67d5f7",
        "execution_start": 1660215826184,
        "execution_millis": 631,
        "deepnote_cell_height": 538.375,
        "deepnote_output_heights": [
          null,
          268
        ],
        "deepnote_to_be_reexecuted": false,
        "cell_id": "93133690c2a94578b417f0026b1f4f4f",
        "deepnote_cell_type": "code"
      },
      "outputs": [
        {
          "name": "stderr",
          "text": "/shared-libs/python3.9/py/lib/python3.9/site-packages/seaborn/distributions.py:2619: FutureWarning: `distplot` is a deprecated function and will be removed in a future version. Please adapt your code to use either `displot` (a figure-level function with similar flexibility) or `histplot` (an axes-level function for histograms).\n  warnings.warn(msg, FutureWarning)\n",
          "output_type": "stream"
        },
        {
          "data": {
            "text/plain": "<Figure size 432x288 with 1 Axes>",
            "image/png": "[encoded data removed]"
          },
          "metadata": {
            "needs_background": "light",
            "image/png": {
              "width": 386,
              "height": 266
            }
          },
          "output_type": "display_data"
        }
      ],
      "execution_count": null,
      "block_group": "8293ea91a11c4ea995e1fb36233bbf5b"
    },
    {
      "cell_type": "markdown",
      "source": "### Drug repurposing\n<b>Drug repurposing opportunities by crossing known SARS-CoV2 target (genes) with knonw drug-target associations</b>\n\nSimilar to using the network-based separation measure to study the overlap between the genes of two diseases, we can use it to understand the overlap between genes associated to diseases and known targets of drugs.\n\nWe measure the network proximity between drug–targets (A) and  SARS-CoV2-targets (B) as: \n\n$$\n\\text{S}_{AB} \\equiv \\langle{d}_{AB}\\rangle - \\frac{\\langle{d}_{AA}\\rangle + \\langle{d}_{BB}\\rangle}{2}\n$$\n\nFor $S_{AB}$ < 0, the targets of the two drugs are located in the same network neighborhood, while for $S_{AB}$ ≥ 0, the two target sets are topologically separated. ",
      "metadata": {
        "tags": [],
        "deepnote_cell_height": 304.125,
        "cell_id": "b60c2dfb354f4ddd845c1799b653f7be",
        "deepnote_cell_type": "markdown"
      },
      "block_group": "c6ddff3e6d2543d6accaef4abe1d7232"
    },
    {
      "cell_type": "code",
      "source": "# Read known drug-gene associations\ndrug_gene_ixn = pd.read_csv(\"Data/drug2targets.csv\")\ndrug_gene_ixn.head()",
      "metadata": {
        "tags": [],
        "source_hash": "c89434e1",
        "execution_start": 1660215826855,
        "execution_millis": 351,
        "deepnote_cell_height": 443,
        "deepnote_to_be_reexecuted": false,
        "cell_id": "455cec4d1c364cf3acc7e272e27bfb3d",
        "deepnote_cell_type": "code"
      },
      "outputs": [
        {
          "output_type": "execute_result",
          "execution_count": 23,
          "data": {
            "application/vnd.deepnote.dataframe.v3+json": {
              "column_count": 14,
              "row_count": 5,
              "columns": [
                {
                  "name": "Unnamed: 0",
                  "dtype": "int64",
                  "stats": {
                    "unique_count": 5,
                    "nan_count": 0,
                    "min": "0",
                    "max": "4",
                    "histogram": [
                      {
                        "bin_start": 0,
                        "bin_end": 0.4,
                        "count": 1
                      },
                      {
                        "bin_start": 0.4,
                        "bin_end": 0.8,
                        "count": 0
                      },
                      {
                        "bin_start": 0.8,
                        "bin_end": 1.2000000000000002,
                        "count": 1
                      },
                      {
                        "bin_start": 1.2000000000000002,
                        "bin_end": 1.6,
                        "count": 0
                      },
                      {
                        "bin_start": 1.6,
                        "bin_end": 2,
                        "count": 0
                      },
                      {
                        "bin_start": 2,
                        "bin_end": 2.4000000000000004,
                        "count": 1
                      },
                      {
                        "bin_start": 2.4000000000000004,
                        "bin_end": 2.8000000000000003,
                        "count": 0
                      },
                      {
                        "bin_start": 2.8000000000000003,
                        "bin_end": 3.2,
                        "count": 1
                      },
                      {
                        "bin_start": 3.2,
                        "bin_end": 3.6,
                        "count": 0
                      },
                      {
                        "bin_start": 3.6,
                        "bin_end": 4,
                        "count": 1
                      }
                    ]
                  }
                },
                {
                  "name": "type",
                  "dtype": "object",
                  "stats": {
                    "unique_count": 1,
                    "nan_count": 0,
                    "categories": [
                      {
                        "name": "biotech",
                        "count": 5
                      }
                    ]
                  }
                },
                {
                  "name": "ID",
                  "dtype": "object",
                  "stats": {
                    "unique_count": 2,
                    "nan_count": 0,
                    "categories": [
                      {
                        "name": "DB00002",
                        "count": 4
                      },
                      {
                        "name": "DB00001",
                        "count": 1
                      }
                    ]
                  }
                },
                {
                  "name": "Name",
                  "dtype": "object",
                  "stats": {
                    "unique_count": 2,
                    "nan_count": 0,
                    "categories": [
                      {
                        "name": "Cetuximab",
                        "count": 4
                      },
                      {
                        "name": "Lepirudin",
                        "count": 1
                      }
                    ]
                  }
                },
                {
                  "name": "State",
                  "dtype": "object",
                  "stats": {
                    "unique_count": 1,
                    "nan_count": 0,
                    "categories": [
                      {
                        "name": "liquid",
                        "count": 5
                      }
                    ]
                  }
                },
                {
                  "name": "Approved",
                  "dtype": "object",
                  "stats": {
                    "unique_count": 1,
                    "nan_count": 0,
                    "categories": [
                      {
                        "name": "approved",
                        "count": 5
                      }
                    ]
                  }
                },
                {
                  "name": "Indication",
                  "dtype": "object",
                  "stats": {
                    "unique_count": 2,
                    "nan_count": 0,
                    "categories": [
                      {
                        "name": "Cetuximab, used in combination with irinotecan, is indicated for the treatment of EGFR-expressing, metastatic colorectal carcinoma in patients who are refractory to irinotecan-based chemotherapy. Cetuximab administered as a single agent is indicated for the treatment of EGFR-expressing, metastatic colorectal carcinoma in patients who are intolerant to irinotecan-based chemotherapy.",
                        "count": 4
                      },
                      {
                        "name": "For the treatment of heparin-induced thrombocytopenia",
                        "count": 1
                      }
                    ]
                  }
                },
                {
                  "name": "Gene_Target",
                  "dtype": "object",
                  "stats": {
                    "unique_count": 5,
                    "nan_count": 0,
                    "categories": [
                      {
                        "name": "F2",
                        "count": 1
                      },
                      {
                        "name": "EGFR",
                        "count": 1
                      },
                      {
                        "name": "3 others",
                        "count": 3
                      }
                    ]
                  }
                },
                {
                  "name": "DB_id",
                  "dtype": "object",
                  "stats": {
                    "unique_count": 2,
                    "nan_count": 0,
                    "categories": [
                      {
                        "name": "BE0002100",
                        "count": 4
                      },
                      {
                        "name": "BE0000048",
                        "count": 1
                      }
                    ]
                  }
                },
                {
                  "name": "name",
                  "dtype": "object",
                  "stats": {
                    "unique_count": 2,
                    "nan_count": 0,
                    "categories": [
                      {
                        "name": "Low affinity immunoglobulin gamma Fc region receptor II-c",
                        "count": 4
                      },
                      {
                        "name": "Prothrombin",
                        "count": 1
                      }
                    ]
                  }
                },
                {
                  "name": "organism",
                  "dtype": "object",
                  "stats": {
                    "unique_count": 1,
                    "nan_count": 0,
                    "categories": [
                      {
                        "name": "Humans",
                        "count": 5
                      }
                    ]
                  }
                },
                {
                  "name": "Type",
                  "dtype": "object",
                  "stats": {
                    "unique_count": 1,
                    "nan_count": 0,
                    "categories": [
                      {
                        "name": "Polypeptide",
                        "count": 5
                      }
                    ]
                  }
                },
                {
                  "name": "entrez_id",
                  "dtype": "float64",
                  "stats": {
                    "unique_count": 5,
                    "nan_count": 0,
                    "min": "712.0",
                    "max": "2215.0",
                    "histogram": [
                      {
                        "bin_start": 712,
                        "bin_end": 862.3,
                        "count": 2
                      },
                      {
                        "bin_start": 862.3,
                        "bin_end": 1012.6,
                        "count": 0
                      },
                      {
                        "bin_start": 1012.6,
                        "bin_end": 1162.9,
                        "count": 0
                      },
                      {
                        "bin_start": 1162.9,
                        "bin_end": 1313.2,
                        "count": 0
                      },
                      {
                        "bin_start": 1313.2,
                        "bin_end": 1463.5,
                        "count": 0
                      },
                      {
                        "bin_start": 1463.5,
                        "bin_end": 1613.8000000000002,
                        "count": 0
                      },
                      {
                        "bin_start": 1613.8000000000002,
                        "bin_end": 1764.1000000000001,
                        "count": 0
                      },
                      {
                        "bin_start": 1764.1000000000001,
                        "bin_end": 1914.4,
                        "count": 0
                      },
                      {
                        "bin_start": 1914.4,
                        "bin_end": 2064.7,
                        "count": 1
                      },
                      {
                        "bin_start": 2064.7,
                        "bin_end": 2215,
                        "count": 2
                      }
                    ]
                  }
                },
                {
                  "name": "ATC_code",
                  "dtype": "object",
                  "stats": {
                    "unique_count": 2,
                    "nan_count": 0,
                    "categories": [
                      {
                        "name": "L01XC06",
                        "count": 4
                      },
                      {
                        "name": "B01AE02",
                        "count": 1
                      }
                    ]
                  }
                },
                {
                  "name": "_deepnote_index_column",
                  "dtype": "int64"
                }
              ],
              "rows": [
                {
                  "Unnamed: 0": 0,
                  "type": "biotech",
                  "ID": "DB00001",
                  "Name": "Lepirudin",
                  "State": "liquid",
                  "Approved": "approved",
                  "Indication": "For the treatment of heparin-induced thrombocytopenia",
                  "Gene_Target": "F2",
                  "DB_id": "BE0000048",
                  "name": "Prothrombin",
                  "organism": "Humans",
                  "Type": "Polypeptide",
                  "entrez_id": 2147,
                  "ATC_code": "B01AE02",
                  "_deepnote_index_column": 0
                },
                {
                  "Unnamed: 0": 1,
                  "type": "biotech",
                  "ID": "DB00002",
                  "Name": "Cetuximab",
                  "State": "liquid",
                  "Approved": "approved",
                  "Indication": "Cetuximab, used in combination with irinotecan, is indicated for the treatment of EGFR-expressing, metastatic colorectal carcinoma in patients who are refractory to irinotecan-based chemotherapy. Cetuximab administered as a single agent is indicated for the treatment of EGFR-expressing, metastatic colorectal carcinoma in patients who are intolerant to irinotecan-based chemotherapy.",
                  "Gene_Target": "EGFR",
                  "DB_id": "BE0002100",
                  "name": "Low affinity immunoglobulin gamma Fc region receptor II-c",
                  "organism": "Humans",
                  "Type": "Polypeptide",
                  "entrez_id": 1956,
                  "ATC_code": "L01XC06",
                  "_deepnote_index_column": 1
                },
                {
                  "Unnamed: 0": 2,
                  "type": "biotech",
                  "ID": "DB00002",
                  "Name": "Cetuximab",
                  "State": "liquid",
                  "Approved": "approved",
                  "Indication": "Cetuximab, used in combination with irinotecan, is indicated for the treatment of EGFR-expressing, metastatic colorectal carcinoma in patients who are refractory to irinotecan-based chemotherapy. Cetuximab administered as a single agent is indicated for the treatment of EGFR-expressing, metastatic colorectal carcinoma in patients who are intolerant to irinotecan-based chemotherapy.",
                  "Gene_Target": "FCGR3B",
                  "DB_id": "BE0002100",
                  "name": "Low affinity immunoglobulin gamma Fc region receptor II-c",
                  "organism": "Humans",
                  "Type": "Polypeptide",
                  "entrez_id": 2215,
                  "ATC_code": "L01XC06",
                  "_deepnote_index_column": 2
                },
                {
                  "Unnamed: 0": 3,
                  "type": "biotech",
                  "ID": "DB00002",
                  "Name": "Cetuximab",
                  "State": "liquid",
                  "Approved": "approved",
                  "Indication": "Cetuximab, used in combination with irinotecan, is indicated for the treatment of EGFR-expressing, metastatic colorectal carcinoma in patients who are refractory to irinotecan-based chemotherapy. Cetuximab administered as a single agent is indicated for the treatment of EGFR-expressing, metastatic colorectal carcinoma in patients who are intolerant to irinotecan-based chemotherapy.",
                  "Gene_Target": "C1R",
                  "DB_id": "BE0002100",
                  "name": "Low affinity immunoglobulin gamma Fc region receptor II-c",
                  "organism": "Humans",
                  "Type": "Polypeptide",
                  "entrez_id": 715,
                  "ATC_code": "L01XC06",
                  "_deepnote_index_column": 3
                },
                {
                  "Unnamed: 0": 4,
                  "type": "biotech",
                  "ID": "DB00002",
                  "Name": "Cetuximab",
                  "State": "liquid",
                  "Approved": "approved",
                  "Indication": "Cetuximab, used in combination with irinotecan, is indicated for the treatment of EGFR-expressing, metastatic colorectal carcinoma in patients who are refractory to irinotecan-based chemotherapy. Cetuximab administered as a single agent is indicated for the treatment of EGFR-expressing, metastatic colorectal carcinoma in patients who are intolerant to irinotecan-based chemotherapy.",
                  "Gene_Target": "C1QA",
                  "DB_id": "BE0002100",
                  "name": "Low affinity immunoglobulin gamma Fc region receptor II-c",
                  "organism": "Humans",
                  "Type": "Polypeptide",
                  "entrez_id": 712,
                  "ATC_code": "L01XC06",
                  "_deepnote_index_column": 4
                }
              ]
            },
            "text/plain": "   Unnamed: 0     type       ID       Name   State  Approved  \\\n0           0  biotech  DB00001  Lepirudin  liquid  approved   \n1           1  biotech  DB00002  Cetuximab  liquid  approved   \n2           2  biotech  DB00002  Cetuximab  liquid  approved   \n3           3  biotech  DB00002  Cetuximab  liquid  approved   \n4           4  biotech  DB00002  Cetuximab  liquid  approved   \n\n                                          Indication Gene_Target      DB_id  \\\n0  For the treatment of heparin-induced thrombocy...          F2  BE0000048   \n1  Cetuximab, used in combination with irinotecan...        EGFR  BE0002100   \n2  Cetuximab, used in combination with irinotecan...      FCGR3B  BE0002100   \n3  Cetuximab, used in combination with irinotecan...         C1R  BE0002100   \n4  Cetuximab, used in combination with irinotecan...        C1QA  BE0002100   \n\n                                                name organism         Type  \\\n0                                        Prothrombin   Humans  Polypeptide   \n1  Low affinity immunoglobulin gamma Fc region re...   Humans  Polypeptide   \n2  Low affinity immunoglobulin gamma Fc region re...   Humans  Polypeptide   \n3  Low affinity immunoglobulin gamma Fc region re...   Humans  Polypeptide   \n4  Low affinity immunoglobulin gamma Fc region re...   Humans  Polypeptide   \n\n   entrez_id ATC_code  \n0     2147.0  B01AE02  \n1     1956.0  L01XC06  \n2     2215.0  L01XC06  \n3      715.0  L01XC06  \n4      712.0  L01XC06  ",
            "text/html": "<div>\n<style scoped>\n    .dataframe tbody tr th:only-of-type {\n        vertical-align: middle;\n    }\n\n    .dataframe tbody tr th {\n        vertical-align: top;\n    }\n\n    .dataframe thead th {\n        text-align: right;\n    }\n</style>\n<table border=\"1\" class=\"dataframe\">\n  <thead>\n    <tr style=\"text-align: right;\">\n      <th></th>\n      <th>Unnamed: 0</th>\n      <th>type</th>\n      <th>ID</th>\n      <th>Name</th>\n      <th>State</th>\n      <th>Approved</th>\n      <th>Indication</th>\n      <th>Gene_Target</th>\n      <th>DB_id</th>\n      <th>name</th>\n      <th>organism</th>\n      <th>Type</th>\n      <th>entrez_id</th>\n      <th>ATC_code</th>\n    </tr>\n  </thead>\n  <tbody>\n    <tr>\n      <th>0</th>\n      <td>0</td>\n      <td>biotech</td>\n      <td>DB00001</td>\n      <td>Lepirudin</td>\n      <td>liquid</td>\n      <td>approved</td>\n      <td>For the treatment of heparin-induced thrombocy...</td>\n      <td>F2</td>\n      <td>BE0000048</td>\n      <td>Prothrombin</td>\n      <td>Humans</td>\n      <td>Polypeptide</td>\n      <td>2147.0</td>\n      <td>B01AE02</td>\n    </tr>\n    <tr>\n      <th>1</th>\n      <td>1</td>\n      <td>biotech</td>\n      <td>DB00002</td>\n      <td>Cetuximab</td>\n      <td>liquid</td>\n      <td>approved</td>\n      <td>Cetuximab, used in combination with irinotecan...</td>\n      <td>EGFR</td>\n      <td>BE0002100</td>\n      <td>Low affinity immunoglobulin gamma Fc region re...</td>\n      <td>Humans</td>\n      <td>Polypeptide</td>\n      <td>1956.0</td>\n      <td>L01XC06</td>\n    </tr>\n    <tr>\n      <th>2</th>\n      <td>2</td>\n      <td>biotech</td>\n      <td>DB00002</td>\n      <td>Cetuximab</td>\n      <td>liquid</td>\n      <td>approved</td>\n      <td>Cetuximab, used in combination with irinotecan...</td>\n      <td>FCGR3B</td>\n      <td>BE0002100</td>\n      <td>Low affinity immunoglobulin gamma Fc region re...</td>\n      <td>Humans</td>\n      <td>Polypeptide</td>\n      <td>2215.0</td>\n      <td>L01XC06</td>\n    </tr>\n    <tr>\n      <th>3</th>\n      <td>3</td>\n      <td>biotech</td>\n      <td>DB00002</td>\n      <td>Cetuximab</td>\n      <td>liquid</td>\n      <td>approved</td>\n      <td>Cetuximab, used in combination with irinotecan...</td>\n      <td>C1R</td>\n      <td>BE0002100</td>\n      <td>Low affinity immunoglobulin gamma Fc region re...</td>\n      <td>Humans</td>\n      <td>Polypeptide</td>\n      <td>715.0</td>\n      <td>L01XC06</td>\n    </tr>\n    <tr>\n      <th>4</th>\n      <td>4</td>\n      <td>biotech</td>\n      <td>DB00002</td>\n      <td>Cetuximab</td>\n      <td>liquid</td>\n      <td>approved</td>\n      <td>Cetuximab, used in combination with irinotecan...</td>\n      <td>C1QA</td>\n      <td>BE0002100</td>\n      <td>Low affinity immunoglobulin gamma Fc region re...</td>\n      <td>Humans</td>\n      <td>Polypeptide</td>\n      <td>712.0</td>\n      <td>L01XC06</td>\n    </tr>\n  </tbody>\n</table>\n</div>"
          },
          "metadata": {}
        }
      ],
      "execution_count": null,
      "block_group": "8a8af409ed0f4ababd875b58fc2e7b2c"
    },
    {
      "cell_type": "code",
      "source": "print(\"Number of drug-gene associations: \", drug_gene_ixn.shape)\nprint(\"Number of unique drugs: \", len(drug_gene_ixn['Name'].unique())) # how many different drugs we have?\nprint(\"States of the drugs: \", drug_gene_ixn['State'].unique())     # drug state\nprint(\"Current status of the drugs: \", drug_gene_ixn['Approved'].unique())  # what is the current status of these drugs",
      "metadata": {
        "tags": [],
        "source_hash": "9c4d03ba",
        "execution_start": 1660215827212,
        "execution_millis": 37,
        "deepnote_cell_height": 246.9375,
        "deepnote_to_be_reexecuted": false,
        "cell_id": "a0bc5a94411e42c5bd975906df5c8acf",
        "deepnote_cell_type": "code"
      },
      "outputs": [
        {
          "name": "stdout",
          "text": "Number of drug-gene associations:  (24648, 14)\nNumber of unique drugs:  6137\nStates of the drugs:  ['liquid' 'solid' nan 'gas']\nCurrent status of the drugs:  ['approved' 'experimental' 'investigational' 'nutraceutical' 'withdrawn'\n 'illicit' 'vet_approved' nan]\n",
          "output_type": "stream"
        }
      ],
      "execution_count": null,
      "block_group": "2fafe6b29c7b4ec28498f6c51c596143"
    },
    {
      "cell_type": "markdown",
      "source": "Since our drug-gene assoication data contains withdrawn and illicit drugs as well, we filter them prior to further processing. We also remove any drugs that have no known status (marked as NaN).",
      "metadata": {
        "tags": [],
        "deepnote_cell_height": 74.78125,
        "cell_id": "8c7b6b935c2e40f89f5cdaa30de6fdbd",
        "deepnote_cell_type": "markdown"
      },
      "block_group": "7c1cbd06b06142f7b1027b3bc7daae48"
    },
    {
      "cell_type": "code",
      "source": "drug_gene_ixn = drug_gene_ixn.loc[drug_gene_ixn['Approved'].isin(['approved', 'experimental', 'investigational', 'vet_approved'])]\ndrug_gene_ixn = drug_gene_ixn.dropna(subset = ['entrez_id'])\nprint(\"Number of drugs after filtering: \", len(drug_gene_ixn['Name'].unique()))",
      "metadata": {
        "tags": [],
        "source_hash": "5018ffc",
        "execution_start": 1660215827250,
        "execution_millis": 50,
        "deepnote_cell_height": 148.1875,
        "deepnote_to_be_reexecuted": false,
        "cell_id": "142c045bda7f41cd934db9d5d72a35f2",
        "deepnote_cell_type": "code"
      },
      "outputs": [
        {
          "name": "stdout",
          "text": "Number of drugs after filtering:  6057\n",
          "output_type": "stream"
        }
      ],
      "execution_count": null,
      "block_group": "c691ef56242a49b598d176bc1cb10eb5"
    },
    {
      "cell_type": "markdown",
      "source": "<img src=\"./Figures/Table1.png\" alt=\"drawing\" width=\"600\"/>",
      "metadata": {
        "tags": [],
        "deepnote_cell_height": 960.734375,
        "cell_id": "985428d8e23c4f06a6f07ca500cf6b4d",
        "deepnote_cell_type": "markdown"
      },
      "block_group": "1c641b8f21fd4b97a01ef62902632c64"
    },
    {
      "cell_type": "code",
      "source": "print('Chloroquine' in set(drug_gene_ixn['Name']))\nprint('Vincristine' in set(drug_gene_ixn['Name']))\nprint('Doxazosin' in set(drug_gene_ixn['Name']))\nprint('Promazine' in set(drug_gene_ixn['Name']))\nprint('Ivermectin' in set(drug_gene_ixn['Name']))\nprint('Ulipristal' in set(drug_gene_ixn['Name']))",
      "metadata": {
        "tags": [],
        "source_hash": "eaf49e5d",
        "execution_start": 1660215827305,
        "execution_millis": 57,
        "deepnote_cell_height": 298.125,
        "deepnote_to_be_reexecuted": false,
        "cell_id": "3edacbd0bc264553b98e901f70007e7a",
        "deepnote_cell_type": "code"
      },
      "outputs": [
        {
          "name": "stdout",
          "text": "True\nTrue\nTrue\nTrue\nTrue\nTrue\n",
          "output_type": "stream"
        }
      ],
      "execution_count": null,
      "block_group": "225988e2fade43998c94e9a675581997"
    },
    {
      "cell_type": "code",
      "source": "# Prepare known drug-target associations for a select list of drugs\ndrug2targets = {}\nlist_drugs_to_inv = ['Chloroquine', 'Vincristine','Doxazosin', 'Promazine', 'Ivermectin','Ulipristal']\nfor d in list_drugs_to_inv: \n    drug2targets[d] = [int(e) for e in drug_gene_ixn.loc[drug_gene_ixn['Name'] == d, 'entrez_id']]",
      "metadata": {
        "tags": [],
        "source_hash": "eeb4fbd5",
        "execution_start": 1660215827362,
        "execution_millis": 39,
        "deepnote_cell_height": 148,
        "deepnote_to_be_reexecuted": false,
        "cell_id": "0bbcd83af7ff4345b087fb91f11ed4de",
        "deepnote_cell_type": "code"
      },
      "outputs": [],
      "execution_count": null,
      "block_group": "e166b25632bf40fba33e541a5eb9c7dd"
    },
    {
      "cell_type": "code",
      "source": "# Print the number of known targets for each of the selected drugs\nfor key in drug2targets:\n    print(key, len(drug2targets[key]))",
      "metadata": {
        "tags": [],
        "source_hash": "61bf9bf0",
        "execution_start": 1660215827407,
        "execution_millis": 34,
        "deepnote_cell_height": 244.125,
        "deepnote_to_be_reexecuted": false,
        "cell_id": "342e229d2c4544d9a034db5a9e6fe6cb",
        "deepnote_cell_type": "code"
      },
      "outputs": [
        {
          "name": "stdout",
          "text": "Chloroquine 9\nVincristine 16\nDoxazosin 12\nPromazine 19\nIvermectin 9\nUlipristal 7\n",
          "output_type": "stream"
        }
      ],
      "execution_count": null,
      "block_group": "21d3d5f1582045d1a7987d29c53e1f68"
    },
    {
      "cell_type": "code",
      "source": "# Calculate the network-based separation of the drug targets from the proteins interacting with SARS-CoV-2\nDrug_proximities = pd.DataFrame()\n\nfor drug in list_drugs_to_inv:\n\n    genes_A = set(dt.EntrezID) & set(G.nodes())\n    genes_B = set(drug2targets[drug]) & set(G.nodes())\n\n    overlapping_genes = [[(set(genes_A) & set(genes_B))]]\n\n    d_A = separation.calc_single_set_distance(G,genes_A)\n    d_B = separation.calc_single_set_distance(G,genes_B)\n\n    # distances BETWEEN the two gene sets:\n    d_AB = separation.calc_set_pair_distances(G,genes_A,genes_B)\n\n    # calculate separation\n    s_AB = d_AB - (d_A + d_B)/2\n\n    tmp = pd.DataFrame({\"Drug\" : drug,\n                            \"Number of targets in network\" : len(genes_B),\n                            \"Separation\" : s_AB,\n                            \"Overlaping genes\" : overlapping_genes}, index = [0])\n    Drug_proximities = pd.concat([Drug_proximities, tmp]).reset_index(drop = True)\n\n\nDrug_proximities.sort_values(by = \"Separation\").reset_index(drop = True)",
      "metadata": {
        "tags": [],
        "source_hash": "aa75673a",
        "execution_start": 1660215827447,
        "execution_millis": 27687,
        "deepnote_cell_height": 904,
        "deepnote_to_be_reexecuted": false,
        "cell_id": "028341ae439241bfa1882fd7ec7ca829",
        "deepnote_cell_type": "code"
      },
      "outputs": [
        {
          "output_type": "execute_result",
          "execution_count": 29,
          "data": {
            "application/vnd.deepnote.dataframe.v3+json": {
              "column_count": 4,
              "row_count": 6,
              "columns": [
                {
                  "name": "Drug",
                  "dtype": "object",
                  "stats": {
                    "unique_count": 6,
                    "nan_count": 0,
                    "categories": [
                      {
                        "name": "Chloroquine",
                        "count": 1
                      },
                      {
                        "name": "Ulipristal",
                        "count": 1
                      },
                      {
                        "name": "4 others",
                        "count": 4
                      }
                    ]
                  }
                },
                {
                  "name": "Number of targets in network",
                  "dtype": "int64",
                  "stats": {
                    "unique_count": 6,
                    "nan_count": 0,
                    "min": "7",
                    "max": "19",
                    "histogram": [
                      {
                        "bin_start": 7,
                        "bin_end": 8.2,
                        "count": 2
                      },
                      {
                        "bin_start": 8.2,
                        "bin_end": 9.4,
                        "count": 1
                      },
                      {
                        "bin_start": 9.4,
                        "bin_end": 10.6,
                        "count": 0
                      },
                      {
                        "bin_start": 10.6,
                        "bin_end": 11.8,
                        "count": 0
                      },
                      {
                        "bin_start": 11.8,
                        "bin_end": 13,
                        "count": 1
                      },
                      {
                        "bin_start": 13,
                        "bin_end": 14.2,
                        "count": 0
                      },
                      {
                        "bin_start": 14.2,
                        "bin_end": 15.4,
                        "count": 1
                      },
                      {
                        "bin_start": 15.4,
                        "bin_end": 16.6,
                        "count": 0
                      },
                      {
                        "bin_start": 16.6,
                        "bin_end": 17.799999999999997,
                        "count": 0
                      },
                      {
                        "bin_start": 17.799999999999997,
                        "bin_end": 19,
                        "count": 1
                      }
                    ]
                  }
                },
                {
                  "name": "Separation",
                  "dtype": "float64",
                  "stats": {
                    "unique_count": 6,
                    "nan_count": 0,
                    "min": "0.3981463488362049",
                    "max": "0.6841131959235951",
                    "histogram": [
                      {
                        "bin_start": 0.3981463488362049,
                        "bin_end": 0.4267430335449439,
                        "count": 3
                      },
                      {
                        "bin_start": 0.4267430335449439,
                        "bin_end": 0.45533971825368297,
                        "count": 1
                      },
                      {
                        "bin_start": 0.45533971825368297,
                        "bin_end": 0.48393640296242196,
                        "count": 0
                      },
                      {
                        "bin_start": 0.48393640296242196,
                        "bin_end": 0.512533087671161,
                        "count": 0
                      },
                      {
                        "bin_start": 0.512533087671161,
                        "bin_end": 0.5411297723799,
                        "count": 0
                      },
                      {
                        "bin_start": 0.5411297723799,
                        "bin_end": 0.569726457088639,
                        "count": 0
                      },
                      {
                        "bin_start": 0.569726457088639,
                        "bin_end": 0.598323141797378,
                        "count": 0
                      },
                      {
                        "bin_start": 0.598323141797378,
                        "bin_end": 0.6269198265061171,
                        "count": 1
                      },
                      {
                        "bin_start": 0.6269198265061171,
                        "bin_end": 0.655516511214856,
                        "count": 0
                      },
                      {
                        "bin_start": 0.655516511214856,
                        "bin_end": 0.6841131959235951,
                        "count": 1
                      }
                    ]
                  }
                },
                {
                  "name": "Overlaping genes",
                  "dtype": "object",
                  "stats": {
                    "unique_count": 6,
                    "nan_count": 0,
                    "categories": [
                      {
                        "name": "[set()]",
                        "count": 4
                      },
                      {
                        "name": "[{4363}]",
                        "count": 2
                      }
                    ]
                  }
                },
                {
                  "name": "_deepnote_index_column",
                  "dtype": "int64"
                }
              ],
              "rows": [
                {
                  "Drug": "Chloroquine",
                  "Number of targets in network": 9,
                  "Separation": 0.3981463488362049,
                  "Overlaping genes": "[set()]",
                  "_deepnote_index_column": 0
                },
                {
                  "Drug": "Ulipristal",
                  "Number of targets in network": 7,
                  "Separation": 0.39948986844977896,
                  "Overlaping genes": "[set()]",
                  "_deepnote_index_column": 1
                },
                {
                  "Drug": "Ivermectin",
                  "Number of targets in network": 8,
                  "Separation": 0.4208982990786676,
                  "Overlaping genes": "[{4363}]",
                  "_deepnote_index_column": 2
                },
                {
                  "Drug": "Vincristine",
                  "Number of targets in network": 15,
                  "Separation": 0.4383878453294445,
                  "Overlaping genes": "[{4363}]",
                  "_deepnote_index_column": 3
                },
                {
                  "Drug": "Doxazosin",
                  "Number of targets in network": 12,
                  "Separation": 0.6001447651069394,
                  "Overlaping genes": "[set()]",
                  "_deepnote_index_column": 4
                },
                {
                  "Drug": "Promazine",
                  "Number of targets in network": 19,
                  "Separation": 0.6841131959235951,
                  "Overlaping genes": "[set()]",
                  "_deepnote_index_column": 5
                }
              ]
            },
            "text/plain": "          Drug  Number of targets in network  Separation Overlaping genes\n0  Chloroquine                             9    0.398146             [{}]\n1   Ulipristal                             7    0.399490             [{}]\n2   Ivermectin                             8    0.420898         [{4363}]\n3  Vincristine                            15    0.438388         [{4363}]\n4    Doxazosin                            12    0.600145             [{}]\n5    Promazine                            19    0.684113             [{}]",
            "text/html": "<div>\n<style scoped>\n    .dataframe tbody tr th:only-of-type {\n        vertical-align: middle;\n    }\n\n    .dataframe tbody tr th {\n        vertical-align: top;\n    }\n\n    .dataframe thead th {\n        text-align: right;\n    }\n</style>\n<table border=\"1\" class=\"dataframe\">\n  <thead>\n    <tr style=\"text-align: right;\">\n      <th></th>\n      <th>Drug</th>\n      <th>Number of targets in network</th>\n      <th>Separation</th>\n      <th>Overlaping genes</th>\n    </tr>\n  </thead>\n  <tbody>\n    <tr>\n      <th>0</th>\n      <td>Chloroquine</td>\n      <td>9</td>\n      <td>0.398146</td>\n      <td>[{}]</td>\n    </tr>\n    <tr>\n      <th>1</th>\n      <td>Ulipristal</td>\n      <td>7</td>\n      <td>0.399490</td>\n      <td>[{}]</td>\n    </tr>\n    <tr>\n      <th>2</th>\n      <td>Ivermectin</td>\n      <td>8</td>\n      <td>0.420898</td>\n      <td>[{4363}]</td>\n    </tr>\n    <tr>\n      <th>3</th>\n      <td>Vincristine</td>\n      <td>15</td>\n      <td>0.438388</td>\n      <td>[{4363}]</td>\n    </tr>\n    <tr>\n      <th>4</th>\n      <td>Doxazosin</td>\n      <td>12</td>\n      <td>0.600145</td>\n      <td>[{}]</td>\n    </tr>\n    <tr>\n      <th>5</th>\n      <td>Promazine</td>\n      <td>19</td>\n      <td>0.684113</td>\n      <td>[{}]</td>\n    </tr>\n  </tbody>\n</table>\n</div>"
          },
          "metadata": {}
        }
      ],
      "execution_count": null,
      "block_group": "735779f097ce450f88c7eaddfb7010e4"
    },
    {
      "cell_type": "markdown",
      "source": "Here, we can see that the targets of Chloroquine had the least network topological separation from the SARS-CoV-2 targets signifying its potentential for the treatment of COVID-19. In fact, chloroquine was among the initial drugs that were approved for emergency use by FDA for treating COVID-19.",
      "metadata": {
        "tags": [],
        "deepnote_cell_height": 97.171875,
        "cell_id": "bc7657db1e6c4180bcb4b8f8ee7ba0d7",
        "deepnote_cell_type": "markdown"
      },
      "block_group": "28a07d7796334a778fcf3aca31bee11e"
    },
    {
      "cell_type": "markdown",
      "source": "### Self-study material:\n- <a href=\"https://doi.org/10.1093/bib/bbac229\" target=\"_blank\">Network approaches for modeling the effect of drugs and diseases</a>\n",
      "metadata": {
        "tags": [],
        "deepnote_cell_height": 114.390625,
        "cell_id": "d5f15a69717148ad999d4e9f9aaac7d5",
        "deepnote_cell_type": "markdown"
      },
      "block_group": "356b557baac148f6bb01c2a1ac960f6d"
    },
    {
      "cell_type": "markdown",
      "source": "<a style='text-decoration:none;line-height:16px;display:flex;color:#5B5B62;padding:10px;justify-content:end;' href='https://deepnote.com?utm_source=created-in-deepnote-cell&projectId=567e54c1-8e1f-4560-8621-8b304ec1f642' target=\"_blank\">\n<img alt='Created in deepnote.com' style='display:inline;max-height:16px;margin:0px;margin-right:7.5px;' src='data:image/svg+xml;base64,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' > </img>\nCreated in <span style='font-weight:600;margin-left:4px;'>Deepnote</span></a>",
      "metadata": {
        "created_in_deepnote_cell": true,
        "deepnote_cell_type": "markdown"
      }
    }
  ],
  "nbformat": 4,
  "nbformat_minor": 0,
  "metadata": {
    "deepnote": {},
    "orig_nbformat": 2,
    "deepnote_notebook_id": "78e24c17a5ff48459c1448762ee6e162",
    "deepnote_execution_queue": []
  }
}