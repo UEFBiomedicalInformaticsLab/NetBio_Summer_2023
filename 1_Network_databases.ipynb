{
  "cells": [
    {
      "cell_type": "markdown",
      "source": "## Introduction to network-based analysis in biomedicine with python (Part 1)\n\n#### Topic overview:\n\n##### 1. Introduction to networks and its construction\n\n##### 2. Construction of networks\n\n##### 3. Databases for creating biological networks\n\n##### 4. Basic concepts of network analysis",
      "metadata": {
        "tags": [],
        "deepnote_cell_height": 318,
        "deepnote_app_coordinates": {
          "h": 5,
          "w": 12,
          "x": 0,
          "y": 0
        },
        "cell_id": "6e2ea85c4b6d483bb48b8b4028f7d478",
        "deepnote_cell_type": "markdown"
      },
      "block_group": "aad5c4d615dc49beab8d2752db106285"
    },
    {
      "cell_type": "markdown",
      "source": "### What are networks?\nNetworks are a group or system of interconnected entities. Here, entities could be anything — persons, computers, proteins, drugs, etc. Networks are used to represent and study the complex associations between the entities. They are usually represented as graphs of a collection of nodes connected by edges denoting the interaction or association between the nodes.\n\n<img src=\"Figures/Network_node_edge.png\" alt=\"Network node edge\" style=\"margin: auto; width:400px\"/>\n<b>Figure:</b> Network represented as set a of nodes connected by edges.\n\nImage from https://builtin.com/data-science/social-network-analysis\n\n",
      "metadata": {
        "tags": [],
        "deepnote_cell_height": 2000.234375,
        "deepnote_app_coordinates": {
          "h": 5,
          "w": 12,
          "x": 0,
          "y": 0
        },
        "cell_id": "3857066a35684a859bb291c9cdb9f245",
        "deepnote_cell_type": "markdown"
      },
      "block_group": "c07a2b8c65144535b4567cf0d42a3ba9"
    },
    {
      "cell_type": "markdown",
      "source": "### How are networks visualized and represented?\n\n<img src=\"./Figures/Graph_representation.png\" alt=\"Network representation\" width=700/>\n\n<b>Figure:</b> Visualization of network as (a) a set of nodes connected by edges and its equivalent (b) adjacency matrix and (c) edge list.\n\n\nNetworks are most naturally visualized as a set of points (nodes) connected by lines (edges). They are represented by the notation <b>G(V,E)</b>, which infers that a graph <b>G</b> is composed of vertices <b>V</b> and edges <b>E</b>. If <b>G</b> is the graph shown in the figure above, it could be represented as:\n\n<b><i>\nG = (V,E)</i></b>; where\n<b><i>V = {A, B, C, D, E}\nE = {{A,B}, {A,C}, {A,D}, {B,D}, {B,E}, {C,D}, {D,D}, {D,E}}\n</i></b>\n\nA more mathematically appealing form of representation of graphs are adjacency matrices (shown on right of the above figure). It is a boolean matrix (i.e., consisting of 0s and 1s) of dimention n x n, where n is the number of vertices (V) in the graph. In an adjacency matrix, 1s represent the presence of edges while 0s represent no edges.\n\nA practical approach to represent network is in the form of edge list. This is more frequently used for storing the networks as flat files in databases. \n",
      "metadata": {
        "tags": [],
        "deepnote_cell_height": 691.828125,
        "deepnote_app_coordinates": {
          "h": 5,
          "w": 12,
          "x": 0,
          "y": 0
        },
        "cell_id": "03a9813c608f47268b2c93fe0ca8b515",
        "deepnote_cell_type": "markdown"
      },
      "block_group": "9a8ac912dfa343778bda231185a249df"
    },
    {
      "cell_type": "markdown",
      "source": "<p style=\"padding: 10px 10px 10px 10px; border: 2px solid blue;\">\n<b>Box 1.1: Tools for creating and visualising networks</b><br>\n<b>Python: </b>NetworkX, python-igraph<br>\n<b>R: </b>igraph<br>\n<b>Interactive tools: </b> Cytoscape, Gephi\n</p>",
      "metadata": {
        "tags": [],
        "deepnote_cell_height": 233.125,
        "deepnote_app_coordinates": {
          "h": 5,
          "w": 12,
          "x": 0,
          "y": 0
        },
        "cell_id": "24a38c71bba24ab393fa06616b81793f",
        "deepnote_cell_type": "markdown"
      },
      "block_group": "cebdd43635dc4ca5b7492c1fa26eacc7"
    },
    {
      "cell_type": "markdown",
      "source": "### How to construct a network from scratch?\n\nSuppose we have to recreate the following network from scratch. \n\n<img src=\"./Figures/Network_construction_1.png\" width=200/>\n\nThe first step would be to create the adjacency matrix. This can be done by using the Python module numpy. \n\nSince the network consists of five nodes, we must construct a 5x5 matrix. We will write the connection from row to column. For example, the link from A to B should be at the 1st row and 2nd column. The presence of edges would be denoted by 1 else 0. \n\nAlso to be noted here that the edges are arrows instead of a stright line. An arrow as an edge represents the direction of interaction between the nodes. As such, in the adjacency matrix, we must only represent the edge for A to B (row 1, column 2) and not B to A (row 2, column 1).",
      "metadata": {
        "tags": [],
        "deepnote_cell_height": 390.921875,
        "deepnote_app_coordinates": {
          "h": 5,
          "w": 12,
          "x": 0,
          "y": 0
        },
        "cell_id": "afc4376fbf4c4cf9858f3457b650776f",
        "deepnote_cell_type": "markdown"
      },
      "block_group": "9ee9f497dab24130a640f780ba394ab4"
    },
    {
      "cell_type": "code",
      "source": "# Upload python modules\nimport numpy as np\nimport networkx as nx\nimport powerlaw\n\n# Import python modules for visualizations\nimport matplotlib.pylab as plt\nimport seaborn as sns\n\n%matplotlib inline",
      "metadata": {
        "source_hash": null,
        "execution_start": 1692276139376,
        "execution_millis": 2153,
        "deepnote_app_coordinates": {
          "h": 5,
          "w": 12,
          "x": 0,
          "y": 0
        },
        "deepnote_to_be_reexecuted": false,
        "cell_id": "15d35f3ac733413789524ddd852def06",
        "deepnote_cell_type": "code"
      },
      "outputs": [],
      "execution_count": null,
      "block_group": "de2368cdbf8f40beb299fc185f935171"
    },
    {
      "cell_type": "code",
      "source": "# Create the adjacency matrix\nimport numpy as np\nadj_mat = np.array([\n       [0., 1., 0., 1., 0.],\n       [0., 0., 0., 0., 0.],\n       [1., 0., 0., 0., 0.],\n       [0., 0., 1., 0., 1.],\n       [0., 0., 0., 0., 0.]])\n       \nadj_mat",
      "metadata": {
        "tags": [],
        "source_hash": null,
        "execution_start": 1692276141508,
        "execution_millis": 21,
        "deepnote_cell_height": 315.9375,
        "deepnote_output_heights": [
          97.9375
        ],
        "deepnote_app_coordinates": {
          "h": 5,
          "w": 12,
          "x": 0,
          "y": 0
        },
        "deepnote_to_be_reexecuted": false,
        "cell_id": "0aa7b515f66d4a00ab78857351197bc7",
        "deepnote_cell_type": "code"
      },
      "outputs": [
        {
          "output_type": "execute_result",
          "execution_count": 2,
          "data": {
            "text/plain": "array([[0., 1., 0., 1., 0.],\n       [0., 0., 0., 0., 0.],\n       [1., 0., 0., 0., 0.],\n       [0., 0., 1., 0., 1.],\n       [0., 0., 0., 0., 0.]])"
          },
          "metadata": {}
        }
      ],
      "execution_count": null,
      "block_group": "b0a262f93d6a4c5ebf5b54b6c7f02361"
    },
    {
      "cell_type": "markdown",
      "source": "Once we have the adjacency matrix, we can use the python library NetworkX to convert it to a graph object. NetworkX provides various modules specialized for working with graphs. The networks created or imported into NetworkX are stored as <code>networkx.Graph</code> class. \n\nWe can use the function <code>from_numpy_array()</code> to read the adjacency matrix we created earlier. By default, while reading a network from adjacency matrix, the nodes are labelled as integers starting fom 0. However, it can be easily relabbeled using the function <code>relabel_nodes</code>.",
      "metadata": {
        "tags": [],
        "deepnote_cell_height": 74.78125,
        "deepnote_app_coordinates": {
          "h": 5,
          "w": 12,
          "x": 0,
          "y": 0
        },
        "cell_id": "10dc7f72088f4435866043b7df7bbf7b",
        "deepnote_cell_type": "markdown"
      },
      "block_group": "a11ab4a13e27429481fa82b85ac7e66e"
    },
    {
      "cell_type": "code",
      "source": "# Import the NetworkX library\nimport networkx as nx\n\n# Read the adjacency matrix as graph\nG = nx.from_numpy_array(adj_mat)\n\n# Create node label mapping\nnode_labels = {0: \"A\", 1: \"B\", 2: \"C\", 3: \"D\", 4: \"E\"}\nG = nx.relabel_nodes(G, node_labels)\n\n# Draw the network\nnx.draw(G, with_labels = True)",
      "metadata": {
        "tags": [],
        "source_hash": null,
        "execution_start": 1692276141523,
        "execution_millis": 342,
        "deepnote_cell_height": 432,
        "deepnote_output_heights": [
          304
        ],
        "deepnote_app_coordinates": {
          "h": 5,
          "w": 12,
          "x": 0,
          "y": 0
        },
        "deepnote_to_be_reexecuted": false,
        "cell_id": "8c6b70ec452e49e9b20171acaa5d3488",
        "deepnote_cell_type": "code"
      },
      "outputs": [
        {
          "data": {
            "text/plain": "<Figure size 640x480 with 1 Axes>",
            "image/png": "[encoded data removed]"
          },
          "metadata": {
            "image/png": {
              "width": 660,
              "height": 499
            }
          },
          "output_type": "display_data"
        }
      ],
      "execution_count": null,
      "block_group": "9676fd813dd34cadbd122f972987c40e"
    },
    {
      "cell_type": "markdown",
      "source": "The above network does not yet explicitly mention the direction of interactions as was shown in the reference picture. This is because by default from_numpy_array create a simple graph. We can use the graph constructor <code>DiGraph</code> to force it to create a directed graph.",
      "metadata": {
        "tags": [],
        "deepnote_cell_height": 186.953125,
        "deepnote_app_coordinates": {
          "h": 5,
          "w": 12,
          "x": 0,
          "y": 0
        },
        "cell_id": "e3014b6861d24cc297f780353d5a60a1",
        "deepnote_cell_type": "markdown"
      },
      "block_group": "48a12da7809444b6ab0658dee9bef683"
    },
    {
      "cell_type": "code",
      "source": "G_dir = nx.from_numpy_array(adj_mat, create_using=nx.DiGraph)\nnode_labels = {0: \"A\", 1: \"B\", 2: \"C\", 3: \"D\", 4: \"E\"}\nG_dir = nx.relabel_nodes(G_dir, node_labels)\nnx.draw(G_dir, with_labels = True)",
      "metadata": {
        "tags": [],
        "source_hash": null,
        "execution_start": 1692276141790,
        "execution_millis": 296,
        "deepnote_cell_height": 414,
        "deepnote_output_heights": [
          304
        ],
        "deepnote_app_coordinates": {
          "h": 5,
          "w": 12,
          "x": 0,
          "y": 0
        },
        "deepnote_to_be_reexecuted": false,
        "cell_id": "b1e3af9c57224e74acfe185d84334bae",
        "deepnote_cell_type": "code"
      },
      "outputs": [
        {
          "data": {
            "text/plain": "<Figure size 640x480 with 1 Axes>",
            "image/png": "[encoded data removed]"
          },
          "metadata": {
            "image/png": {
              "width": 660,
              "height": 499
            }
          },
          "output_type": "display_data"
        }
      ],
      "execution_count": null,
      "block_group": "74d5e27b68c74e00a4b8b234ec32b3c0"
    },
    {
      "cell_type": "code",
      "source": "print(\"Simple graph: \", type(G))\nprint(\"Directed graph: \", type(G_dir))",
      "metadata": {
        "source_hash": null,
        "execution_start": 1692276142043,
        "execution_millis": 42,
        "deepnote_app_coordinates": {
          "h": 5,
          "w": 12,
          "x": 0,
          "y": 0
        },
        "deepnote_to_be_reexecuted": false,
        "cell_id": "322102d645cc49809625485455d76bf9",
        "deepnote_cell_type": "code"
      },
      "outputs": [
        {
          "name": "stdout",
          "text": "Simple graph:  <class 'networkx.classes.graph.Graph'>\nDirected graph:  <class 'networkx.classes.digraph.DiGraph'>\n",
          "output_type": "stream"
        }
      ],
      "execution_count": null,
      "block_group": "322102d645cc49809625485455d76bf9"
    },
    {
      "cell_type": "markdown",
      "source": "**Number of nodes and edges**",
      "metadata": {
        "tags": [],
        "deepnote_cell_height": 52.390625,
        "deepnote_app_coordinates": {
          "h": 5,
          "w": 12,
          "x": 0,
          "y": 0
        },
        "cell_id": "9ff8dc4ada594527a63b284b5a8b99db",
        "deepnote_cell_type": "markdown"
      },
      "block_group": "19c0bfd6a9f34228a469ac868d267f01"
    },
    {
      "cell_type": "code",
      "source": "print(\"Number of nodes: \",  G.number_of_nodes())\nprint(\"Number of edges: \", G.number_of_edges())",
      "metadata": {
        "tags": [],
        "source_hash": null,
        "execution_start": 1692276142044,
        "execution_millis": 5,
        "deepnote_cell_height": 145.375,
        "deepnote_app_coordinates": {
          "h": 5,
          "w": 12,
          "x": 0,
          "y": 0
        },
        "deepnote_to_be_reexecuted": false,
        "cell_id": "bad551f30a974f13be00c3b9f052e41b",
        "deepnote_cell_type": "code"
      },
      "outputs": [
        {
          "name": "stdout",
          "text": "Number of nodes:  5\nNumber of edges:  5\n",
          "output_type": "stream"
        }
      ],
      "execution_count": null,
      "block_group": "09a68bc9efcd4a5f9a06adcd11cd233b"
    },
    {
      "cell_type": "markdown",
      "source": "<p style=\"padding: 10px 10px 10px 10px; border: 2px solid blue;\">\n<b>Box 1.2: How to compute the total number of possible edges in a network?</b><br>\nLet’s assume an undirected graph with N vertices. Further, we’re also assuming that the graph has a maximum number of edges. In such a case, from the starting vertex, we can draw (N-1) edges in the graph. Continuing this way, from the next vertex we can draw (N-2) edges, etc. <br>\n*(N-1) + (N-2) + ... + 2 + 1 = (N*(N-1))/2*<br>\nWe can convert an undirected graph into a directed graph by replacing each edge with two directed edges. Hence the revised formula for the maximum number of edges in a directed graph is: *N*(N-1)* <br>\n</p>\n\n\n\n",
      "metadata": {
        "tags": [],
        "deepnote_cell_height": 228.734375,
        "deepnote_app_coordinates": {
          "h": 5,
          "w": 12,
          "x": 0,
          "y": 0
        },
        "cell_id": "34f7e6bf1f594fbfa3302f91fdbc6362",
        "deepnote_cell_type": "markdown"
      },
      "block_group": "5290f98b6d1f46b8b869cf8fab226cfb"
    },
    {
      "cell_type": "markdown",
      "source": "**Node and edge names**",
      "metadata": {
        "tags": [],
        "deepnote_cell_height": 52.390625,
        "deepnote_app_coordinates": {
          "h": 5,
          "w": 12,
          "x": 0,
          "y": 0
        },
        "cell_id": "f2db63168b7449edb6343ed00e70f660",
        "deepnote_cell_type": "markdown"
      },
      "block_group": "44bb76870a2c4ed59f0fe1deaa7be55f"
    },
    {
      "cell_type": "code",
      "source": "print(G.nodes)\nprint(\"A\" in G.nodes())\nprint(\"E\" in G.nodes())",
      "metadata": {
        "tags": [],
        "source_hash": null,
        "execution_start": 1692276142087,
        "execution_millis": 7,
        "deepnote_cell_height": 183.5625,
        "deepnote_app_coordinates": {
          "h": 5,
          "w": 12,
          "x": 0,
          "y": 0
        },
        "deepnote_to_be_reexecuted": false,
        "cell_id": "ac9fbac82a464c28b6c2f7b56616e42b",
        "deepnote_cell_type": "code"
      },
      "outputs": [
        {
          "name": "stdout",
          "text": "['A', 'B', 'C', 'D', 'E']\nTrue\nTrue\n",
          "output_type": "stream"
        }
      ],
      "execution_count": null,
      "block_group": "1f1dabd03fe744b6a60e5948d009def3"
    },
    {
      "cell_type": "code",
      "source": "print(G.edges)",
      "metadata": {
        "source_hash": null,
        "execution_start": 1692276142088,
        "execution_millis": 24,
        "deepnote_app_coordinates": {
          "h": 5,
          "w": 12,
          "x": 0,
          "y": 0
        },
        "deepnote_to_be_reexecuted": false,
        "cell_id": "b794810685364b4e904eaf019d828aa5",
        "deepnote_cell_type": "code"
      },
      "outputs": [
        {
          "name": "stdout",
          "text": "[('A', 'B'), ('A', 'D'), ('A', 'C'), ('C', 'D'), ('D', 'E')]\n",
          "output_type": "stream"
        }
      ],
      "execution_count": null,
      "block_group": "b794810685364b4e904eaf019d828aa5"
    },
    {
      "cell_type": "markdown",
      "source": "### Networks in biology\nBiological system functions as a result of interaction between its components (proteins, genes, metabolites, etc). Networks provide a way to understand the patterns of interactions within a biological system.\n\n### Types of networks\n- <b>Directed or undirected:</b> A network in which the edges infer the direction of interaction between the nodes is referred to as directed network. An undirected network does not inform the direction of interaction between the nodes. Gene regulatory neworks are usually represented as directed networks while gene co-expression networks are usually represented as undirected networks.\n- <b>Weighted or unweighted:</b> In a weighted network, the strengths of interaction between the nodes is represented as an edge attribute. Unweighted networks do not provide information on the strength of interactions. \n- <b>Homogeneous or heterogeneous:</b> A network in which all the nodes are of same type are referred to as homogeneous network (eg. protein-protein interaction network) whereas networks containing nodes of different types are reperred to as heterogenous network (eg. drug-target network).\n- <b>Knowledge-based or data driven:</b> Knowledge-based networks are created by aggregating interaction information between different biological entities that are spread across the literature while data driven networks are created from high-throughput experimental data. A list of databases that can be used to create knowledge-based or data-driven network can be found <a href=\"https://doi.org/10.1093/bib/bbac229\" target = \"_blank\">here</a>.\n</br>\n<img src=\"Figures/BIB_Network_Review_Fig1.jpeg\" alt=\"types of network\" style=\"margin: auto; width:70%\"/>\n</br>\n<b>Figure:</b> Different types of networks. (A) An undirected-unweighted network provide information only regarding the possible connections between the nodes. No information is provided regarding the type of interaction or its strength. (B) Directed network on the other hand provides information about the direction of interaction, (C) while weighted network tell about the strength of the interaction often denoted by edge. (D) Multiplex networks are formed by obtaining interaction information from different sources for the same set of nodes. Each layer on a multiplex network refers to interaction from different sources. As the nodes within each layer is of similar type, the network within each layer could be referred to as homogenous network. (E) In contrast to homogenous network, heterogenous network involves interaction between different types of nodes.\n\nImage from <a href=\"https://doi.org/10.1093/bib/bbac229\" target=\"_blank\">Network approaches for modeling the effect of drugs and diseases </a>\n\n</br>\nIn following sections we will introduce the differnt databases that can be used to create a knowledge-based network.\n\n### Databases for creating biological networks\n- <strong>STRING: </strong>STRING (<a href=\"https://string-db.org/cgi/input\" target = \"_blank\">string-db.org</a>) is a database of known and predicted, direct physical and indirect functional protein-protein interactions. The data in STRING is obtained from five major sources including automated text mining or scientific literature, primary protein-protein interaction knowledgebases, co-expression, high-throughput experiments, and genomic context prediction. STRING is probably the largest protein-protein interaction network covering over 14000 organisms (Licata et al., 2012).\n- <strong>BioGRID: </strong> BioGRID (<a href=\"https://thebiogrid.org/\" target = \"_blank\">thebiogrid.org</a>) is a primary database archiving genetic and protein interaction data from human and other model organisms (Oughtred et al., 2021). Besides archiving all reported interactions for organisms, current focus is also on to curate conserved networks and pathways that are relevant to human health. The interactions are curated from published biomedical literature involving both low-throughput and high-throughput experiments. Apart from the protein-protein interactions and interaction between proteins and functional genetic elements, BioGRID also stores information on chemical-protein interactions retrieved from databases like DrugBank, ChemSpider, BindingDB and PDB.\n- <strong>DrugBank: </strong> DrugBank (<a href=\"https://go.drugbank.com/\" target = \"_blank\">go.drugbank.com</a>) is a comprehensive repertoire of approved as well as experimental and investigational drugs. Besides molecular information of each drug, it also provides information pertaining to associations between drugs, drug-targets, and diseases. DrugBank is also one of the largest resources of manually curated drug–drug interactions reporting both adverse and beneficial interactions. \n- <strong>Therapeutic Target Database: </strong> The Therapeutic Target Database (TTD) (<a href=\"http://db.idrblab.net/ttd/\" target = \"_blank\">db.idrblab.net/ttd</a>) collects information on known and explored therapeutic protein and nucleic acid targets along with information on the targeted disease, pathway information and the corresponding drugs for each of the targets.\n- <strong>DisGeNET: </strong> DisGeNET (<a href=\"https://www.disgenet.org/\" target = \"_blank\">www.disgenet.org</a>) is one of largest publicly available resource of genes and variants associated to human diseases. The data in DisGeNET is sourced from expert curated repositories, GWAS catalogues, animal models and the scientific literature. \n- <strong>PharmGKB: </strong> PharmGKB (<a href=\"https://www.pharmgkb.org/\" target = \"_blank\">www.pharmgkb.org</a>) is a pharmacogenomic knowledgebase hosting information on impact of genetic variation on drug responses in human. \n- <strong>OpenTargets: </strong> The OpenTargets (<a href=\"https://www.opentargets.org/\" target = \"_blank\">www.opentargets.org</a>)  project is aimed at identification and prioritization of drug targets based on human genetics and genomics data.",
      "metadata": {
        "deepnote_app_coordinates": {
          "h": 5,
          "w": 12,
          "x": 0,
          "y": 0
        },
        "cell_id": "4f0237de1a5e42d4a2eeb8952ac960d7",
        "deepnote_cell_type": "markdown"
      },
      "block_group": "4f0237de1a5e42d4a2eeb8952ac960d7"
    },
    {
      "cell_type": "markdown",
      "source": "**Let us try creating a small protein protein interaction network from STRINGdb.**\n\nMost of the aforementioned databases stores interaction information as table of interacting nodes where each row of the table represents an edge. This edge list can be imported into NetworkX framework to create a network object. Besides the two connected nodes, the table may include other related information that can be used as node or edge attribute in the network.\n",
      "metadata": {
        "tags": [],
        "deepnote_cell_height": 133.5625,
        "deepnote_app_coordinates": {
          "h": 5,
          "w": 12,
          "x": 0,
          "y": 0
        },
        "cell_id": "3d1a9353953343c48fe917ba9505acb5",
        "deepnote_cell_type": "markdown"
      },
      "block_group": "090dd4e3128a49d9900bcafabc8fe4a8"
    },
    {
      "cell_type": "markdown",
      "source": "<p style=\"padding: 10px 10px 30px 10px; border: 2px solid blue;\">\n<b>Box 1.3: Example STRING PPI network</b></br>\nThe example PPI network used in this tutorial is a part of the larger human interactome in STRINGdb. The network contains proteins surrounding JAK1, JAK2, TMPRSS2 and AR, connected by reported physical interactions. The proteins JAK1 AND JAK2 are established drug target for myelofibrosis and currently in clinical trial to establish their potential as drug target for Covid-19. Similarly, TMPRSS2 is also under clinical trial for Covid-19. AR is a successful target for acute myeloid leukaemia and alcoholic hepatitis.\n</p>",
      "metadata": {
        "tags": [],
        "deepnote_cell_height": 253.125,
        "deepnote_app_coordinates": {
          "h": 5,
          "w": 12,
          "x": 0,
          "y": 0
        },
        "cell_id": "22a44074ac464a058ddd593e408f6f7b",
        "deepnote_cell_type": "markdown"
      },
      "block_group": "ef1d9c468c324d93b5e48b4cac8ee8b8"
    },
    {
      "cell_type": "code",
      "source": "# Reading the edgelist from STRING\nimport pandas as pd\nedge_list = pd.read_table(\"Data/1_STRING_network.tsv\")\nedge_list.head()",
      "metadata": {
        "tags": [],
        "source_hash": null,
        "execution_start": 1692276142089,
        "execution_millis": 1966,
        "deepnote_cell_height": 461,
        "deepnote_app_coordinates": {
          "h": 5,
          "w": 12,
          "x": 0,
          "y": 0
        },
        "deepnote_to_be_reexecuted": false,
        "cell_id": "84535343cc8c4c3491b1052150660564",
        "deepnote_cell_type": "code"
      },
      "outputs": [
        {
          "output_type": "error",
          "ename": "FileNotFoundError",
          "evalue": "[Errno 2] No such file or directory: 'Data/1_STRING_network.tsv'",
          "traceback": [
            "\u001b[0;31m---------------------------------------------------------------------------\u001b[0m",
            "\u001b[0;31mFileNotFoundError\u001b[0m                         Traceback (most recent call last)",
            "Cell \u001b[0;32mIn [9], line 3\u001b[0m\n\u001b[1;32m      1\u001b[0m \u001b[38;5;66;03m# Reading the edgelist from STRING\u001b[39;00m\n\u001b[1;32m      2\u001b[0m \u001b[38;5;28;01mimport\u001b[39;00m \u001b[38;5;21;01mpandas\u001b[39;00m \u001b[38;5;28;01mas\u001b[39;00m \u001b[38;5;21;01mpd\u001b[39;00m\n\u001b[0;32m----> 3\u001b[0m edge_list \u001b[38;5;241m=\u001b[39m \u001b[43mpd\u001b[49m\u001b[38;5;241;43m.\u001b[39;49m\u001b[43mread_table\u001b[49m\u001b[43m(\u001b[49m\u001b[38;5;124;43m\"\u001b[39;49m\u001b[38;5;124;43mData/1_STRING_network.tsv\u001b[39;49m\u001b[38;5;124;43m\"\u001b[39;49m\u001b[43m)\u001b[49m\n\u001b[1;32m      4\u001b[0m edge_list\u001b[38;5;241m.\u001b[39mhead()\n",
            "File \u001b[0;32m/shared-libs/python3.9/py/lib/python3.9/site-packages/pandas/io/parsers.py:689\u001b[0m, in \u001b[0;36mread_table\u001b[0;34m(filepath_or_buffer, sep, delimiter, header, names, index_col, usecols, squeeze, prefix, mangle_dupe_cols, dtype, engine, converters, true_values, false_values, skipinitialspace, skiprows, skipfooter, nrows, na_values, keep_default_na, na_filter, verbose, skip_blank_lines, parse_dates, infer_datetime_format, keep_date_col, date_parser, dayfirst, cache_dates, iterator, chunksize, compression, thousands, decimal, lineterminator, quotechar, quoting, doublequote, escapechar, comment, encoding, dialect, error_bad_lines, warn_bad_lines, delim_whitespace, low_memory, memory_map, float_precision)\u001b[0m\n\u001b[1;32m    684\u001b[0m kwds_defaults \u001b[38;5;241m=\u001b[39m _refine_defaults_read(\n\u001b[1;32m    685\u001b[0m     dialect, delimiter, delim_whitespace, engine, sep, defaults\u001b[38;5;241m=\u001b[39m{\u001b[38;5;124m\"\u001b[39m\u001b[38;5;124mdelimiter\u001b[39m\u001b[38;5;124m\"\u001b[39m: \u001b[38;5;124m\"\u001b[39m\u001b[38;5;130;01m\\t\u001b[39;00m\u001b[38;5;124m\"\u001b[39m}\n\u001b[1;32m    686\u001b[0m )\n\u001b[1;32m    687\u001b[0m kwds\u001b[38;5;241m.\u001b[39mupdate(kwds_defaults)\n\u001b[0;32m--> 689\u001b[0m \u001b[38;5;28;01mreturn\u001b[39;00m \u001b[43m_read\u001b[49m\u001b[43m(\u001b[49m\u001b[43mfilepath_or_buffer\u001b[49m\u001b[43m,\u001b[49m\u001b[43m \u001b[49m\u001b[43mkwds\u001b[49m\u001b[43m)\u001b[49m\n",
            "File \u001b[0;32m/shared-libs/python3.9/py/lib/python3.9/site-packages/pandas/io/parsers.py:462\u001b[0m, in \u001b[0;36m_read\u001b[0;34m(filepath_or_buffer, kwds)\u001b[0m\n\u001b[1;32m    459\u001b[0m _validate_names(kwds\u001b[38;5;241m.\u001b[39mget(\u001b[38;5;124m\"\u001b[39m\u001b[38;5;124mnames\u001b[39m\u001b[38;5;124m\"\u001b[39m, \u001b[38;5;28;01mNone\u001b[39;00m))\n\u001b[1;32m    461\u001b[0m \u001b[38;5;66;03m# Create the parser.\u001b[39;00m\n\u001b[0;32m--> 462\u001b[0m parser \u001b[38;5;241m=\u001b[39m \u001b[43mTextFileReader\u001b[49m\u001b[43m(\u001b[49m\u001b[43mfilepath_or_buffer\u001b[49m\u001b[43m,\u001b[49m\u001b[43m \u001b[49m\u001b[38;5;241;43m*\u001b[39;49m\u001b[38;5;241;43m*\u001b[39;49m\u001b[43mkwds\u001b[49m\u001b[43m)\u001b[49m\n\u001b[1;32m    464\u001b[0m \u001b[38;5;28;01mif\u001b[39;00m chunksize \u001b[38;5;129;01mor\u001b[39;00m iterator:\n\u001b[1;32m    465\u001b[0m     \u001b[38;5;28;01mreturn\u001b[39;00m parser\n",
            "File \u001b[0;32m/shared-libs/python3.9/py/lib/python3.9/site-packages/pandas/io/parsers.py:819\u001b[0m, in \u001b[0;36mTextFileReader.__init__\u001b[0;34m(self, f, engine, **kwds)\u001b[0m\n\u001b[1;32m    816\u001b[0m \u001b[38;5;28;01mif\u001b[39;00m \u001b[38;5;124m\"\u001b[39m\u001b[38;5;124mhas_index_names\u001b[39m\u001b[38;5;124m\"\u001b[39m \u001b[38;5;129;01min\u001b[39;00m kwds:\n\u001b[1;32m    817\u001b[0m     \u001b[38;5;28mself\u001b[39m\u001b[38;5;241m.\u001b[39moptions[\u001b[38;5;124m\"\u001b[39m\u001b[38;5;124mhas_index_names\u001b[39m\u001b[38;5;124m\"\u001b[39m] \u001b[38;5;241m=\u001b[39m kwds[\u001b[38;5;124m\"\u001b[39m\u001b[38;5;124mhas_index_names\u001b[39m\u001b[38;5;124m\"\u001b[39m]\n\u001b[0;32m--> 819\u001b[0m \u001b[38;5;28mself\u001b[39m\u001b[38;5;241m.\u001b[39m_engine \u001b[38;5;241m=\u001b[39m \u001b[38;5;28;43mself\u001b[39;49m\u001b[38;5;241;43m.\u001b[39;49m\u001b[43m_make_engine\u001b[49m\u001b[43m(\u001b[49m\u001b[38;5;28;43mself\u001b[39;49m\u001b[38;5;241;43m.\u001b[39;49m\u001b[43mengine\u001b[49m\u001b[43m)\u001b[49m\n",
            "File \u001b[0;32m/shared-libs/python3.9/py/lib/python3.9/site-packages/pandas/io/parsers.py:1050\u001b[0m, in \u001b[0;36mTextFileReader._make_engine\u001b[0;34m(self, engine)\u001b[0m\n\u001b[1;32m   1046\u001b[0m     \u001b[38;5;28;01mraise\u001b[39;00m \u001b[38;5;167;01mValueError\u001b[39;00m(\n\u001b[1;32m   1047\u001b[0m         \u001b[38;5;124mf\u001b[39m\u001b[38;5;124m\"\u001b[39m\u001b[38;5;124mUnknown engine: \u001b[39m\u001b[38;5;132;01m{\u001b[39;00mengine\u001b[38;5;132;01m}\u001b[39;00m\u001b[38;5;124m (valid options are \u001b[39m\u001b[38;5;132;01m{\u001b[39;00mmapping\u001b[38;5;241m.\u001b[39mkeys()\u001b[38;5;132;01m}\u001b[39;00m\u001b[38;5;124m)\u001b[39m\u001b[38;5;124m\"\u001b[39m\n\u001b[1;32m   1048\u001b[0m     )\n\u001b[1;32m   1049\u001b[0m \u001b[38;5;66;03m# error: Too many arguments for \"ParserBase\"\u001b[39;00m\n\u001b[0;32m-> 1050\u001b[0m \u001b[38;5;28;01mreturn\u001b[39;00m \u001b[43mmapping\u001b[49m\u001b[43m[\u001b[49m\u001b[43mengine\u001b[49m\u001b[43m]\u001b[49m\u001b[43m(\u001b[49m\u001b[38;5;28;43mself\u001b[39;49m\u001b[38;5;241;43m.\u001b[39;49m\u001b[43mf\u001b[49m\u001b[43m,\u001b[49m\u001b[43m \u001b[49m\u001b[38;5;241;43m*\u001b[39;49m\u001b[38;5;241;43m*\u001b[39;49m\u001b[38;5;28;43mself\u001b[39;49m\u001b[38;5;241;43m.\u001b[39;49m\u001b[43moptions\u001b[49m\u001b[43m)\u001b[49m\n",
            "File \u001b[0;32m/shared-libs/python3.9/py/lib/python3.9/site-packages/pandas/io/parsers.py:1867\u001b[0m, in \u001b[0;36mCParserWrapper.__init__\u001b[0;34m(self, src, **kwds)\u001b[0m\n\u001b[1;32m   1864\u001b[0m kwds[\u001b[38;5;124m\"\u001b[39m\u001b[38;5;124musecols\u001b[39m\u001b[38;5;124m\"\u001b[39m] \u001b[38;5;241m=\u001b[39m \u001b[38;5;28mself\u001b[39m\u001b[38;5;241m.\u001b[39musecols\n\u001b[1;32m   1866\u001b[0m \u001b[38;5;66;03m# open handles\u001b[39;00m\n\u001b[0;32m-> 1867\u001b[0m \u001b[38;5;28;43mself\u001b[39;49m\u001b[38;5;241;43m.\u001b[39;49m\u001b[43m_open_handles\u001b[49m\u001b[43m(\u001b[49m\u001b[43msrc\u001b[49m\u001b[43m,\u001b[49m\u001b[43m \u001b[49m\u001b[43mkwds\u001b[49m\u001b[43m)\u001b[49m\n\u001b[1;32m   1868\u001b[0m \u001b[38;5;28;01massert\u001b[39;00m \u001b[38;5;28mself\u001b[39m\u001b[38;5;241m.\u001b[39mhandles \u001b[38;5;129;01mis\u001b[39;00m \u001b[38;5;129;01mnot\u001b[39;00m \u001b[38;5;28;01mNone\u001b[39;00m\n\u001b[1;32m   1869\u001b[0m \u001b[38;5;28;01mfor\u001b[39;00m key \u001b[38;5;129;01min\u001b[39;00m (\u001b[38;5;124m\"\u001b[39m\u001b[38;5;124mstorage_options\u001b[39m\u001b[38;5;124m\"\u001b[39m, \u001b[38;5;124m\"\u001b[39m\u001b[38;5;124mencoding\u001b[39m\u001b[38;5;124m\"\u001b[39m, \u001b[38;5;124m\"\u001b[39m\u001b[38;5;124mmemory_map\u001b[39m\u001b[38;5;124m\"\u001b[39m, \u001b[38;5;124m\"\u001b[39m\u001b[38;5;124mcompression\u001b[39m\u001b[38;5;124m\"\u001b[39m):\n",
            "File \u001b[0;32m/shared-libs/python3.9/py/lib/python3.9/site-packages/pandas/io/parsers.py:1362\u001b[0m, in \u001b[0;36mParserBase._open_handles\u001b[0;34m(self, src, kwds)\u001b[0m\n\u001b[1;32m   1358\u001b[0m \u001b[38;5;28;01mdef\u001b[39;00m \u001b[38;5;21m_open_handles\u001b[39m(\u001b[38;5;28mself\u001b[39m, src: FilePathOrBuffer, kwds: Dict[\u001b[38;5;28mstr\u001b[39m, Any]) \u001b[38;5;241m-\u001b[39m\u001b[38;5;241m>\u001b[39m \u001b[38;5;28;01mNone\u001b[39;00m:\n\u001b[1;32m   1359\u001b[0m     \u001b[38;5;124;03m\"\"\"\u001b[39;00m\n\u001b[1;32m   1360\u001b[0m \u001b[38;5;124;03m    Let the readers open IOHanldes after they are done with their potential raises.\u001b[39;00m\n\u001b[1;32m   1361\u001b[0m \u001b[38;5;124;03m    \"\"\"\u001b[39;00m\n\u001b[0;32m-> 1362\u001b[0m     \u001b[38;5;28mself\u001b[39m\u001b[38;5;241m.\u001b[39mhandles \u001b[38;5;241m=\u001b[39m \u001b[43mget_handle\u001b[49m\u001b[43m(\u001b[49m\n\u001b[1;32m   1363\u001b[0m \u001b[43m        \u001b[49m\u001b[43msrc\u001b[49m\u001b[43m,\u001b[49m\n\u001b[1;32m   1364\u001b[0m \u001b[43m        \u001b[49m\u001b[38;5;124;43m\"\u001b[39;49m\u001b[38;5;124;43mr\u001b[39;49m\u001b[38;5;124;43m\"\u001b[39;49m\u001b[43m,\u001b[49m\n\u001b[1;32m   1365\u001b[0m \u001b[43m        \u001b[49m\u001b[43mencoding\u001b[49m\u001b[38;5;241;43m=\u001b[39;49m\u001b[43mkwds\u001b[49m\u001b[38;5;241;43m.\u001b[39;49m\u001b[43mget\u001b[49m\u001b[43m(\u001b[49m\u001b[38;5;124;43m\"\u001b[39;49m\u001b[38;5;124;43mencoding\u001b[39;49m\u001b[38;5;124;43m\"\u001b[39;49m\u001b[43m,\u001b[49m\u001b[43m \u001b[49m\u001b[38;5;28;43;01mNone\u001b[39;49;00m\u001b[43m)\u001b[49m\u001b[43m,\u001b[49m\n\u001b[1;32m   1366\u001b[0m \u001b[43m        \u001b[49m\u001b[43mcompression\u001b[49m\u001b[38;5;241;43m=\u001b[39;49m\u001b[43mkwds\u001b[49m\u001b[38;5;241;43m.\u001b[39;49m\u001b[43mget\u001b[49m\u001b[43m(\u001b[49m\u001b[38;5;124;43m\"\u001b[39;49m\u001b[38;5;124;43mcompression\u001b[39;49m\u001b[38;5;124;43m\"\u001b[39;49m\u001b[43m,\u001b[49m\u001b[43m \u001b[49m\u001b[38;5;28;43;01mNone\u001b[39;49;00m\u001b[43m)\u001b[49m\u001b[43m,\u001b[49m\n\u001b[1;32m   1367\u001b[0m \u001b[43m        \u001b[49m\u001b[43mmemory_map\u001b[49m\u001b[38;5;241;43m=\u001b[39;49m\u001b[43mkwds\u001b[49m\u001b[38;5;241;43m.\u001b[39;49m\u001b[43mget\u001b[49m\u001b[43m(\u001b[49m\u001b[38;5;124;43m\"\u001b[39;49m\u001b[38;5;124;43mmemory_map\u001b[39;49m\u001b[38;5;124;43m\"\u001b[39;49m\u001b[43m,\u001b[49m\u001b[43m \u001b[49m\u001b[38;5;28;43;01mFalse\u001b[39;49;00m\u001b[43m)\u001b[49m\u001b[43m,\u001b[49m\n\u001b[1;32m   1368\u001b[0m \u001b[43m        \u001b[49m\u001b[43mstorage_options\u001b[49m\u001b[38;5;241;43m=\u001b[39;49m\u001b[43mkwds\u001b[49m\u001b[38;5;241;43m.\u001b[39;49m\u001b[43mget\u001b[49m\u001b[43m(\u001b[49m\u001b[38;5;124;43m\"\u001b[39;49m\u001b[38;5;124;43mstorage_options\u001b[39;49m\u001b[38;5;124;43m\"\u001b[39;49m\u001b[43m,\u001b[49m\u001b[43m \u001b[49m\u001b[38;5;28;43;01mNone\u001b[39;49;00m\u001b[43m)\u001b[49m\u001b[43m,\u001b[49m\n\u001b[1;32m   1369\u001b[0m \u001b[43m    \u001b[49m\u001b[43m)\u001b[49m\n",
            "File \u001b[0;32m/shared-libs/python3.9/py/lib/python3.9/site-packages/pandas/io/common.py:647\u001b[0m, in \u001b[0;36mget_handle\u001b[0;34m(path_or_buf, mode, encoding, compression, memory_map, is_text, errors, storage_options)\u001b[0m\n\u001b[1;32m    645\u001b[0m         errors \u001b[38;5;241m=\u001b[39m \u001b[38;5;124m\"\u001b[39m\u001b[38;5;124mreplace\u001b[39m\u001b[38;5;124m\"\u001b[39m\n\u001b[1;32m    646\u001b[0m     \u001b[38;5;66;03m# Encoding\u001b[39;00m\n\u001b[0;32m--> 647\u001b[0m     handle \u001b[38;5;241m=\u001b[39m \u001b[38;5;28;43mopen\u001b[39;49m\u001b[43m(\u001b[49m\n\u001b[1;32m    648\u001b[0m \u001b[43m        \u001b[49m\u001b[43mhandle\u001b[49m\u001b[43m,\u001b[49m\n\u001b[1;32m    649\u001b[0m \u001b[43m        \u001b[49m\u001b[43mioargs\u001b[49m\u001b[38;5;241;43m.\u001b[39;49m\u001b[43mmode\u001b[49m\u001b[43m,\u001b[49m\n\u001b[1;32m    650\u001b[0m \u001b[43m        \u001b[49m\u001b[43mencoding\u001b[49m\u001b[38;5;241;43m=\u001b[39;49m\u001b[43mioargs\u001b[49m\u001b[38;5;241;43m.\u001b[39;49m\u001b[43mencoding\u001b[49m\u001b[43m,\u001b[49m\n\u001b[1;32m    651\u001b[0m \u001b[43m        \u001b[49m\u001b[43merrors\u001b[49m\u001b[38;5;241;43m=\u001b[39;49m\u001b[43merrors\u001b[49m\u001b[43m,\u001b[49m\n\u001b[1;32m    652\u001b[0m \u001b[43m        \u001b[49m\u001b[43mnewline\u001b[49m\u001b[38;5;241;43m=\u001b[39;49m\u001b[38;5;124;43m\"\u001b[39;49m\u001b[38;5;124;43m\"\u001b[39;49m\u001b[43m,\u001b[49m\n\u001b[1;32m    653\u001b[0m \u001b[43m    \u001b[49m\u001b[43m)\u001b[49m\n\u001b[1;32m    654\u001b[0m \u001b[38;5;28;01melse\u001b[39;00m:\n\u001b[1;32m    655\u001b[0m     \u001b[38;5;66;03m# Binary mode\u001b[39;00m\n\u001b[1;32m    656\u001b[0m     handle \u001b[38;5;241m=\u001b[39m \u001b[38;5;28mopen\u001b[39m(handle, ioargs\u001b[38;5;241m.\u001b[39mmode)\n",
            "\u001b[0;31mFileNotFoundError\u001b[0m: [Errno 2] No such file or directory: 'Data/1_STRING_network.tsv'"
          ]
        }
      ],
      "execution_count": null,
      "block_group": "bd81c2a9af4f4cd9a0cd9f6de82bffe2"
    },
    {
      "cell_type": "code",
      "source": "# Creating network from edge list \nimport networkx as nx\nSTRING_PPI = nx.from_pandas_edgelist(df = edge_list,\n                            source = \"node1\", \n                            target = \"node2\",\n                            edge_attr = \"combined_score\")\nSTRING_PPI_pos = nx.spring_layout(STRING_PPI, seed = 20)\n# STRING_PPI_pos = nx.circular_layout(STRING_PPI)\nnx.draw(STRING_PPI, with_labels = True, pos = STRING_PPI_pos, node_size = 1000, node_color = \"#1BB3F5\")",
      "metadata": {
        "tags": [],
        "source_hash": null,
        "execution_start": 1692195065461,
        "execution_millis": 537,
        "deepnote_cell_height": 540,
        "deepnote_output_heights": [
          304
        ],
        "deepnote_app_coordinates": {
          "h": 5,
          "w": 12,
          "x": 0,
          "y": 0
        },
        "deepnote_to_be_reexecuted": false,
        "cell_id": "f12bb5d1f7e34fd191aa0bab4b265ae0",
        "deepnote_cell_type": "code"
      },
      "outputs": [],
      "execution_count": 0,
      "block_group": "52a16b8fab8841d9a6e2fecde0960c8f"
    },
    {
      "cell_type": "markdown",
      "source": "### Network properties\nA primary task after creating a network is to explore its properties, and particularly topological properties, which can help us identify relevant sub-structures within a network.\n\n*Properties derived from element-level analysis:*\n\n- <b>Centrality</b>\n\n*Properties derived from group-level analysis*: \n\n- **Connected components**\n- **Communities**\n\n*Properties derived from network-level analysis*: \n\n- **Density**\n- **Network diameter**\n- **Clustering coefficient**\n- **Network modularity**\n- **Network topology: Scale-free networks**",
      "metadata": {
        "tags": [],
        "deepnote_cell_height": 532.859375,
        "deepnote_app_coordinates": {
          "h": 5,
          "w": 12,
          "x": 0,
          "y": 0
        },
        "cell_id": "5094a3d25eb447b29c5b3e725e8c294b",
        "deepnote_cell_type": "markdown"
      },
      "block_group": "dde1280afb6148a387a47430f85f8c65"
    },
    {
      "cell_type": "code",
      "source": "# Get basic properties of the network\nprint(\"Number of nodes:\", STRING_PPI.number_of_nodes())\nprint(\"Number of edges:\", STRING_PPI.number_of_edges())\nprint(\"Number of isolated nodes:\", nx.number_of_isolates(STRING_PPI))\nprint(\"Number of self loops:\", nx.number_of_selfloops(STRING_PPI))",
      "metadata": {
        "tags": [],
        "source_hash": null,
        "execution_start": 1692195065701,
        "execution_millis": 31,
        "deepnote_cell_height": 239.75,
        "deepnote_app_coordinates": {
          "h": 5,
          "w": 12,
          "x": 0,
          "y": 0
        },
        "deepnote_to_be_reexecuted": true,
        "cell_id": "f780602b1cca47ee859a6ee157353f29",
        "deepnote_cell_type": "code"
      },
      "outputs": [],
      "execution_count": null,
      "block_group": "df188ea3d21f45f79a4acbc1bbfcd76c"
    },
    {
      "cell_type": "markdown",
      "source": "#### Quantifying the importance of a node within a network\n\nA bunch of graph metrics exist that quantify importance of a node within a network.\nThese are collectively termed \"centrality\", but all quantify slightly different things.\n\n- degree centrality\n- betweenness centrality\n- closeness centrality\n",
      "metadata": {
        "tags": [],
        "deepnote_cell_height": 211.953125,
        "deepnote_app_coordinates": {
          "h": 5,
          "w": 12,
          "x": 0,
          "y": 0
        },
        "cell_id": "039d3f755afd4e59bfaf42a294249fee",
        "deepnote_cell_type": "markdown"
      },
      "block_group": "870128c1d4cd4a989566f2bce6d302aa"
    },
    {
      "cell_type": "markdown",
      "source": "##### Degree centrality\n\nThe degree of a node measures the number of direct neighbours it has. It is calculated as the sum of all edges connected to that node (here indicated with *i*). Mathematically, for undirected network with an adjacency matrix ${A}$,\n\n$$\n\\text{C}_\\text{Degree}{(i)} = \\sum_{j=1}^{n}A_ij\n$$\n\nIn a directed network, depending on the number of incoming and outgoing edges, degree can be in-degree or out-degree. Higher the degree of a node, more centrally located it is. \n\nTo be noted, in the python package NetworkX, the <code>degree()</code> function returns the absolute number of edges connected to each node of the input graph.",
      "metadata": {
        "tags": [],
        "deepnote_cell_height": 294.265625,
        "deepnote_app_coordinates": {
          "h": 5,
          "w": 12,
          "x": 0,
          "y": 0
        },
        "cell_id": "acc27223d7cb4616b4422656840581e5",
        "deepnote_cell_type": "markdown"
      },
      "block_group": "8ba27b5ec0de475e8c0182a4c73b856e"
    },
    {
      "cell_type": "code",
      "source": "# Calculating degree for each node of the network\nnode_degree = dict(STRING_PPI.degree())\nnx.draw(STRING_PPI, labels = node_degree, pos = STRING_PPI_pos, node_size = 1000, node_color = \"#1BB3F5\")",
      "metadata": {
        "tags": [],
        "source_hash": null,
        "execution_start": 1692195065713,
        "execution_millis": 441,
        "deepnote_cell_height": 432,
        "deepnote_output_heights": [
          304
        ],
        "deepnote_app_coordinates": {
          "h": 5,
          "w": 12,
          "x": 0,
          "y": 0
        },
        "deepnote_to_be_reexecuted": true,
        "cell_id": "a0ff0526c13b41c2b4b5cabf7951bdbb",
        "deepnote_cell_type": "code"
      },
      "outputs": [],
      "execution_count": null,
      "block_group": "be914aaef1a3482f99dede4b0bd97fe3"
    },
    {
      "cell_type": "markdown",
      "source": "On the other hand, the function <code>degree_centrality()</code> returns degree of each node normalised by dividing with the maximum possible degree in a simple graph.\n\n$$\n\\text{C}_\\text{Degree}{(j)} = \\frac{\\sum_{j=1}^{n}A_ij}{n-1}\n$$\nwhere ${n}$ is the total number of nodes in the network.",
      "metadata": {
        "tags": [],
        "deepnote_cell_height": 165.8125,
        "deepnote_app_coordinates": {
          "h": 5,
          "w": 12,
          "x": 0,
          "y": 0
        },
        "cell_id": "caa46c68805b45609ee29fd6454ae1e6",
        "deepnote_cell_type": "markdown"
      },
      "block_group": "b12d6c86aa1c4262bd6c001c4d3c5b23"
    },
    {
      "cell_type": "code",
      "source": "degree_centrality = nx.degree_centrality(STRING_PPI)\ndegree_centrality = {key : round(degree_centrality[key], 2) for key in degree_centrality}\nnx.draw(STRING_PPI, labels = degree_centrality, pos = STRING_PPI_pos, node_size = 1000, node_color = \"#1BB3F5\")",
      "metadata": {
        "tags": [],
        "source_hash": null,
        "execution_start": 1692195065962,
        "execution_millis": 494,
        "deepnote_cell_height": 437,
        "deepnote_output_heights": [
          304
        ],
        "deepnote_app_coordinates": {
          "h": 5,
          "w": 12,
          "x": 0,
          "y": 0
        },
        "deepnote_to_be_reexecuted": true,
        "cell_id": "d3f7558c9a9d427cbb9dcb550feae3b1",
        "deepnote_cell_type": "code"
      },
      "outputs": [],
      "execution_count": null,
      "block_group": "b0dc2d19995a4aad99d3a8f7437c50bb"
    },
    {
      "cell_type": "markdown",
      "source": "##### Betweenness centrality\n\nThe betweenness of node is the sum of all shortest paths that pass through that node. Nodes with high betweenness in a network often act as bridge between connecting different parts of the network. Nodes with high betweenness  play an important role in modularization of the network.\n\n$$\n\\text{C}_{Betweenness}{(v)} = \\sum_{s \\neq v \\neq t}\\frac{\\sigma_{st}{(v)}}{\\sigma_{st}}\n$$\n\nwhere $\\sigma_{st}$ is the total number of shortest paths from ${s}$ to node ${t}$ and $\\sigma_{st}{(v)}$ is the number of those paths passing through node ${v}$ (not where node ${v}$  is an end-point).\n",
      "metadata": {
        "tags": [],
        "deepnote_cell_height": 254.984375,
        "deepnote_app_coordinates": {
          "h": 5,
          "w": 12,
          "x": 0,
          "y": 0
        },
        "cell_id": "9567e71c4e5c432d8ee5caa91ee27e3d",
        "deepnote_cell_type": "markdown"
      },
      "block_group": "78b95e10308143d7a3d582a214074032"
    },
    {
      "cell_type": "code",
      "source": "betweenness_centrality = nx.betweenness_centrality(STRING_PPI)\nbetweenness_centrality = {key : round(betweenness_centrality[key], 2) for key in betweenness_centrality}\nnx.draw(STRING_PPI, labels = betweenness_centrality, pos = STRING_PPI_pos, node_size = 1000, node_color = \"#1BB3F5\")",
      "metadata": {
        "tags": [],
        "source_hash": null,
        "execution_start": 1692195066197,
        "execution_millis": 506,
        "deepnote_cell_height": 437,
        "deepnote_output_heights": [
          304
        ],
        "deepnote_app_coordinates": {
          "h": 5,
          "w": 12,
          "x": 0,
          "y": 0
        },
        "deepnote_to_be_reexecuted": true,
        "cell_id": "eaaccc022e804da29776f802159b13c4",
        "deepnote_cell_type": "code"
      },
      "outputs": [],
      "execution_count": null,
      "block_group": "2ffb225192d8481a87ebc48b35255694"
    },
    {
      "cell_type": "markdown",
      "source": "##### Closeness centrality\n\nThe closeness centrality of a node measures how close the node is to all other nodes in the network. It is calculated as the sum of all shortest paths from the node to all other nodes in the network. A higher value of closeness centrality for a node indicate higher centrality. A node with high closeness centrality can quickly communicate with other nodes in the network. \n\n\n$$\n\\text{C}_{Closeness}{(v)} = \\frac{|N|-1}{\\sum_{u}{d(u,v)}}\n$$\n\n\nwhere ${d(u,v)}$ is the distance (length of shortest path) of node ${u}$ from node ${v}$ and ${|N|}$ is the total number of nodes the network.",
      "metadata": {
        "tags": [],
        "deepnote_cell_height": 224.421875,
        "deepnote_app_coordinates": {
          "h": 5,
          "w": 12,
          "x": 0,
          "y": 0
        },
        "cell_id": "4180045fc02d4f148674ba3cb4dd932d",
        "deepnote_cell_type": "markdown"
      },
      "block_group": "4a0fb2284ce84f6a8006669fdf154915"
    },
    {
      "cell_type": "code",
      "source": "closeness_centrality = nx.closeness_centrality(STRING_PPI)\ncloseness_centrality = {key : round(closeness_centrality[key], 2) for key in closeness_centrality}\nnx.draw(STRING_PPI, labels = closeness_centrality, pos = STRING_PPI_pos, node_size = 1000, node_color = \"#1BB3F5\")",
      "metadata": {
        "tags": [],
        "source_hash": null,
        "execution_start": 1692195066439,
        "execution_millis": 416,
        "deepnote_cell_height": 437,
        "deepnote_output_heights": [
          304
        ],
        "deepnote_app_coordinates": {
          "h": 5,
          "w": 12,
          "x": 0,
          "y": 0
        },
        "deepnote_to_be_reexecuted": true,
        "cell_id": "67bae32d739340bea405e067277c3b68",
        "deepnote_cell_type": "code"
      },
      "outputs": [],
      "execution_count": null,
      "block_group": "6b9392a25faf4403bf4301833b0a692b"
    },
    {
      "cell_type": "code",
      "source": "centrality_table = pd.DataFrame({\"Degree centrality\" : pd.Series(degree_centrality),\n                                    \"Betweenness\" : pd.Series(betweenness_centrality),\n                                    \"Closeness centrality\" : pd.Series(closeness_centrality)})\ncentrality_table",
      "metadata": {
        "tags": [],
        "source_hash": null,
        "execution_start": 1692195066707,
        "execution_millis": 112,
        "is_output_hidden": false,
        "deepnote_cell_height": 863,
        "deepnote_table_state": {
          "sortBy": [
            {
              "id": "Degree centrality",
              "type": "desc"
            }
          ],
          "filters": [],
          "pageSize": 100,
          "pageIndex": 0
        },
        "deepnote_table_loading": false,
        "deepnote_app_coordinates": {
          "h": 5,
          "w": 12,
          "x": 0,
          "y": 0
        },
        "deepnote_to_be_reexecuted": true,
        "deepnote_app_is_output_hidden": false,
        "cell_id": "44491a5ae8004c498c085aaecec9f1de",
        "deepnote_cell_type": "code"
      },
      "outputs": [],
      "execution_count": null,
      "block_group": "04906633bf454f7e85e17b377cc5ed3b"
    },
    {
      "cell_type": "markdown",
      "source": "<p style=\"padding: 10px 10px 30px 10px; border: 2px solid red;\">\n<b>Box 1.4: Exercise</b>\nAre the nodes with the highest centralities same? In the network, plot the nodes with highest centralities.\n</p>",
      "metadata": {
        "tags": [],
        "deepnote_cell_height": 141.171875,
        "deepnote_app_coordinates": {
          "h": 5,
          "w": 12,
          "x": 0,
          "y": 0
        },
        "cell_id": "0fa7e998d119475a9689d890187bc37e",
        "deepnote_cell_type": "markdown"
      },
      "block_group": "6723b20cb7d44f7bb63173c02932aa72"
    },
    {
      "cell_type": "code",
      "source": "# Hint\ntop_degree = list(centrality_table.sort_values(by = \"Degree centrality\", ascending = False)[0:1].index)\nnx.draw(STRING_PPI, with_labels = True, pos = STRING_PPI_pos, node_size = 1000, node_color = \"#1BB3F5\")\nnx.draw_networkx_nodes(STRING_PPI, STRING_PPI_pos, nodelist = top_degree, node_size = 1000, node_color = \"green\")\nplt.show()",
      "metadata": {
        "tags": [],
        "source_hash": null,
        "execution_start": 1692195066728,
        "execution_millis": 410,
        "deepnote_cell_height": 473,
        "deepnote_output_heights": [
          304
        ],
        "deepnote_app_coordinates": {
          "h": 5,
          "w": 12,
          "x": 0,
          "y": 0
        },
        "deepnote_to_be_reexecuted": true,
        "cell_id": "ae3736b780a24ee88651a3de2bb182a1",
        "deepnote_cell_type": "code"
      },
      "outputs": [],
      "execution_count": null,
      "block_group": "85a8c3a1e147495ebb28dc983c66fe13"
    },
    {
      "cell_type": "markdown",
      "source": "#### Group-level analysis\n\nMolecular networks are often made up of subsets of biological entities (or molecular features) that interact more intensely among each other than they do with the rest of the network, and it is often very important in research and analysis to identify or approximate these subsets as best as possible so that they can be studied more closely. In complex networks, this is not an easy task. Most of the computational methods we have available to us for finding densely connected subsets of vertices (usually called communities).\n\n##### Connected components\n\nAn important concept within methods for community detection is \"connected component\".\n\nA connected component of a graph is a connected subset of vertices, none of which are connected to any other vertex in the graph. Alternately, a connected component can be defined as a group of nodes for which there exist at least one path  between any two nodes of the group but there exists no path between the nodes of another group. In a fully connected graph, there is only one component i.e. all nodes are connected to each other directly or indirectly. In an empty graph, there are no edges connecting the nodes and each node acts as an individual component.\n\nConnected components can help finding connected clusters.\n\n",
      "metadata": {
        "tags": [],
        "deepnote_cell_height": 412.6875,
        "deepnote_app_coordinates": {
          "h": 5,
          "w": 12,
          "x": 0,
          "y": 0
        },
        "cell_id": "3b98e724c89c4de59daea0950a6074f5",
        "deepnote_cell_type": "markdown"
      },
      "block_group": "71b3f65518174623b2621a1f5154c8b9"
    },
    {
      "cell_type": "code",
      "source": "# Example network with three connected component\nedge_remove = [(\"AR\", \"HSP90AA1\"), (\"AR\", \"FOXA1\")]\nSTRING_PPI_cc = STRING_PPI.copy()\nSTRING_PPI_cc.remove_edges_from(edge_remove)\nnx.draw(STRING_PPI_cc, with_labels = True, pos = STRING_PPI_pos, node_size = 1000, node_color = \"#1BB3F5\")\n\nprint(\"Number of connected components:\", nx.number_connected_components(STRING_PPI_cc))\n\n# Print the number of nodes in each component\n[len(c) for c in sorted(nx.connected_components(STRING_PPI_cc), key = len, reverse = True)]\n",
      "metadata": {
        "tags": [],
        "source_hash": null,
        "execution_start": 1692195066969,
        "execution_millis": 23,
        "deepnote_cell_height": 679.375,
        "deepnote_output_heights": [
          null,
          21.1875,
          304
        ],
        "deepnote_app_coordinates": {
          "h": 5,
          "w": 12,
          "x": 0,
          "y": 0
        },
        "deepnote_to_be_reexecuted": true,
        "cell_id": "f561002a777b47929a77a1b00eb17656",
        "deepnote_cell_type": "code"
      },
      "outputs": [],
      "execution_count": null,
      "block_group": "3e07dd9c87e4490cb8b7d5af1b14e2b3"
    },
    {
      "cell_type": "code",
      "source": "# Extract the largest connected component\nSTRING_PPI_largestComp = list(STRING_PPI_cc.subgraph(c).copy() for c in sorted(nx.connected_components(STRING_PPI_cc), key = len, reverse = True))[0]\nprint(len(STRING_PPI_largestComp.nodes()), len(STRING_PPI_largestComp.edges()))\nnx.draw(STRING_PPI_largestComp, with_labels = True, pos = STRING_PPI_pos, node_size = 1000, node_color = \"#1BB3F5\")\n",
      "metadata": {
        "tags": [],
        "source_hash": null,
        "execution_start": 1692195067221,
        "execution_millis": 530,
        "deepnote_cell_height": 519.1875,
        "deepnote_output_heights": [
          null,
          304
        ],
        "deepnote_app_coordinates": {
          "h": 5,
          "w": 12,
          "x": 0,
          "y": 0
        },
        "deepnote_to_be_reexecuted": true,
        "cell_id": "6d0d29dadd404702a0443a397eed7302",
        "deepnote_cell_type": "code"
      },
      "outputs": [],
      "execution_count": null,
      "block_group": "efa402633d774184a4fe2e8cefbd078a"
    },
    {
      "cell_type": "markdown",
      "source": "##### Communities\nIn network biology or graph theory in general, a community is defined as a subset of nodes within the graph such that connections between the nodes are denser than connections with the rest of the network.\nWe will talk about community detection algorithms in the next part.",
      "metadata": {
        "tags": [],
        "deepnote_cell_height": 211.78125,
        "deepnote_app_coordinates": {
          "h": 5,
          "w": 12,
          "x": 0,
          "y": 0
        },
        "cell_id": "89ab4e5b0016413580ffa09ee8b3c809",
        "deepnote_cell_type": "markdown"
      },
      "block_group": "e65a8dc5d5454f27a4e71b8aef8b4ca9"
    },
    {
      "cell_type": "markdown",
      "source": "#### Network-level analysis\n\n\n##### Density\n\nThe density of a network is the ratio of the number of edges present in the network to the total number of possible edges. The density of a network can range from 0 for empty or disconnected network to 1 for completely connected network.\n\n$$\nDensity = \\dfrac{\\text{Number of edges in the network}}{\\text{Total number of edges in the network}} = \\dfrac{2|E|}{|N|(|N|-1)}\n$$\nwhere${|E|}$ is the number of edges in the network and ${|N|}$ is the number of nodes in the network}.\n\nThe density d(G) of a graph is a measure of how many links between nodes exist compared to how many links between nodes are possible, given the graph size (number of nodes) and the graph order (number of links).\n\nThe density of a network is important to consider for two reasons. First, it can help us understand how connected the network is compared to how connected it might be. Second, when comparing two networks with the same number of nodes and the same type of relationships, it can tell us how the networks are different.\n\nFor example, let us imagine that there are two gene networks representing two different stages, before and after treatment, of the same disease. Network density can be used to compare the two networks and assess the changes in connectivity and structure of the networks. By assessing the change in network density we can have a priliminary understanding if there has been a gain or loss of connections between the nodes.\n\n<b>Word of caution:</b> There might also be scenarios when the density has not changed. However, it does not mean that the network has not altered. It can happen that the same number of edges were lost and gained throughout the network. In such circumstances, a more detailed comparision of network must be carried out.",
      "metadata": {
        "tags": [],
        "deepnote_cell_height": 435.921875,
        "deepnote_app_coordinates": {
          "h": 5,
          "w": 12,
          "x": 0,
          "y": 0
        },
        "cell_id": "9c92eedf314547418cdd520e7951a918",
        "deepnote_cell_type": "markdown"
      },
      "block_group": "e46e744e323a48ef9b5a2d9659cf04ac"
    },
    {
      "cell_type": "code",
      "source": "# Example network with density 0\nSTRING_PPI_den0 = STRING_PPI.copy()\nedge_remove = list(STRING_PPI_den0.edges)\nSTRING_PPI_den0.remove_edges_from(edge_remove)\nnx.draw(STRING_PPI_den0, with_labels = True, pos = STRING_PPI_pos, node_size = 1000, node_color = \"#1BB3F5\")\nprint(\"Network density:\", nx.density(STRING_PPI_den0))",
      "metadata": {
        "tags": [],
        "source_hash": null,
        "execution_start": 1692195067466,
        "execution_millis": 400,
        "deepnote_cell_height": 537.1875,
        "deepnote_output_heights": [
          null,
          304
        ],
        "deepnote_app_coordinates": {
          "h": 5,
          "w": 12,
          "x": 0,
          "y": 0
        },
        "deepnote_to_be_reexecuted": true,
        "cell_id": "6bf170d8f2bd4bb0ab9302476b1a08ff",
        "deepnote_cell_type": "code"
      },
      "outputs": [],
      "execution_count": null,
      "block_group": "6d818e0c7ec64cc9b9baab8e94509873"
    },
    {
      "cell_type": "code",
      "source": "# Density of the STRING PPI network\nnx.draw(STRING_PPI, with_labels = True, pos = STRING_PPI_pos, node_size = 1000, node_color = \"#1BB3F5\")\nprint(\"Network density:\", nx.density(STRING_PPI))",
      "metadata": {
        "tags": [],
        "source_hash": null,
        "execution_start": 1692195067714,
        "execution_millis": 401,
        "deepnote_cell_height": 478.1875,
        "deepnote_output_heights": [
          null,
          304
        ],
        "deepnote_app_coordinates": {
          "h": 5,
          "w": 12,
          "x": 0,
          "y": 0
        },
        "deepnote_to_be_reexecuted": true,
        "cell_id": "bb1e7860842d4370b69283876b9e70a0",
        "deepnote_cell_type": "code"
      },
      "outputs": [],
      "execution_count": null,
      "block_group": "a6bbc5a03fe64f96b68a5e1fffc12cc8"
    },
    {
      "cell_type": "code",
      "source": "# Example network with density 1\nSTRING_PPI_den1 = nx.complete_graph(STRING_PPI.nodes)\nnx.draw(STRING_PPI_den1, with_labels = True, pos = STRING_PPI_pos, node_size = 1000, node_color = \"#1BB3F5\")\nprint(\"Network density:\", nx.density(STRING_PPI_den1))",
      "metadata": {
        "tags": [],
        "source_hash": null,
        "execution_start": 1692195068010,
        "execution_millis": 456,
        "deepnote_cell_height": 501.1875,
        "deepnote_output_heights": [
          null,
          304
        ],
        "deepnote_app_coordinates": {
          "h": 5,
          "w": 12,
          "x": 0,
          "y": 0
        },
        "deepnote_to_be_reexecuted": true,
        "cell_id": "9fced41dc1454834b226956f63cf3345",
        "deepnote_cell_type": "code"
      },
      "outputs": [],
      "execution_count": null,
      "block_group": "d029bf339e3243cc9e6cb72fa667ae30"
    },
    {
      "cell_type": "markdown",
      "source": "##### Network diameter\n\nThe diameter of a network is the shortest path connecting the most distant nodes in the network. It is defined as the longest of all the calculated shortest paths in a connected network. The diameter is a representative of the linear size of the network. In other words, it defines the maximum number of hops required to reach from one node to another. A network with a smaller diameter may be more efficient in transfer of information, while a network with smaller diameter is more scalable.\n\n$$\n\\text{diameter} = \\max_{u,v \\in N} {d(u, v)}\n$$\n\nwhere ${d(u,v)}$ is the distance (length of shortest path) of node ${u}$ from node ${v}$ and ${N}$ is the set of all nodes in the network.",
      "metadata": {
        "tags": [],
        "deepnote_cell_height": 269.6875,
        "deepnote_app_coordinates": {
          "h": 5,
          "w": 12,
          "x": 0,
          "y": 0
        },
        "cell_id": "2358c89c962a49679c0811ff408c2be5",
        "deepnote_cell_type": "markdown"
      },
      "block_group": "3a37d86040f9436b93f91cee2a8bcd6f"
    },
    {
      "cell_type": "code",
      "source": "print(\"Diameter of network:\", nx.diameter(STRING_PPI))",
      "metadata": {
        "tags": [],
        "source_hash": null,
        "execution_start": 1692195068363,
        "execution_millis": 22,
        "deepnote_cell_height": 145.375,
        "deepnote_app_coordinates": {
          "h": 5,
          "w": 12,
          "x": 0,
          "y": 0
        },
        "deepnote_to_be_reexecuted": true,
        "cell_id": "f8c8f58ee9ed494a8dfbbf4b4c72a075",
        "deepnote_cell_type": "code"
      },
      "outputs": [],
      "execution_count": null,
      "block_group": "f1425fa492ed42cc8b1e49a765aa1276"
    },
    {
      "cell_type": "markdown",
      "source": "##### Clustering coefficient\n\nClustering coefficient is a measure of the degree to which nodes in a graph tend to cluster together.\n\nTwo versions of this measure exist: the global and the local. The global version was designed to give an overall indication of the clustering in the network, whereas the local gives an indication of the embeddedness of single nodes.\n\nThe clustering coefficient of a node or local clustering coefficient is measured as the ratio of number of actual connections between the nodes of a neighbour to the number of all the possible connections. The clustering coefficient of a network is the average of the clustering coefficients of the nodes in the network. The value of clustering coefficient ranges from 0 to 1. A network with high clustering coefficient indicates it contains communities or densely connected group of nodes.\n\n<img src=\"./Figures/Clustering_coefficient.png\" alt=\"Clustering coefficient\" width=\"450\" height=\"450\"/>\n\n<strong>Figure:</strong> Calculation of clustering coefficient of a node. \n\nImage from https://www.geeksforgeeks.org/clustering-coefficient-graph-theory/",
      "metadata": {
        "tags": [],
        "owner_user_id": "f7ca5644-8a15-47aa-b939-64cefdde8fd2",
        "deepnote_cell_height": 520.515625,
        "deepnote_app_coordinates": {
          "h": 5,
          "w": 12,
          "x": 0,
          "y": 0
        },
        "cell_id": "461116d5a2f1408ea7b5406318bb6020",
        "deepnote_cell_type": "markdown"
      },
      "block_group": "3681987450c948cc918c20360b7045ae"
    },
    {
      "cell_type": "code",
      "source": "clustering_coef = nx.clustering(STRING_PPI)\nclustering_coef = {key : round(clustering_coef[key], 2) for key in clustering_coef}\nnx.draw(STRING_PPI, labels = clustering_coef, pos = STRING_PPI_pos, node_size = 1000, node_color = \"#1BB3F5\")\nprint(\"Average clustering coefficient:\", nx.average_clustering(STRING_PPI))",
      "metadata": {
        "tags": [],
        "source_hash": null,
        "execution_start": 1692195068371,
        "execution_millis": 452,
        "deepnote_cell_height": 501.1875,
        "deepnote_output_heights": [
          null,
          304
        ],
        "deepnote_app_coordinates": {
          "h": 5,
          "w": 12,
          "x": 0,
          "y": 0
        },
        "deepnote_to_be_reexecuted": true,
        "cell_id": "b241258fcebd4f55ac4d3496fea8b3dd",
        "deepnote_cell_type": "code"
      },
      "outputs": [],
      "execution_count": null,
      "block_group": "ebf624fd0ea94a5e95c9bb4cc95e4163"
    },
    {
      "cell_type": "markdown",
      "source": "##### Network modularity\n\nModularity is a measure of the structure of networks or graphs which measures the strength of division of a network into modules (also called groups, clusters or communities). Networks with high modularity have dense connections between the nodes within modules but sparse connections between nodes in different modules. The modularity of a network is defined as:\n\n<img src=\"./Figures/Network_mod_formula.png\" alt=\"alt text\" title=\"Image from \" width=\"450\" height=\"450\"/>\n\nwhere $m$ is the number of edges, $A_{i,j}$  is the adjacency matrix of G, $k$ is the degree of $i$, $γ$ is the resolution parameter, and $δ(c_{i},c_{j})$ is 1 if node $i$ and node $j$ are in the same community else 0.\n\nIf resolution is less than 1, modularity favors larger communities. Greater than 1 favors smaller communities.\n\nModularity of a network can be either positive or negative, with positive values indicating presence of modular structure or communities in the network.",
      "metadata": {
        "tags": [],
        "deepnote_cell_height": 421.234375,
        "deepnote_app_coordinates": {
          "h": 5,
          "w": 12,
          "x": 0,
          "y": 0
        },
        "cell_id": "bb74cce279bc429da82b8e3684d08e36",
        "deepnote_cell_type": "markdown"
      },
      "block_group": "35c7b702e69e445b80b559492e18f8e1"
    },
    {
      "cell_type": "code",
      "source": "Gm = nx.Graph()\n# add the nodes\nnodelist = ['A','B','C','D','E','F']\nGm.add_nodes_from(nodelist)\n# add the edges\nedgeList = [('A','B'),('B','C'),('A','C'),('A','D'),('D','E'),('D','F')] #list of tuples\nGm.add_edges_from(edgeList) \nnx.draw(Gm, with_labels =True, node_color = 'pink', node_size = 900)",
      "metadata": {
        "tags": [],
        "source_hash": null,
        "execution_start": 1692195068670,
        "execution_millis": 623,
        "deepnote_cell_height": 522,
        "deepnote_output_heights": [
          304
        ],
        "deepnote_app_coordinates": {
          "h": 5,
          "w": 12,
          "x": 0,
          "y": 0
        },
        "deepnote_to_be_reexecuted": true,
        "cell_id": "fc70abf43cf64999938f9b8b78130ae2",
        "deepnote_cell_type": "code"
      },
      "outputs": [],
      "execution_count": null,
      "block_group": "a59d558d49e5426198bb3f232dc79d54"
    },
    {
      "cell_type": "code",
      "source": "#import networkx.algorithms.community as nx_comm\nnx.algorithms.community.modularity(Gm, [{'A', 'B', 'C'}, {'E','D','F'}])",
      "metadata": {
        "tags": [],
        "source_hash": null,
        "execution_start": 1692195069049,
        "execution_millis": 49,
        "deepnote_cell_height": 131.1875,
        "deepnote_output_heights": [
          21.1875
        ],
        "deepnote_app_coordinates": {
          "h": 5,
          "w": 12,
          "x": 0,
          "y": 0
        },
        "deepnote_to_be_reexecuted": true,
        "cell_id": "1a3704e0de854b1887e07084567fb976",
        "deepnote_cell_type": "code"
      },
      "outputs": [],
      "execution_count": null,
      "block_group": "635e155617a54676950e91e3026cbe53"
    },
    {
      "cell_type": "code",
      "source": "Gm.add_edge('E','C')\nnx.algorithms.community.modularity(Gm, [{'A', 'B', 'C'}, {'E','D','F'}])",
      "metadata": {
        "tags": [],
        "source_hash": null,
        "execution_start": 1692195069050,
        "execution_millis": 14,
        "deepnote_cell_height": 131.1875,
        "deepnote_output_heights": [
          21.1875
        ],
        "deepnote_app_coordinates": {
          "h": 5,
          "w": 12,
          "x": 0,
          "y": 0
        },
        "deepnote_to_be_reexecuted": true,
        "cell_id": "abbf2b750d07422fa5d7b4b779294f85",
        "deepnote_cell_type": "code"
      },
      "outputs": [],
      "execution_count": null,
      "block_group": "30d1edaef1a1412ea7645edcb6103abe"
    },
    {
      "cell_type": "code",
      "source": "Gm.remove_edge('E','C')\nGm.add_edge('E','F')\nnx.algorithms.community.modularity(Gm, [{'A', 'B', 'C'}, {'E','D','F'}])",
      "metadata": {
        "tags": [],
        "source_hash": null,
        "execution_start": 1692195069051,
        "execution_millis": 13,
        "deepnote_cell_height": 149.1875,
        "deepnote_output_heights": [
          21.1875
        ],
        "deepnote_app_coordinates": {
          "h": 5,
          "w": 12,
          "x": 0,
          "y": 0
        },
        "deepnote_to_be_reexecuted": true,
        "cell_id": "2b4bbc08d4b44a18bd4bdc6329bb7956",
        "deepnote_cell_type": "code"
      },
      "outputs": [],
      "execution_count": null,
      "block_group": "2409bd14d72f4e6f961641a63a0e2aa1"
    },
    {
      "cell_type": "code",
      "source": "# Modularity the STRING PPI networks used earlier\nprint(nx.algorithms.community.modularity(STRING_PPI, nx.connected_components(STRING_PPI)))\nprint(nx.algorithms.community.modularity(STRING_PPI, nx.connected_components(STRING_PPI_cc)))\nprint(nx.algorithms.community.modularity(STRING_PPI, nx.connected_components(STRING_PPI_den0)))\nprint(nx.algorithms.community.modularity(STRING_PPI, nx.connected_components(STRING_PPI_den1)))",
      "metadata": {
        "tags": [],
        "source_hash": null,
        "execution_start": 1692195069057,
        "execution_millis": 10,
        "deepnote_cell_height": 239.75,
        "deepnote_app_coordinates": {
          "h": 5,
          "w": 12,
          "x": 0,
          "y": 0
        },
        "deepnote_to_be_reexecuted": true,
        "cell_id": "51e36e629cff49c19b3aa05f4fda4628",
        "deepnote_cell_type": "code"
      },
      "outputs": [],
      "execution_count": null,
      "block_group": "af22cdc55a6b49ce9b3618918d935570"
    },
    {
      "cell_type": "markdown",
      "source": "##### Network topology\n\nNetwork topology refers to the overall physical and logical arrangement of nodes and  edges in a network. The topology dictates the flow of information within a network and thus its function. Networks can assume various topologies as shown in the figure below:\n\n<img src=\"./Figures/Network_topologies.png\" alt=\"Network toplogies\" width=\"450\" height=\"450\"/>\n\n<b>Figure:</b> Different types of network toplogies. \n\nImage from https://simple.wikipedia.org/wiki/Network_topology\n\nIn real world networks, it has been seen that networks often contain high number of nodes with smaller connections connected by small number of highly connected nodes or hubs. This type of topology is referred to as scale-free topology and has been found to be occuring in biological networks as well. In the following section, we discuss scale-free topology in grater detaila and show how to detect if a network is scale-free.",
      "metadata": {
        "deepnote_app_coordinates": {
          "h": 5,
          "w": 12,
          "x": 0,
          "y": 0
        },
        "cell_id": "3278c2e52292487c9c57010415ce2a35",
        "deepnote_cell_type": "markdown"
      },
      "block_group": "3278c2e52292487c9c57010415ce2a35"
    },
    {
      "cell_type": "markdown",
      "source": "##### Scale-free topology\n\nA scale-free network is a network whose degree distribution follows a power law, at least asymptotically. \n\nA network is deemed scale free if the fraction of nodes with degree $k$ follows a power-law distribution $k^{-α}$, where $2<α<3$. The smaller the value of $α$ the more important the role of hubs in the network while at $α>3$ the hubs are not relevant.\n\nIn more practical terms, in scale-free networks most of the nodes are connected to a low number of neighbours and there are a small number of high-degree nodes (hubs) that provide high connectivity to the network. ",
      "metadata": {
        "tags": [],
        "deepnote_cell_height": 205.953125,
        "deepnote_app_coordinates": {
          "h": 5,
          "w": 12,
          "x": 0,
          "y": 0
        },
        "cell_id": "4823ca316509477a9fdc01a8a447c81b",
        "deepnote_cell_type": "markdown"
      },
      "block_group": "9ee4a492256b4b2892e1384de183e29e"
    },
    {
      "cell_type": "code",
      "source": "# Let's create an example of \nG = nx.scale_free_graph(100, seed=10374196)\n\n# Then, let's visualize how the node degree variate across the network\n\ndegree_sequence = sorted((d for n, d in G.degree()), reverse=True)\ndmax = max(degree_sequence)\n\nfig, (ax1, ax2) = plt.subplots(1, 2, figsize=(12, 4))\n\nax1.plot(degree_sequence, \"b-\", marker=\"o\")\nax1.set_title(\"Degree Rank Plot\")\nax1.set_ylabel(\"Degree\")\nax1.set_xlabel(\"Rank\")\n\nax2.bar(*np.unique(degree_sequence, return_counts=True))\nax2.set_title(\"Degree histogram\")\nax2.set_xlabel(\"Degree\")\nax2.set_ylabel(\"# of Nodes\")\n\nfig.tight_layout()\nplt.show()",
      "metadata": {
        "tags": [],
        "source_hash": null,
        "execution_start": 1692195069110,
        "execution_millis": 830,
        "deepnote_cell_height": 752,
        "deepnote_output_heights": [
          282
        ],
        "deepnote_app_coordinates": {
          "h": 5,
          "w": 12,
          "x": 0,
          "y": 0
        },
        "deepnote_to_be_reexecuted": true,
        "cell_id": "bc7bb61eb28b47d9b872cba288ee4ef7",
        "deepnote_cell_type": "code"
      },
      "outputs": [],
      "execution_count": null,
      "block_group": "a3362d726366452585adb983da33e00f"
    },
    {
      "cell_type": "markdown",
      "source": "Let's now see how to verify whether the given network follows a power law. ",
      "metadata": {
        "tags": [],
        "deepnote_cell_height": 52.390625,
        "deepnote_app_coordinates": {
          "h": 5,
          "w": 12,
          "x": 0,
          "y": 0
        },
        "cell_id": "e200819ec8bf47ff9c980502ed68b532",
        "deepnote_cell_type": "markdown"
      },
      "block_group": "d09945e1d96a4bd983807e9d7413277d"
    },
    {
      "cell_type": "code",
      "source": "# First, create a degree distribution variable from our network\ndegree_sequence = sorted([d for n, d in G.degree()], reverse=True) # used for degree distribution and powerlaw test\n\n# Then fit the data to powerlaw distributions:\n# Power laws are probability distributions with the form:p(x)∝x−α\nfit = powerlaw.Fit(degree_sequence, xmin=1) \n\n# Then you can plot:\nfig2 = fit.plot_pdf(color='b', linewidth=2)\nfit.power_law.plot_pdf(color='g', linestyle='--', ax=fig2)\nplt.show()\nprint(\"Value of alpha:\", fit.power_law.alpha)\n",
      "metadata": {
        "tags": [],
        "source_hash": null,
        "execution_start": 1692195069838,
        "execution_millis": 872,
        "deepnote_cell_height": 613.1875,
        "deepnote_output_heights": [
          254
        ],
        "deepnote_app_coordinates": {
          "h": 5,
          "w": 12,
          "x": 0,
          "y": 0
        },
        "deepnote_to_be_reexecuted": true,
        "cell_id": "4730a318d61b4f659ce6da6af5dcd892",
        "deepnote_cell_type": "code"
      },
      "outputs": [],
      "execution_count": null,
      "block_group": "69100eb52aec4aa1b1179ac281b2ea8b"
    },
    {
      "cell_type": "markdown",
      "source": "### Self-study material:\n\n- <a href = \"https://ona-book.org/\" target = \"_blank\">Handbook of Graphs and Networks in People Analytics by Keith McNulty</a>\n\n- <a href = \"http://olizardo.bol.ucla.edu/classes/soc-111/lessons-winter-2022/4-lesson-graph-metrics.html\" target = \"_blank\">Graph Metrics</a>\n\n#### Articles:\n\n- <a href = \"https://doi.org/10.3389/fbioe.2020.00034\" target = \"_blank\">A Guide to Conquer the Biological Network Era Using Graph Theory</a>\n\n- <a href = \"https://doi.org/10.1186/1756-0381-4-10\" target = \"_blank\">Using graph theory to analyze biological networks</a>\n\n- <a href = \"https://doi.org/10.1038/nrg1272\" target = \"_blank\">Network biology: understanding the cell's functional organization</a>\n\n- <a href = \"https://www.researchgate.net/publication/342764859_ROLE_OF_NETWORK_BIOLOGY_IN_CANCER_RESEARCH\" target = \"_blank\">Role of Network Biology in Cancer Research</a>",
      "metadata": {
        "tags": [],
        "deepnote_cell_height": 288.34375,
        "deepnote_app_coordinates": {
          "h": 5,
          "w": 12,
          "x": 0,
          "y": 0
        },
        "cell_id": "8b6880ee21d342e78ce11db33ed5ddc5",
        "deepnote_cell_type": "markdown"
      },
      "block_group": "e4a4af64a1d54f1f8f14c4dc8747989d"
    },
    {
      "cell_type": "markdown",
      "source": "<a style='text-decoration:none;line-height:16px;display:flex;color:#5B5B62;padding:10px;justify-content:end;' href='https://deepnote.com?utm_source=created-in-deepnote-cell&projectId=567e54c1-8e1f-4560-8621-8b304ec1f642' target=\"_blank\">\n<img alt='Created in deepnote.com' style='display:inline;max-height:16px;margin:0px;margin-right:7.5px;' src='data:image/svg+xml;base64,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' > </img>\nCreated in <span style='font-weight:600;margin-left:4px;'>Deepnote</span></a>",
      "metadata": {
        "created_in_deepnote_cell": true,
        "deepnote_cell_type": "markdown"
      }
    }
  ],
  "nbformat": 4,
  "nbformat_minor": 0,
  "metadata": {
    "deepnote": {},
    "orig_nbformat": 2,
    "deepnote_app_layout": "powerful-article",
    "deepnote_notebook_id": "2449dba856c648afb0c2a37f78585a28",
    "deepnote_execution_queue": [],
    "deepnote_persisted_session": {
      "createdAt": "2023-08-17T13:01:35.848Z"
    }
  }
}