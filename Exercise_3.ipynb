{
 "cells": [
  {
   "cell_type": "markdown",
   "id": "162b5a77-3613-46c5-8cd4-5edc0ca0cc5a",
   "metadata": {},
   "source": [
    "## Exercise 3"
   ]
  },
  {
   "cell_type": "markdown",
   "id": "6bd2fb4c-a7ce-4bb4-9451-0504ecbbc8e5",
   "metadata": {},
   "source": [
    "<strong>Overview</strong>\n",
    "\n",
    "Identification of drugs for Squamous cell carcinoma of lung using network medicine approach.\n",
    "\n",
    "Provided are the human interactome, a list of known disease genes and a list of drugs along with their targets. Identify which of the given drugs would be the best possible treatment for the disease. Assuming that the best drug would be the one that directly targets the disease genes or genes close to the known disease genes, use network proximity between the drug targets and the disease genes to identify potential therapies.\n",
    "\n",
    "<strong>Tasks:</strong>\n",
    "- Read the human interactome as network. Explore the network and assess its topological properties (number of nodes andedges, density, number of connected components, modularity etc).\n",
    "- Extract the sub-network of the disease genes and assess its topological properties.\n",
    "- Are all the disease genes connected in the human interactome? If not, use Steiner tree to identify additional genes that may be required to connect the disconnected disease genes, if any. \n",
    "- Extract sub-network from the human interactome consisting of the known disease genes and the additional genes identified from Steiner tree. These total set of genes will henceforth be called the extended disease gene list.\n",
    "- Calculate the network separation between the targets of each drug and the disease genes. Based on the separation distance identify which drug would have the most therapeutic effect.\n",
    "- Does the drug with highest therapeutic potential change if the proximity is calculated using known disease genes and the extended disease genes?\n",
    "- Are the identified drugs currently in use for the disease in question? \n",
    "\n",
    "<strong>Files to use:</strong>\n",
    "- Network: Data/Exercise3_STRING_PPI.csv\n",
    "- Disease genes: Data/Exercise3_Disease_genes.csv\n",
    "- Drug list and their targets: Data/Exercise3_Drug_Targets.csv"
   ]
  },
  {
   "cell_type": "markdown",
   "id": "44845b07-3604-4fb2-b3dd-af58130a0f7c",
   "metadata": {},
   "source": [
    "<strong>Hints:</strong>\n",
    "- While using <code>steiner_tree</code>, use all the known disease genes as <code>terminal_nodes</code>. The resultant tree will contain the known disease genes as terminal nodes and some additional nodes as Steiner nodes. All the nodes of this tree could be used as the extended disease gene list.\n",
    "- To view drug related information, you could use DrugBank and OpenTargets platforms."
   ]
  },
  {
   "cell_type": "markdown",
   "id": "2fe1b6e3-ec8f-4467-8e15-c6f0e810972c",
   "metadata": {},
   "source": []
  }
 ],
 "metadata": {
  "kernelspec": {
   "display_name": "Python 3 (ipykernel)",
   "language": "python",
   "name": "python3"
  },
  "language_info": {
   "codemirror_mode": {
    "name": "ipython",
    "version": 3
   },
   "file_extension": ".py",
   "mimetype": "text/x-python",
   "name": "python",
   "nbconvert_exporter": "python",
   "pygments_lexer": "ipython3",
   "version": "3.9.18"
  }
 },
 "nbformat": 4,
 "nbformat_minor": 5
}
