{
 "cells": [
  {
   "cell_type": "markdown",
   "metadata": {
    "cell_id": "45aea490efcb4f0dba1ef4deba68a29d",
    "deepnote_cell_height": 380.296875,
    "deepnote_cell_type": "markdown",
    "tags": []
   },
   "source": [
    "## Final exercises\n",
    "\n",
    "<strong>Overview</strong>\n",
    "\n",
    "Exercise 1: From provided human PPI network identify the gene module with the most number of genes that are known to interact with the SARS-Cov-2 virus. The genes in this module might be important for the infection (guilt-by-association) and might act as a potential drug targets.\n",
    "\n",
    "Exercise 2: Prioritize the genes in the module identified in exercise 1 based on network centralities as top potential drug targets.\n",
    "\n",
    "Exercise 3: Use network proximities between the potential drug targets identified in exercise 2 and the targets of known drugs to identify potential drugs for SARS-Cov-2.\n",
    "\n",
    "<strong>Files to use:</strong>\n",
    "- Network: Data/Exercise_PPI_Net.csv\n",
    "- SARS-Cov-2 targets: Data/SARSCoV2_Targets.csv\n",
    "- Drug targets : Data/drug2targets.csv"
   ]
  },
  {
   "cell_type": "markdown",
   "metadata": {
    "cell_id": "b4bdea3c9a914a1dbff5093b9282506e",
    "deepnote_cell_height": 127.78125,
    "deepnote_cell_type": "markdown",
    "tags": []
   },
   "source": [
    "#### Exercise 1: Identify network modules in PPI network consisting of known SARS-Cov-2 targets\n",
    "- Indentify modules in the provided network using Girvan-Newman method\n",
    "- For each module detected check how many known SARS-Cov-2 targets it contain"
   ]
  },
  {
   "cell_type": "markdown",
   "metadata": {
    "cell_id": "6ae82040b71b4df79c2e50034172e9e4",
    "deepnote_cell_height": 178.5625,
    "deepnote_cell_type": "markdown",
    "tags": []
   },
   "source": [
    "#### Exercise 2: Prioritization of genes based on network centralities\n",
    "- Extract the module from the PPI identified to be important to SARS-CoV-2 in exercise 1\n",
    "- Calculate the centralities for each target\n",
    "- Identify the genes that are ranked highly by the degree centrality, closeness centrality and betweenness centrality.\n",
    "- Are there any genes that are common?"
   ]
  },
  {
   "cell_type": "markdown",
   "metadata": {
    "cell_id": "ec0621c6c2744c4592455c942abed6b6",
    "deepnote_cell_height": 127.78125,
    "deepnote_cell_type": "markdown",
    "tags": []
   },
   "source": [
    "#### Exercise 3: Drug repurposing using network based proximities\n",
    "- Calculate network proximities between known drug targets and genes identified in exercise 2 as potential targets\n",
    "- Identify which drugs could be used for the treatment of SARS-CoV-2\n"
   ]
  },
  {
   "cell_type": "markdown",
   "metadata": {
    "created_in_deepnote_cell": true,
    "deepnote_cell_type": "markdown"
   },
   "source": [
    "<a style='text-decoration:none;line-height:16px;display:flex;color:#5B5B62;padding:10px;justify-content:end;' href='https://deepnote.com?utm_source=created-in-deepnote-cell&projectId=567e54c1-8e1f-4560-8621-8b304ec1f642' target=\"_blank\">\n",
    "<img alt='Created in deepnote.com' style='display:inline;max-height:16px;margin:0px;margin-right:7.5px;' src='data:image/svg+xml;base64,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' > </img>\n",
    "Created in <span style='font-weight:600;margin-left:4px;'>Deepnote</span></a>"
   ]
  }
 ],
 "metadata": {
  "deepnote": {},
  "deepnote_execution_queue": [],
  "deepnote_notebook_id": "36b82032aefc41a89ca61f52cdb04afa",
  "kernelspec": {
   "display_name": "Python 3 (ipykernel)",
   "language": "python",
   "name": "python3"
  },
  "language_info": {
   "codemirror_mode": {
    "name": "ipython",
    "version": 3
   },
   "file_extension": ".py",
   "mimetype": "text/x-python",
   "name": "python",
   "nbconvert_exporter": "python",
   "pygments_lexer": "ipython3",
   "version": "3.9.12"
  }
 },
 "nbformat": 4,
 "nbformat_minor": 1
}
