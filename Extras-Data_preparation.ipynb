{
  "cells": [
    {
      "cell_type": "markdown",
      "source": "#### Data preparation",
      "metadata": {
        "tags": [],
        "deepnote_cell_height": 54,
        "cell_id": "c5604f9a61cf4d9cbcaedb0a1fdfdcb0",
        "deepnote_cell_type": "markdown"
      },
      "block_group": "4ec63c014db74071bf5e3a70f9b7e7bd"
    },
    {
      "cell_type": "code",
      "source": "# Install required packages\nif (!require(\"BiocManager\", quietly = TRUE))\n    install.packages(\"BiocManager\")\n\nBiocManager::install(\"biomaRt\")",
      "metadata": {
        "tags": [],
        "source_hash": "4abce5d1",
        "execution_start": 1692191577795,
        "execution_millis": 6,
        "is_output_hidden": false,
        "deepnote_cell_height": 178.796875,
        "deepnote_to_be_reexecuted": false,
        "deepnote_app_is_output_hidden": false,
        "cell_id": "87dc48a280434bb597f509c61810db8e",
        "deepnote_cell_type": "code"
      },
      "outputs": [
        {
          "output_type": "error",
          "ename": "SyntaxError",
          "evalue": "invalid syntax (405335517.py, line 2)",
          "traceback": [
            "\u001b[0;36m  Cell \u001b[0;32mIn [1], line 2\u001b[0;36m\u001b[0m\n\u001b[0;31m    if (!require(\"BiocManager\", quietly = TRUE))\u001b[0m\n\u001b[0m        ^\u001b[0m\n\u001b[0;31mSyntaxError\u001b[0m\u001b[0;31m:\u001b[0m invalid syntax\n"
          ]
        }
      ],
      "execution_count": 1,
      "block_group": "3ba817231c11481e9a16f0babca7adff"
    },
    {
      "cell_type": "markdown",
      "source": "##### Gene ID annotations for human interactome from Gysi et al., 2021",
      "metadata": {
        "tags": [],
        "deepnote_cell_height": 54,
        "cell_id": "b752bf0fdb3b4664a007c47b91ddec8d",
        "deepnote_cell_type": "markdown"
      },
      "block_group": "749877cec1a94f6ba79dd3ded9db504f"
    },
    {
      "cell_type": "code",
      "source": "library(biomaRt)\nensembl <- useEnsembl(biomart = \"genes\", dataset = \"hsapiens_gene_ensembl\")\nentrezGeneId_2_entrezGeneAcc <- getBM(attributes = c(\"ensembl_gene_id\", \"entrezgene_id\", \"entrezgene_accession\", \"description\", \"gene_biotype\"), mart = ensembl) #Total:67472\n\nppi <- read.csv(\"Data/Barabasi_CoV2_PPI.csv\", header = TRUE)\n\nentrez_ids <- unique(c(ppi$proteinA_entrezid, ppi$proteinB_entrezid))\n\nentrezGeneId_2_entrezGeneAcc <- entrezGeneId_2_entrezGeneAcc[entrezGeneId_2_entrezGeneAcc$entrezgene_id %in% entrez_ids, c(\"entrezgene_id\", \"entrezgene_accession\")]\n\nwrite.csv(entrezGeneId_2_entrezGeneAcc, \"Data/Barabasi_CoV2_PPI_nodeAnnot.csv\", row.names = FALSE)",
      "metadata": {
        "tags": [],
        "source_hash": "533977e1",
        "owner_user_id": "cf8a377c-b6c9-4da5-a3ce-517478c9d31d",
        "output_cleared": false,
        "execution_start": 1658824739682,
        "execution_millis": 35,
        "deepnote_cell_height": 261,
        "deepnote_to_be_reexecuted": true,
        "cell_id": "e16e0da6a61f4ad4b746886fec7572be",
        "deepnote_cell_type": "code"
      },
      "outputs": [],
      "execution_count": null,
      "block_group": "5d11afee49a04e5bae6f9f1d4530757a"
    },
    {
      "cell_type": "markdown",
      "source": "##### STRING network for exercise",
      "metadata": {
        "tags": [],
        "deepnote_cell_height": 54,
        "cell_id": "008ff1f65d7f4709b9f5b85cce091db7",
        "deepnote_cell_type": "markdown"
      },
      "block_group": "3a41768a8ae7402598e9e423bd7ba3b8"
    },
    {
      "cell_type": "code",
      "source": "library(STRINGdb)\nlibrary(igraph)\nlibrary(org.Hs.eg.db)\n\n\n# Read the Therapeutic Target Database (TTD) Covid-19 drug targets\nTTD_data <- read.table(\"Data/COVID19-Target-Data.txt\", sep = \"\\t\", skip = 24, fill = TRUE, quote = \"\", header = FALSE)\nTTD_data <- TTD_data[TTD_data$V2 %in% c(\"GENENAME\", \"UNIPROAC\", \"TARGNAME\", \"TARGSTAT\"), ]\n\n\nTTD_data <- reshape(TTD_data, direction = \"wide\",\n                    idvar = c(\"V1\"),\n                    v.names = c(\"V3\"),\n                    timevar = c(\"V2\"))\n\n\nTTD_data <- TTD_data[grep(\"_HUMAN\", TTD_data$V3.UNIPROAC), ]\n\nTTD_Covid_targets <- unique(na.exclude(TTD_data$V3.GENENAME))\nTTD_Covid_targets <- unlist(strsplit(TTD_Covid_targets, split = \"; |, \"))\nTTD_Covid_targets <- TTD_Covid_targets[!(TTD_Covid_targets %in% c(\"NO-GeName\"))]\nTTD_Covid_targets <- gsub(\"cullin 2\", \"CUL2\", TTD_Covid_targets)\n\n# Extract whole STRING network for human\nSTRING_db <- STRINGdb$new(version = \"11.5\", species = 9606)\ngenes <- as.data.frame(as.data.frame(org.Hs.egSYMBOL), stringsAsFactors = FALSE)\nSTRING_ids <- STRING_db$map(my_data_frame = genes, my_data_frame_id_col_names = \"symbol\", removeUnmappedRows = TRUE)\nSTRING_ixns <- STRING_db$get_interactions(STRING_ids$STRING_id)\nSTRING_human_PPI <- graph_from_data_frame(STRING_ixns, directed = FALSE)\n\n\n# Map the Covid targets to STRING_id\nTTD_Covid_targets_STRING_ids <- STRING_ids[STRING_ids$symbol %in% TTD_Covid_targets, ]\n\n\n# Extract the network of Covid targets\nSTRING_Covid_net <- induced_subgraph(STRING_human_PPI, V(STRING_human_PPI)[V(STRING_human_PPI)$name %in% TTD_Covid_targets_STRING_ids$STRING_id])\n\n# STRING_Covid_net <- ego(graph = STRING_human_PPI, \n                                   order = 1,\n                                   nodes = V(STRING_human_PPI)[V(STRING_human_PPI)$name %in% TTD_Covid_targets_STRING_ids$STRING_id])\n# STRING_Covid_net <- induced_subgraph(STRING_human_PPI, unlist(STRING_Covid_net))\nvcount(STRING_Covid_net)\necount(STRING_Covid_net)\ncount_components(STRING_Covid_net)\n\n\nSTRING_Covid_net <- as_data_frame(STRING_Covid_net, what = \"edges\")\nSTRING_Covid_net$from_geneSymbol <- STRING_ids$symbol[match(STRING_Covid_net$from, STRING_ids$STRING_id)]\nSTRING_Covid_net$to_geneSymbol <- STRING_ids$symbol[match(STRING_Covid_net$to, STRING_ids$STRING_id)]\n\nwrite.csv(STRING_Covid_net[, c(\"from\", \"from_geneSymbol\", \"to\", \"to_geneSymbol\", \"combined_score\")], \"Data/STRING_Covid_net.csv\", row.names = FALSE)\n\n",
      "metadata": {
        "tags": [],
        "source_hash": "3ea4728d",
        "deepnote_cell_height": 1020,
        "deepnote_to_be_reexecuted": true,
        "cell_id": "767ca708331248c78d02b0236e6c23bd",
        "deepnote_cell_type": "code"
      },
      "outputs": [],
      "execution_count": null,
      "block_group": "3cb3f7ce706844f69015d9bc0f089255"
    },
    {
      "cell_type": "markdown",
      "source": "##### Exercise network",
      "metadata": {
        "tags": [],
        "deepnote_cell_height": 54,
        "cell_id": "8b5e4fdec47445578fc83e2f0f02d1d6",
        "deepnote_cell_type": "markdown"
      },
      "block_group": "4e2f51250cb74591a34182d5224e3318"
    },
    {
      "cell_type": "code",
      "source": "library(igraph)\nlibrary(tidyr)\n\n# Read network\nBarabasi_Net <- read.csv(\"Data/Barabasi_CoV2_PPI.csv\")\nBarabasi_Net <- Barabasi_Net <- graph_from_data_frame(Barabasi_Net, directed = FALSE)\n\n\n# Read list of human genes interacting with SARS-Cov-2\nSarsCov_targets <- read.csv(\"Data/SARSCoV2_Targets.csv\")\n\n# Create subnetwork with the covid targets\nBarabasi_SarsCov_Net <- induced_subgraph(Barabasi_Net, V(Barabasi_Net)[V(Barabasi_Net)$name %in% SarsCov_targets$EntrezID])\nBarabasi_SarsCov_Net <- simplify(Barabasi_SarsCov_Net, remove.loops = TRUE) # remove loops\nisolated <- names(which(degree(Barabasi_SarsCov_Net)==0)) # remove isolated nodes\nBarabasi_SarsCov_Net <- delete.vertices(Barabasi_SarsCov_Net, isolated)\nBarabasi_SarsCov_Net <- set_vertex_attr(Barabasi_SarsCov_Net, \n                                        name = \"clustering_coefficient\", \n                                        value = transitivity(Barabasi_SarsCov_Net, type = \"local\", isolates = \"zero\"))\n\nBarabasi_SarsCov_Net <- induced_subgraph(Barabasi_SarsCov_Net, V(Barabasi_SarsCov_Net)[V(Barabasi_SarsCov_Net)$clustering_coefficient > 0.5])\nselected_SarsCov_genes <- V(Barabasi_SarsCov_Net)$name\n\n\n# Read disease genes association\ndisease_gene_links <- data.frame()\nfor(line in readLines(\"Data/Guney2016_GenesDisease.tsv\")){\n  tmp1 <- strsplit(line, \"\\t\")\n  tmp2 <- data.frame(disease = tmp1[[1]][2],\n                      genes = paste(tmp1[[1]][3:length(tmp1[[1]])], collapse = \";\"))\n  disease_gene_links <- rbind(disease_gene_links, tmp2)\n}\ndisease_gene_links <- separate_rows(disease_gene_links, \"genes\", sep = \";\")\n\n# Get disease genes from selected distant diseases from SARS-Cov-2\ndistant_diseases = c(\"peroxisomal disorders\", \"cardiomyopathy, hypertrophic\", \"anemia\", \"sarcoma\")\ndis_genes_select <- unique(disease_gene_links$genes[disease_gene_links$disease %in%  distant_diseases])\n\n# Create network for exercise\nExercise_Net <- induced_subgraph(Barabasi_Net, \n                                 V(Barabasi_Net)[V(Barabasi_Net)$name %in% c(selected_SarsCov_genes, dis_genes_select)])\nExercise_Net <- as_data_frame(Exercise_Net, what = \"edges\")\nwrite.csv(Exercise_Net, \"Exercise_PPI_Net.csv\", row.names = FALSE)\n",
      "metadata": {
        "tags": [],
        "source_hash": "f83d0e3",
        "deepnote_cell_height": 840,
        "deepnote_to_be_reexecuted": true,
        "cell_id": "b2a6f08f1f0c410dbc80e01f2a67dbe8",
        "deepnote_cell_type": "code"
      },
      "outputs": [],
      "execution_count": null,
      "block_group": "47401b889cf946a98371f8f7ac84a182"
    },
    {
      "cell_type": "markdown",
      "source": "<a style='text-decoration:none;line-height:16px;display:flex;color:#5B5B62;padding:10px;justify-content:end;' href='https://deepnote.com?utm_source=created-in-deepnote-cell&projectId=567e54c1-8e1f-4560-8621-8b304ec1f642' target=\"_blank\">\n<img alt='Created in deepnote.com' style='display:inline;max-height:16px;margin:0px;margin-right:7.5px;' src='data:image/svg+xml;base64,PD94bWwgdmVyc2lvbj0iMS4wIiBlbmNvZGluZz0iVVRGLTgiPz4KPHN2ZyB3aWR0aD0iODBweCIgaGVpZ2h0PSI4MHB4IiB2aWV3Qm94PSIwIDAgODAgODAiIHZlcnNpb249IjEuMSIgeG1sbnM9Imh0dHA6Ly93d3cudzMub3JnLzIwMDAvc3ZnIiB4bWxuczp4bGluaz0iaHR0cDovL3d3dy53My5vcmcvMTk5OS94bGluayI+CiAgICA8IS0tIEdlbmVyYXRvcjogU2tldGNoIDU0LjEgKDc2NDkwKSAtIGh0dHBzOi8vc2tldGNoYXBwLmNvbSAtLT4KICAgIDx0aXRsZT5Hcm91cCAzPC90aXRsZT4KICAgIDxkZXNjPkNyZWF0ZWQgd2l0aCBTa2V0Y2guPC9kZXNjPgogICAgPGcgaWQ9IkxhbmRpbmciIHN0cm9rZT0ibm9uZSIgc3Ryb2tlLXdpZHRoPSIxIiBmaWxsPSJub25lIiBmaWxsLXJ1bGU9ImV2ZW5vZGQiPgogICAgICAgIDxnIGlkPSJBcnRib2FyZCIgdHJhbnNmb3JtPSJ0cmFuc2xhdGUoLTEyMzUuMDAwMDAwLCAtNzkuMDAwMDAwKSI+CiAgICAgICAgICAgIDxnIGlkPSJHcm91cC0zIiB0cmFuc2Zvcm09InRyYW5zbGF0ZSgxMjM1LjAwMDAwMCwgNzkuMDAwMDAwKSI+CiAgICAgICAgICAgICAgICA8cG9seWdvbiBpZD0iUGF0aC0yMCIgZmlsbD0iIzAyNjVCNCIgcG9pbnRzPSIyLjM3NjIzNzYyIDgwIDM4LjA0NzY2NjcgODAgNTcuODIxNzgyMiA3My44MDU3NTkyIDU3LjgyMTc4MjIgMzIuNzU5MjczOSAzOS4xNDAyMjc4IDMxLjY4MzE2ODMiPjwvcG9seWdvbj4KICAgICAgICAgICAgICAgIDxwYXRoIGQ9Ik0zNS4wMDc3MTgsODAgQzQyLjkwNjIwMDcsNzYuNDU0OTM1OCA0Ny41NjQ5MTY3LDcxLjU0MjI2NzEgNDguOTgzODY2LDY1LjI2MTk5MzkgQzUxLjExMjI4OTksNTUuODQxNTg0MiA0MS42NzcxNzk1LDQ5LjIxMjIyODQgMjUuNjIzOTg0Niw0OS4yMTIyMjg0IEMyNS40ODQ5Mjg5LDQ5LjEyNjg0NDggMjkuODI2MTI5Niw0My4yODM4MjQ4IDM4LjY0NzU4NjksMzEuNjgzMTY4MyBMNzIuODcxMjg3MSwzMi41NTQ0MjUgTDY1LjI4MDk3Myw2Ny42NzYzNDIxIEw1MS4xMTIyODk5LDc3LjM3NjE0NCBMMzUuMDA3NzE4LDgwIFoiIGlkPSJQYXRoLTIyIiBmaWxsPSIjMDAyODY4Ij48L3BhdGg+CiAgICAgICAgICAgICAgICA8cGF0aCBkPSJNMCwzNy43MzA0NDA1IEwyNy4xMTQ1MzcsMC4yNTcxMTE0MzYgQzYyLjM3MTUxMjMsLTEuOTkwNzE3MDEgODAsMTAuNTAwMzkyNyA4MCwzNy43MzA0NDA1IEM4MCw2NC45NjA0ODgyIDY0Ljc3NjUwMzgsNzkuMDUwMzQxNCAzNC4zMjk1MTEzLDgwIEM0Ny4wNTUzNDg5LDc3LjU2NzA4MDggNTMuNDE4MjY3Nyw3MC4zMTM2MTAzIDUzLjQxODI2NzcsNTguMjM5NTg4NSBDNTMuNDE4MjY3Nyw0MC4xMjg1NTU3IDM2LjMwMzk1NDQsMzcuNzMwNDQwNSAyNS4yMjc0MTcsMzcuNzMwNDQwNSBDMTcuODQzMDU4NiwzNy43MzA0NDA1IDkuNDMzOTE5NjYsMzcuNzMwNDQwNSAwLDM3LjczMDQ0MDUgWiIgaWQ9IlBhdGgtMTkiIGZpbGw9IiMzNzkzRUYiPjwvcGF0aD4KICAgICAgICAgICAgPC9nPgogICAgICAgIDwvZz4KICAgIDwvZz4KPC9zdmc+' > </img>\nCreated in <span style='font-weight:600;margin-left:4px;'>Deepnote</span></a>",
      "metadata": {
        "created_in_deepnote_cell": true,
        "deepnote_cell_type": "markdown"
      }
    }
  ],
  "nbformat": 4,
  "nbformat_minor": 0,
  "metadata": {
    "deepnote": {},
    "orig_nbformat": 2,
    "deepnote_notebook_id": "c8816dc14a254741b5374cc440707162",
    "deepnote_execution_queue": []
  }
}