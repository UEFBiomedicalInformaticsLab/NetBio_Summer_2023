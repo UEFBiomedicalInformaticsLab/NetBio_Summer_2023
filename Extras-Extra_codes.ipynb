{
  "cells": [
    {
      "cell_type": "code",
      "source": "# Upload python modules\nimport numpy as np\nimport networkx as nx\nimport pandas as pd\n\n# Import python modules for visualizations\nimport matplotlib.pylab as plt\nimport seaborn as sns\n\n%matplotlib inline\n\nimport separation # from Barabasi-lab\nimport Barabasi_proximities as prox",
      "metadata": {
        "tags": [],
        "source_hash": "4b418169",
        "execution_start": 1659961752671,
        "execution_millis": 4323,
        "deepnote_cell_height": 292,
        "deepnote_to_be_reexecuted": false,
        "cell_id": "8c783c4707a44e4cb0eea50a34777621",
        "deepnote_cell_type": "code"
      },
      "outputs": [],
      "execution_count": null,
      "block_group": "9dbe940784ff4ae09dabc2831f18df90"
    },
    {
      "cell_type": "code",
      "source": "# Reading the edgelist from STRING\nedge_list = pd.read_table(\"Data/1_STRING_network.tsv\")\nedge_list.head()\n\n# Creating network from edge list \nSTRING_PPI = nx.from_pandas_edgelist(df = edge_list,\n                            source = \"node1\", \n                            target = \"node2\",\n                            edge_attr = \"combined_score\")\nSTRING_PPI_pos = nx.spring_layout(STRING_PPI, seed = 20)",
      "metadata": {
        "tags": [],
        "source_hash": "81d53230",
        "execution_start": 1659961757372,
        "execution_millis": 72,
        "deepnote_cell_height": 238,
        "deepnote_to_be_reexecuted": false,
        "cell_id": "6a16c44788354caba2bd21f3b12ce37a",
        "deepnote_cell_type": "code"
      },
      "outputs": [],
      "execution_count": null,
      "block_group": "0be24d0de7894a85892a0905c15dbe6a"
    },
    {
      "cell_type": "code",
      "source": "geneSet1 = {\"JAK1\", \"FOXA1\"} # Diesease S\ngeneSet2 = {\"AR\", \"JAK2\"} # Drug T\nnetwork = STRING_PPI",
      "metadata": {
        "tags": [],
        "source_hash": "8de991c8",
        "execution_start": 1659961757459,
        "execution_millis": 14,
        "deepnote_cell_height": 112,
        "deepnote_to_be_reexecuted": false,
        "cell_id": "212dab310c8a45698f1cf840b139f86a",
        "deepnote_cell_type": "code"
      },
      "outputs": [],
      "execution_count": null,
      "block_group": "b2ecac32e00e49a2970d1eabeeb48bea"
    },
    {
      "cell_type": "code",
      "source": "prox.proximity_closest(STRING_PPI, geneSet1, geneSet2)",
      "metadata": {
        "tags": [],
        "source_hash": "6939295b",
        "execution_start": 1659961757497,
        "execution_millis": 702,
        "deepnote_cell_height": 113,
        "deepnote_output_heights": [
          21
        ],
        "deepnote_to_be_reexecuted": false,
        "cell_id": "20c7d3f33aa64de3b8a28cd2147435db",
        "deepnote_cell_type": "code"
      },
      "outputs": [
        {
          "output_type": "execute_result",
          "execution_count": 4,
          "data": {
            "text/plain": "1.0"
          },
          "metadata": {}
        }
      ],
      "execution_count": null,
      "block_group": "d6e4e4f70458459d9705f18a9444253d"
    },
    {
      "cell_type": "code",
      "source": "prox.proximity_shortest(STRING_PPI, geneSet1, geneSet2)",
      "metadata": {
        "tags": [],
        "source_hash": "18a15ade",
        "execution_start": 1659961757591,
        "execution_millis": 609,
        "deepnote_cell_height": 113,
        "deepnote_output_heights": [
          21
        ],
        "deepnote_to_be_reexecuted": false,
        "cell_id": "e1ca7ad8603e43eaacaf6c0806122994",
        "deepnote_cell_type": "code"
      },
      "outputs": [
        {
          "output_type": "execute_result",
          "execution_count": 5,
          "data": {
            "text/plain": "1.75"
          },
          "metadata": {}
        }
      ],
      "execution_count": null,
      "block_group": "61554e9e417a4b12ba2b4ee367f8248a"
    },
    {
      "cell_type": "code",
      "source": "topological_centre = prox.get_topological_centre(STRING_PPI, geneSet1)\nprox.proximity_centre(STRING_PPI, topological_centre, geneSet2)",
      "metadata": {
        "tags": [],
        "source_hash": "8117f9fe",
        "execution_start": 1659961757592,
        "execution_millis": 609,
        "deepnote_cell_height": 131,
        "deepnote_output_heights": [
          21
        ],
        "deepnote_to_be_reexecuted": false,
        "cell_id": "9f0453aba6fe4200a010bf2147a89f4c",
        "deepnote_cell_type": "code"
      },
      "outputs": [
        {
          "output_type": "execute_result",
          "execution_count": 6,
          "data": {
            "text/plain": "1.75"
          },
          "metadata": {}
        }
      ],
      "execution_count": null,
      "block_group": "e982e914277f4f099ace97d0ca7de613"
    },
    {
      "cell_type": "code",
      "source": "topological_centre",
      "metadata": {
        "tags": [],
        "source_hash": "dd239114",
        "execution_start": 1659961757719,
        "execution_millis": 0,
        "deepnote_cell_height": 113,
        "deepnote_output_heights": [
          21
        ],
        "deepnote_to_be_reexecuted": false,
        "cell_id": "4c26b1cefbe04e2a9de7a893ff29532c",
        "deepnote_cell_type": "code"
      },
      "outputs": [
        {
          "output_type": "execute_result",
          "execution_count": 7,
          "data": {
            "text/plain": "{'FOXA1', 'JAK1'}"
          },
          "metadata": {}
        }
      ],
      "execution_count": null,
      "block_group": "f39bd45bc7504f9d8b13ea1a50a7171d"
    },
    {
      "cell_type": "code",
      "source": "prox.proximity_kernel(STRING_PPI, geneSet1, geneSet2)",
      "metadata": {
        "tags": [],
        "source_hash": "b0a3f1b9",
        "execution_start": 1659961757763,
        "execution_millis": 440,
        "deepnote_cell_height": 113,
        "deepnote_output_heights": [
          21
        ],
        "deepnote_to_be_reexecuted": false,
        "cell_id": "9718475a346c4a27ae78164e541cf10c",
        "deepnote_cell_type": "code"
      },
      "outputs": [
        {
          "output_type": "execute_result",
          "execution_count": 8,
          "data": {
            "text/plain": "2.4730523312793475"
          },
          "metadata": {}
        }
      ],
      "execution_count": null,
      "block_group": "fe89a85d25814121b9814211401b17fb"
    },
    {
      "cell_type": "code",
      "source": "",
      "metadata": {
        "tags": [],
        "source_hash": "b623e53d",
        "execution_start": 1659961757789,
        "execution_millis": 874040232,
        "deepnote_cell_height": 76,
        "deepnote_to_be_reexecuted": false,
        "cell_id": "b9fd98ed7f9948efab70c99058f130b5",
        "deepnote_cell_type": "code"
      },
      "outputs": [],
      "execution_count": null,
      "block_group": "5c45dbea3eaf468cafe520e2f10666ca"
    },
    {
      "cell_type": "markdown",
      "source": "http://vafaeelab.com/COVID19_repositioning.html",
      "metadata": {
        "tags": [],
        "deepnote_cell_height": 52.390625,
        "cell_id": "af1ff3020e6443849cbd23f0fdbe9db4",
        "deepnote_cell_type": "markdown"
      },
      "block_group": "03cfbd67170044c99bdc0838bdfd40ba"
    },
    {
      "cell_type": "markdown",
      "source": "**Network-based proximity between drugs and diseases**\n\nNetwork based proximities have been extensively explored for identifying effective drugs for a disease and for drug repurposing. However, there exists several ways how these proximities between drug targets and disease genes are evaluated. Here, we show four such methods. Given ${S}$, the set of disease proteins, ${T}$, the set of drug targets and ${d(s,t)}$, the shortest path length between nodes ${s}$ and ${t}$ in the network, we define:\n\n**Closest:** mean of the minimum distances of genes in ${T}$ to the genes in ${S}$.\n\n$$\n\\text{d}_{c}{(S,T)} =  \\frac{1}{||T||}\\sum_{t \\in T}\\min_{s \\in S}\\text{d(s,t)}\n$$\n\n**Shortest:** mean of the mean distances of genes in ${T}$ to all the genes in ${S}$.\n\n$$\n\\text{d}_{s}{(S,T)} = \\frac{1}{||T||}\\sum_{t \\in T}\\frac{1}{||S||}\\sum_{s \\in S}\\text{d(s,t)}\n$$\n\n**Kernel:**\n\n$$\n\\text{d}_{k}{(S,T)} = \\frac{-1}{||T||}\\sum_{t \\in T}\\ln\\sum_{s \\in S}\\frac{e^{-(d(s,t)+1)}}{|S|}\n$$\n\n**Centre:** mean of the distances of genes in ${T}$ to the topological centre of the genes in ${S}$.\n\n$$\n\\text{d}_{cc}{(S,T)} = \\frac{1}{||T||}\\text{d(centre}_{s}{,t)}\n$$\n\nwhere ${centre}_{S}$, the topological centre of ${S}$ was defined as:\n\n$$\n\\text{centre}_{S} = {argmin}_{u \\in S}\\sum_{s \\in S} {d(s, u)}\n$$\n\nin case the ${centre}_{S}$ is not unique, all the nodes are used to define the centre and the shortest path lengths to these nodes are averages.\n\n(From:  https://www.nature.com/articles/ncomms10331#Sec12)\n",
      "metadata": {
        "tags": [],
        "deepnote_cell_height": 719.90625,
        "cell_id": "a0603d593d244049b657e374b72b79bc",
        "deepnote_cell_type": "markdown"
      },
      "block_group": "c3efafcc8de8432fb775b52a3c7a90ee"
    },
    {
      "cell_type": "code",
      "source": "# prepare known drug-target associations \ndrug2targets = {}\nlist_drugs_to_inv = ['Vincristine','Doxazosin']\nfor d in list_drugs_to_inv: \n    drug2targets[d] = [int(e) for e in d2g.loc[d2g['Name'] == d, 'entrez_id']]",
      "metadata": {
        "tags": [],
        "deepnote_cell_height": 133,
        "cell_id": "d05eb39bbc8d4f27a5ac7aa1cdd6731d",
        "deepnote_cell_type": "code"
      },
      "outputs": [],
      "execution_count": null,
      "block_group": "f3712fd1b9ad465d9ae6402208b983e2"
    },
    {
      "cell_type": "code",
      "source": "Drug_proximities = pd.DataFrame()\n\nfor drug in list_drugs_to_inv:\n    # print(drug)\n    genes_A = set(dt.EntrezID) & set(G.nodes())\n\n    genes_B = set(drug2targets[drug]) & set(G.nodes())\n    # print(len(genes_B))\n\n    proximity_closest = prox.proximity_closest(G, genes_A, genes_B)\n    proximity_shortest = prox.proximity_shortest(G, genes_A, genes_B)\n    proximity_kernel = prox.proximity_kernel(G, genes_A, genes_B)\n    \n    topological_centre = prox.get_topological_centre(G, genes_A)\n    proximity_centre = prox.proximity_centre(G, topological_centre, genes_B)\n\n    tmp = pd.DataFrame({\"Drug\" : drug, \n                            \"proximity_closest\" : proximity_closest,\n                            \"proximity_shortest\" : proximity_shortest,\n                            \"proximity_kernel\" : proximity_kernel,\n                            \"proximity_centre\" : proximity_centre}, index = [0])\n    Drug_proximities = pd.concat([Drug_proximities, tmp]).reset_index(drop = True)\n",
      "metadata": {
        "tags": [],
        "deepnote_cell_height": 457,
        "cell_id": "8e91dc27357e4d978e27bb7bca0c7290",
        "deepnote_cell_type": "code"
      },
      "outputs": [],
      "execution_count": null,
      "block_group": "c1857859f6724a29b7b649d208482f04"
    },
    {
      "cell_type": "code",
      "source": "Drug_proximities",
      "metadata": {
        "tags": [],
        "deepnote_cell_height": 61,
        "cell_id": "a2973b299a9041ea83225b28df11790e",
        "deepnote_cell_type": "code"
      },
      "outputs": [],
      "execution_count": null,
      "block_group": "f993cf2a1b2446d193d3a5012475b434"
    },
    {
      "cell_type": "markdown",
      "source": "<a style='text-decoration:none;line-height:16px;display:flex;color:#5B5B62;padding:10px;justify-content:end;' href='https://deepnote.com?utm_source=created-in-deepnote-cell&projectId=567e54c1-8e1f-4560-8621-8b304ec1f642' target=\"_blank\">\n<img alt='Created in deepnote.com' style='display:inline;max-height:16px;margin:0px;margin-right:7.5px;' src='data:image/svg+xml;base64,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' > </img>\nCreated in <span style='font-weight:600;margin-left:4px;'>Deepnote</span></a>",
      "metadata": {
        "created_in_deepnote_cell": true,
        "deepnote_cell_type": "markdown"
      }
    }
  ],
  "nbformat": 4,
  "nbformat_minor": 0,
  "metadata": {
    "deepnote": {},
    "orig_nbformat": 2,
    "deepnote_notebook_id": "a7a7b370cbd845d29f093aad050029f3",
    "deepnote_execution_queue": []
  }
}